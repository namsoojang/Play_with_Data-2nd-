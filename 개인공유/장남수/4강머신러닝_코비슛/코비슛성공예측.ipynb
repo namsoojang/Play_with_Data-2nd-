{
 "cells": [
  {
   "cell_type": "markdown",
   "metadata": {},
   "source": [
    "# 코비 슛 성공 예측"
   ]
  },
  {
   "cell_type": "markdown",
   "metadata": {},
   "source": [
    "### 데이터 로드"
   ]
  },
  {
   "cell_type": "code",
   "execution_count": 1,
   "metadata": {
    "collapsed": true
   },
   "outputs": [],
   "source": [
    "#https://www.kaggle.com/c/kobe-bryant-shot-selection/data\n",
    "import pandas as pd\n",
    "\n",
    "raw = pd.read_csv(\"data.csv\")"
   ]
  },
  {
   "cell_type": "code",
   "execution_count": 2,
   "metadata": {},
   "outputs": [
    {
     "data": {
      "text/plain": [
       "(30697, 25)"
      ]
     },
     "execution_count": 2,
     "metadata": {},
     "output_type": "execute_result"
    }
   ],
   "source": [
    "raw.shape"
   ]
  },
  {
   "cell_type": "code",
   "execution_count": 3,
   "metadata": {
    "scrolled": true
   },
   "outputs": [
    {
     "data": {
      "text/html": [
       "<div>\n",
       "<style>\n",
       "    .dataframe thead tr:only-child th {\n",
       "        text-align: right;\n",
       "    }\n",
       "\n",
       "    .dataframe thead th {\n",
       "        text-align: left;\n",
       "    }\n",
       "\n",
       "    .dataframe tbody tr th {\n",
       "        vertical-align: top;\n",
       "    }\n",
       "</style>\n",
       "<table border=\"1\" class=\"dataframe\">\n",
       "  <thead>\n",
       "    <tr style=\"text-align: right;\">\n",
       "      <th></th>\n",
       "      <th>action_type</th>\n",
       "      <th>combined_shot_type</th>\n",
       "      <th>game_event_id</th>\n",
       "      <th>game_id</th>\n",
       "      <th>lat</th>\n",
       "      <th>loc_x</th>\n",
       "      <th>loc_y</th>\n",
       "      <th>lon</th>\n",
       "      <th>minutes_remaining</th>\n",
       "      <th>period</th>\n",
       "      <th>...</th>\n",
       "      <th>shot_type</th>\n",
       "      <th>shot_zone_area</th>\n",
       "      <th>shot_zone_basic</th>\n",
       "      <th>shot_zone_range</th>\n",
       "      <th>team_id</th>\n",
       "      <th>team_name</th>\n",
       "      <th>game_date</th>\n",
       "      <th>matchup</th>\n",
       "      <th>opponent</th>\n",
       "      <th>shot_id</th>\n",
       "    </tr>\n",
       "  </thead>\n",
       "  <tbody>\n",
       "    <tr>\n",
       "      <th>0</th>\n",
       "      <td>Jump Shot</td>\n",
       "      <td>Jump Shot</td>\n",
       "      <td>10</td>\n",
       "      <td>20000012</td>\n",
       "      <td>33.9723</td>\n",
       "      <td>167</td>\n",
       "      <td>72</td>\n",
       "      <td>-118.1028</td>\n",
       "      <td>10</td>\n",
       "      <td>1</td>\n",
       "      <td>...</td>\n",
       "      <td>2PT Field Goal</td>\n",
       "      <td>Right Side(R)</td>\n",
       "      <td>Mid-Range</td>\n",
       "      <td>16-24 ft.</td>\n",
       "      <td>1610612747</td>\n",
       "      <td>Los Angeles Lakers</td>\n",
       "      <td>2000-10-31</td>\n",
       "      <td>LAL @ POR</td>\n",
       "      <td>POR</td>\n",
       "      <td>1</td>\n",
       "    </tr>\n",
       "    <tr>\n",
       "      <th>1</th>\n",
       "      <td>Jump Shot</td>\n",
       "      <td>Jump Shot</td>\n",
       "      <td>12</td>\n",
       "      <td>20000012</td>\n",
       "      <td>34.0443</td>\n",
       "      <td>-157</td>\n",
       "      <td>0</td>\n",
       "      <td>-118.4268</td>\n",
       "      <td>10</td>\n",
       "      <td>1</td>\n",
       "      <td>...</td>\n",
       "      <td>2PT Field Goal</td>\n",
       "      <td>Left Side(L)</td>\n",
       "      <td>Mid-Range</td>\n",
       "      <td>8-16 ft.</td>\n",
       "      <td>1610612747</td>\n",
       "      <td>Los Angeles Lakers</td>\n",
       "      <td>2000-10-31</td>\n",
       "      <td>LAL @ POR</td>\n",
       "      <td>POR</td>\n",
       "      <td>2</td>\n",
       "    </tr>\n",
       "    <tr>\n",
       "      <th>2</th>\n",
       "      <td>Jump Shot</td>\n",
       "      <td>Jump Shot</td>\n",
       "      <td>35</td>\n",
       "      <td>20000012</td>\n",
       "      <td>33.9093</td>\n",
       "      <td>-101</td>\n",
       "      <td>135</td>\n",
       "      <td>-118.3708</td>\n",
       "      <td>7</td>\n",
       "      <td>1</td>\n",
       "      <td>...</td>\n",
       "      <td>2PT Field Goal</td>\n",
       "      <td>Left Side Center(LC)</td>\n",
       "      <td>Mid-Range</td>\n",
       "      <td>16-24 ft.</td>\n",
       "      <td>1610612747</td>\n",
       "      <td>Los Angeles Lakers</td>\n",
       "      <td>2000-10-31</td>\n",
       "      <td>LAL @ POR</td>\n",
       "      <td>POR</td>\n",
       "      <td>3</td>\n",
       "    </tr>\n",
       "    <tr>\n",
       "      <th>3</th>\n",
       "      <td>Jump Shot</td>\n",
       "      <td>Jump Shot</td>\n",
       "      <td>43</td>\n",
       "      <td>20000012</td>\n",
       "      <td>33.8693</td>\n",
       "      <td>138</td>\n",
       "      <td>175</td>\n",
       "      <td>-118.1318</td>\n",
       "      <td>6</td>\n",
       "      <td>1</td>\n",
       "      <td>...</td>\n",
       "      <td>2PT Field Goal</td>\n",
       "      <td>Right Side Center(RC)</td>\n",
       "      <td>Mid-Range</td>\n",
       "      <td>16-24 ft.</td>\n",
       "      <td>1610612747</td>\n",
       "      <td>Los Angeles Lakers</td>\n",
       "      <td>2000-10-31</td>\n",
       "      <td>LAL @ POR</td>\n",
       "      <td>POR</td>\n",
       "      <td>4</td>\n",
       "    </tr>\n",
       "    <tr>\n",
       "      <th>4</th>\n",
       "      <td>Driving Dunk Shot</td>\n",
       "      <td>Dunk</td>\n",
       "      <td>155</td>\n",
       "      <td>20000012</td>\n",
       "      <td>34.0443</td>\n",
       "      <td>0</td>\n",
       "      <td>0</td>\n",
       "      <td>-118.2698</td>\n",
       "      <td>6</td>\n",
       "      <td>2</td>\n",
       "      <td>...</td>\n",
       "      <td>2PT Field Goal</td>\n",
       "      <td>Center(C)</td>\n",
       "      <td>Restricted Area</td>\n",
       "      <td>Less Than 8 ft.</td>\n",
       "      <td>1610612747</td>\n",
       "      <td>Los Angeles Lakers</td>\n",
       "      <td>2000-10-31</td>\n",
       "      <td>LAL @ POR</td>\n",
       "      <td>POR</td>\n",
       "      <td>5</td>\n",
       "    </tr>\n",
       "  </tbody>\n",
       "</table>\n",
       "<p>5 rows × 25 columns</p>\n",
       "</div>"
      ],
      "text/plain": [
       "         action_type combined_shot_type  game_event_id   game_id      lat  \\\n",
       "0          Jump Shot          Jump Shot             10  20000012  33.9723   \n",
       "1          Jump Shot          Jump Shot             12  20000012  34.0443   \n",
       "2          Jump Shot          Jump Shot             35  20000012  33.9093   \n",
       "3          Jump Shot          Jump Shot             43  20000012  33.8693   \n",
       "4  Driving Dunk Shot               Dunk            155  20000012  34.0443   \n",
       "\n",
       "   loc_x  loc_y       lon  minutes_remaining  period   ...          shot_type  \\\n",
       "0    167     72 -118.1028                 10       1   ...     2PT Field Goal   \n",
       "1   -157      0 -118.4268                 10       1   ...     2PT Field Goal   \n",
       "2   -101    135 -118.3708                  7       1   ...     2PT Field Goal   \n",
       "3    138    175 -118.1318                  6       1   ...     2PT Field Goal   \n",
       "4      0      0 -118.2698                  6       2   ...     2PT Field Goal   \n",
       "\n",
       "          shot_zone_area  shot_zone_basic  shot_zone_range     team_id  \\\n",
       "0          Right Side(R)        Mid-Range        16-24 ft.  1610612747   \n",
       "1           Left Side(L)        Mid-Range         8-16 ft.  1610612747   \n",
       "2   Left Side Center(LC)        Mid-Range        16-24 ft.  1610612747   \n",
       "3  Right Side Center(RC)        Mid-Range        16-24 ft.  1610612747   \n",
       "4              Center(C)  Restricted Area  Less Than 8 ft.  1610612747   \n",
       "\n",
       "            team_name   game_date    matchup opponent  shot_id  \n",
       "0  Los Angeles Lakers  2000-10-31  LAL @ POR      POR        1  \n",
       "1  Los Angeles Lakers  2000-10-31  LAL @ POR      POR        2  \n",
       "2  Los Angeles Lakers  2000-10-31  LAL @ POR      POR        3  \n",
       "3  Los Angeles Lakers  2000-10-31  LAL @ POR      POR        4  \n",
       "4  Los Angeles Lakers  2000-10-31  LAL @ POR      POR        5  \n",
       "\n",
       "[5 rows x 25 columns]"
      ]
     },
     "execution_count": 3,
     "metadata": {},
     "output_type": "execute_result"
    }
   ],
   "source": [
    "raw.head()"
   ]
  },
  {
   "cell_type": "markdown",
   "metadata": {},
   "source": [
    "## 데이터 살펴보기"
   ]
  },
  {
   "cell_type": "code",
   "execution_count": 4,
   "metadata": {},
   "outputs": [
    {
     "name": "stdout",
     "output_type": "stream",
     "text": [
      "action_type\n",
      "combined_shot_type\n",
      "game_event_id\n",
      "game_id\n",
      "lat\n",
      "loc_x\n",
      "loc_y\n",
      "lon\n",
      "minutes_remaining\n",
      "period\n",
      "playoffs\n",
      "season\n",
      "seconds_remaining\n",
      "shot_distance\n",
      "shot_made_flag\n",
      "shot_type\n",
      "shot_zone_area\n",
      "shot_zone_basic\n",
      "shot_zone_range\n",
      "team_id\n",
      "team_name\n",
      "game_date\n",
      "matchup\n",
      "opponent\n",
      "shot_id\n"
     ]
    }
   ],
   "source": [
    "for col in raw.columns:\n",
    "    print(col)"
   ]
  },
  {
   "cell_type": "code",
   "execution_count": 6,
   "metadata": {},
   "outputs": [
    {
     "name": "stdout",
     "output_type": "stream",
     "text": [
      "<class 'pandas.core.frame.DataFrame'>\n",
      "RangeIndex: 30697 entries, 0 to 30696\n",
      "Data columns (total 25 columns):\n",
      "action_type           30697 non-null object\n",
      "combined_shot_type    30697 non-null object\n",
      "game_event_id         30697 non-null int64\n",
      "game_id               30697 non-null int64\n",
      "lat                   30697 non-null float64\n",
      "loc_x                 30697 non-null int64\n",
      "loc_y                 30697 non-null int64\n",
      "lon                   30697 non-null float64\n",
      "minutes_remaining     30697 non-null int64\n",
      "period                30697 non-null int64\n",
      "playoffs              30697 non-null int64\n",
      "season                30697 non-null object\n",
      "seconds_remaining     30697 non-null int64\n",
      "shot_distance         30697 non-null int64\n",
      "shot_made_flag        25697 non-null float64\n",
      "shot_type             30697 non-null object\n",
      "shot_zone_area        30697 non-null object\n",
      "shot_zone_basic       30697 non-null object\n",
      "shot_zone_range       30697 non-null object\n",
      "team_id               30697 non-null int64\n",
      "team_name             30697 non-null object\n",
      "game_date             30697 non-null object\n",
      "matchup               30697 non-null object\n",
      "opponent              30697 non-null object\n",
      "shot_id               30697 non-null int64\n",
      "dtypes: float64(3), int64(11), object(11)\n",
      "memory usage: 5.9+ MB\n"
     ]
    }
   ],
   "source": [
    "raw.info()\n",
    "# shot_made_flag        25697 non-null float64    cf) 30697 non-null object"
   ]
  },
  {
   "cell_type": "code",
   "execution_count": 5,
   "metadata": {
    "scrolled": true
   },
   "outputs": [
    {
     "data": {
      "text/plain": [
       "0    NaN\n",
       "1    0.0\n",
       "2    1.0\n",
       "3    0.0\n",
       "4    1.0\n",
       "5    0.0\n",
       "6    1.0\n",
       "7    NaN\n",
       "8    1.0\n",
       "9    0.0\n",
       "Name: shot_made_flag, dtype: float64"
      ]
     },
     "execution_count": 5,
     "metadata": {},
     "output_type": "execute_result"
    }
   ],
   "source": [
    "raw.shot_made_flag.head(10)\n",
    "# shot_made_flag   1 or 0  분류 문제\n",
    "# NaN 은 답을 알 수 없기에 제외 필요함"
   ]
  },
  {
   "cell_type": "markdown",
   "metadata": {},
   "source": [
    " - 데이터 제외하기: dropna  or isnull 활용"
   ]
  },
  {
   "cell_type": "code",
   "execution_count": 4,
   "metadata": {
    "collapsed": true
   },
   "outputs": [],
   "source": [
    "# data = raw.dropna(axis = 0, subset = ['shot_made_flag'])      # 'shot_made_flag  에 Nan 값이 있을 경우 해당 row 를  drop하라\n",
    "\n",
    "# .isnull 을 이용해서 동일하게 만들 수 있음\n",
    "data = raw[raw.shot_made_flag.isnull() == False]        "
   ]
  },
  {
   "cell_type": "code",
   "execution_count": 12,
   "metadata": {
    "scrolled": true
   },
   "outputs": [
    {
     "name": "stdout",
     "output_type": "stream",
     "text": [
      "<class 'pandas.core.frame.DataFrame'>\n",
      "Int64Index: 25697 entries, 1 to 30696\n",
      "Data columns (total 25 columns):\n",
      "action_type           25697 non-null object\n",
      "combined_shot_type    25697 non-null object\n",
      "game_event_id         25697 non-null int64\n",
      "game_id               25697 non-null int64\n",
      "lat                   25697 non-null float64\n",
      "loc_x                 25697 non-null int64\n",
      "loc_y                 25697 non-null int64\n",
      "lon                   25697 non-null float64\n",
      "minutes_remaining     25697 non-null int64\n",
      "period                25697 non-null int64\n",
      "playoffs              25697 non-null int64\n",
      "season                25697 non-null object\n",
      "seconds_remaining     25697 non-null int64\n",
      "shot_distance         25697 non-null int64\n",
      "shot_made_flag        25697 non-null float64\n",
      "shot_type             25697 non-null object\n",
      "shot_zone_area        25697 non-null object\n",
      "shot_zone_basic       25697 non-null object\n",
      "shot_zone_range       25697 non-null object\n",
      "team_id               25697 non-null int64\n",
      "team_name             25697 non-null object\n",
      "game_date             25697 non-null object\n",
      "matchup               25697 non-null object\n",
      "opponent              25697 non-null object\n",
      "shot_id               25697 non-null int64\n",
      "dtypes: float64(3), int64(11), object(11)\n",
      "memory usage: 5.1+ MB\n"
     ]
    }
   ],
   "source": [
    "data.info()"
   ]
  },
  {
   "cell_type": "code",
   "execution_count": null,
   "metadata": {
    "collapsed": true
   },
   "outputs": [],
   "source": []
  },
  {
   "cell_type": "markdown",
   "metadata": {},
   "source": [
    "###  action_shot 데이터 살펴보기"
   ]
  },
  {
   "cell_type": "code",
   "execution_count": null,
   "metadata": {
    "collapsed": true
   },
   "outputs": [],
   "source": [
    "data.pivot('action_type','shot_made_flag',\"count\")"
   ]
  },
  {
   "cell_type": "code",
   "execution_count": 13,
   "metadata": {
    "collapsed": true
   },
   "outputs": [],
   "source": [
    "action_shots = []\n",
    "for action in set(data.action_type):\n",
    "    count_try = len(data[data.action_type == action])\n",
    "    count_made = sum(data[data.action_type == action].shot_made_flag)\n",
    "    made_percent = count_made / count_try\n",
    "    action_shots.append((action, count_try, count_made, int(made_percent*1000)/10))"
   ]
  },
  {
   "cell_type": "code",
   "execution_count": 14,
   "metadata": {},
   "outputs": [
    {
     "name": "stdout",
     "output_type": "stream",
     "text": [
      "('Alley Oop Dunk Shot', 95, 90.0, 94.7)\n",
      "('Jump Bank Shot', 289, 224.0, 77.5)\n",
      "('Tip Layup Shot', 2, 1.0, 50.0)\n",
      "('Driving Dunk Shot', 257, 251.0, 97.6)\n",
      "('Tip Shot', 151, 53.0, 35.0)\n",
      "('Hook Bank Shot', 5, 5.0, 100.0)\n",
      "('Pullup Jump shot', 402, 291.0, 72.3)\n",
      "('Driving Bank shot', 3, 2.0, 66.6)\n",
      "('Running Tip Shot', 1, 0.0, 0.0)\n",
      "('Running Reverse Layup Shot', 7, 4.0, 57.1)\n",
      "('Pullup Bank shot', 11, 6.0, 54.5)\n",
      "('Running Layup Shot', 51, 36.0, 70.5)\n",
      "('Fadeaway Bank shot', 27, 24.0, 88.8)\n",
      "('Alley Oop Layup shot', 67, 48.0, 71.6)\n",
      "('Running Slam Dunk Shot', 1, 1.0, 100.0)\n",
      "('Floating Jump shot', 93, 67.0, 72.0)\n",
      "('Running Jump Shot', 779, 582.0, 74.7)\n",
      "('Driving Jump shot', 23, 10.0, 43.4)\n",
      "('Turnaround Bank shot', 58, 46.0, 79.3)\n",
      "('Turnaround Jump Shot', 891, 533.0, 59.8)\n"
     ]
    }
   ],
   "source": [
    "for shot in action_shots[:20]:\n",
    "    print(shot)    # 슛 종류 , 슛 시도 횟수, 슛 성공횟수"
   ]
  },
  {
   "cell_type": "code",
   "execution_count": 15,
   "metadata": {
    "collapsed": true
   },
   "outputs": [],
   "source": [
    "# # 성공률 순으로 살펴보기\n",
    "\n",
    "# def cal_shot_success(x):\n",
    "#     if x[2] == 0:\n",
    "#         return 0\n",
    "#     else:\n",
    "#         return x[2]/x[1]\n",
    "    \n",
    "\n",
    "action_shots.sort(key = lambda x: x[3], reverse=True)     # 슛 성공횟수 많은 순으로 정렬\n",
    "\n",
    "\n",
    "# # action_shots.sort(key = lambda x: x[1]/x[2], reverse=True)  # 슛 성공률 높은 순으로 정렬  0 이 나올 경우 계산 X\n",
    "# action_shots.sort(key = lambda x: cal_shot_success(x), reverse=True)"
   ]
  },
  {
   "cell_type": "code",
   "execution_count": 16,
   "metadata": {},
   "outputs": [
    {
     "name": "stdout",
     "output_type": "stream",
     "text": [
      "('Hook Bank Shot', 5, 5.0, 100.0)\n",
      "('Running Slam Dunk Shot', 1, 1.0, 100.0)\n",
      "('Driving Floating Bank Jump Shot', 1, 1.0, 100.0)\n",
      "('Turnaround Finger Roll Shot', 2, 2.0, 100.0)\n",
      "('Reverse Slam Dunk Shot', 15, 15.0, 100.0)\n",
      "('Slam Dunk Shot', 334, 328.0, 98.2)\n",
      "('Driving Dunk Shot', 257, 251.0, 97.6)\n",
      "('Driving Slam Dunk Shot', 43, 42.0, 97.6)\n",
      "('Alley Oop Dunk Shot', 95, 90.0, 94.7)\n",
      "('Reverse Dunk Shot', 61, 56.0, 91.8)\n",
      "('Follow Up Dunk Shot', 10, 9.0, 90.0)\n",
      "('Fadeaway Bank shot', 27, 24.0, 88.8)\n",
      "('Running Dunk Shot', 18, 16.0, 88.8)\n",
      "('Driving Finger Roll Layup Shot', 59, 52.0, 88.1)\n",
      "('Running Hook Shot', 33, 29.0, 87.8)\n",
      "('Driving Finger Roll Shot', 68, 58.0, 85.2)\n",
      "('Running Bank shot', 43, 36.0, 83.7)\n",
      "('Finger Roll Layup Shot', 28, 23.0, 82.1)\n",
      "('Turnaround Bank shot', 58, 46.0, 79.3)\n",
      "('Dunk Shot', 217, 169.0, 77.8)\n"
     ]
    }
   ],
   "source": [
    "for shot in action_shots[:20]:\n",
    "    print(shot)    # 슛 종류 , 슛 시도 횟수, 슛 성공횟수"
   ]
  },
  {
   "cell_type": "code",
   "execution_count": 17,
   "metadata": {
    "collapsed": true
   },
   "outputs": [],
   "source": [
    "data_action_type = pd.DataFrame(action_shots, columns = ['action_type', 'try','made', 'per'])"
   ]
  },
  {
   "cell_type": "code",
   "execution_count": 18,
   "metadata": {
    "scrolled": true
   },
   "outputs": [
    {
     "data": {
      "text/html": [
       "<div>\n",
       "<style>\n",
       "    .dataframe thead tr:only-child th {\n",
       "        text-align: right;\n",
       "    }\n",
       "\n",
       "    .dataframe thead th {\n",
       "        text-align: left;\n",
       "    }\n",
       "\n",
       "    .dataframe tbody tr th {\n",
       "        vertical-align: top;\n",
       "    }\n",
       "</style>\n",
       "<table border=\"1\" class=\"dataframe\">\n",
       "  <thead>\n",
       "    <tr style=\"text-align: right;\">\n",
       "      <th></th>\n",
       "      <th>action_type</th>\n",
       "      <th>try</th>\n",
       "      <th>made</th>\n",
       "      <th>per</th>\n",
       "    </tr>\n",
       "  </thead>\n",
       "  <tbody>\n",
       "    <tr>\n",
       "      <th>0</th>\n",
       "      <td>Hook Bank Shot</td>\n",
       "      <td>5</td>\n",
       "      <td>5.0</td>\n",
       "      <td>100.0</td>\n",
       "    </tr>\n",
       "    <tr>\n",
       "      <th>1</th>\n",
       "      <td>Running Slam Dunk Shot</td>\n",
       "      <td>1</td>\n",
       "      <td>1.0</td>\n",
       "      <td>100.0</td>\n",
       "    </tr>\n",
       "    <tr>\n",
       "      <th>2</th>\n",
       "      <td>Driving Floating Bank Jump Shot</td>\n",
       "      <td>1</td>\n",
       "      <td>1.0</td>\n",
       "      <td>100.0</td>\n",
       "    </tr>\n",
       "    <tr>\n",
       "      <th>3</th>\n",
       "      <td>Turnaround Finger Roll Shot</td>\n",
       "      <td>2</td>\n",
       "      <td>2.0</td>\n",
       "      <td>100.0</td>\n",
       "    </tr>\n",
       "    <tr>\n",
       "      <th>4</th>\n",
       "      <td>Reverse Slam Dunk Shot</td>\n",
       "      <td>15</td>\n",
       "      <td>15.0</td>\n",
       "      <td>100.0</td>\n",
       "    </tr>\n",
       "  </tbody>\n",
       "</table>\n",
       "</div>"
      ],
      "text/plain": [
       "                       action_type  try  made    per\n",
       "0                   Hook Bank Shot    5   5.0  100.0\n",
       "1           Running Slam Dunk Shot    1   1.0  100.0\n",
       "2  Driving Floating Bank Jump Shot    1   1.0  100.0\n",
       "3      Turnaround Finger Roll Shot    2   2.0  100.0\n",
       "4           Reverse Slam Dunk Shot   15  15.0  100.0"
      ]
     },
     "execution_count": 18,
     "metadata": {},
     "output_type": "execute_result"
    }
   ],
   "source": [
    "data_action_type.head()"
   ]
  },
  {
   "cell_type": "code",
   "execution_count": null,
   "metadata": {
    "collapsed": true
   },
   "outputs": [],
   "source": []
  },
  {
   "cell_type": "markdown",
   "metadata": {},
   "source": [
    "* pandas 활용해서 하기"
   ]
  },
  {
   "cell_type": "code",
   "execution_count": 8,
   "metadata": {
    "collapsed": true
   },
   "outputs": [],
   "source": [
    "data_action_try = data.groupby('action_type').shot_made_flag.count()"
   ]
  },
  {
   "cell_type": "code",
   "execution_count": 9,
   "metadata": {
    "collapsed": true
   },
   "outputs": [],
   "source": [
    "data_action_made = data.groupby('action_type').shot_made_flag.sum().astype('int64')"
   ]
  },
  {
   "cell_type": "code",
   "execution_count": 31,
   "metadata": {
    "scrolled": true
   },
   "outputs": [
    {
     "data": {
      "text/plain": [
       "action_type\n",
       "Alley Oop Dunk Shot                   95\n",
       "Alley Oop Layup shot                  67\n",
       "Cutting Layup Shot                     6\n",
       "Driving Bank shot                      3\n",
       "Driving Dunk Shot                    257\n",
       "Driving Finger Roll Layup Shot        59\n",
       "Driving Finger Roll Shot              68\n",
       "Driving Floating Bank Jump Shot        1\n",
       "Driving Floating Jump Shot             3\n",
       "Driving Hook Shot                     13\n",
       "Driving Jump shot                     23\n",
       "Driving Layup Shot                  1628\n",
       "Driving Reverse Layup Shot            83\n",
       "Driving Slam Dunk Shot                43\n",
       "Dunk Shot                            217\n",
       "Fadeaway Bank shot                    27\n",
       "Fadeaway Jump Shot                   872\n",
       "Finger Roll Layup Shot                28\n",
       "Finger Roll Shot                      26\n",
       "Floating Jump shot                    93\n",
       "Follow Up Dunk Shot                   10\n",
       "Hook Bank Shot                         5\n",
       "Hook Shot                             73\n",
       "Jump Bank Shot                       289\n",
       "Jump Hook Shot                        19\n",
       "Jump Shot                          15836\n",
       "Layup Shot                          2154\n",
       "Pullup Bank shot                      11\n",
       "Pullup Jump shot                     402\n",
       "Putback Dunk Shot                      3\n",
       "Putback Layup Shot                     9\n",
       "Putback Slam Dunk Shot                 2\n",
       "Reverse Dunk Shot                     61\n",
       "Reverse Layup Shot                   333\n",
       "Reverse Slam Dunk Shot                15\n",
       "Running Bank shot                     43\n",
       "Running Dunk Shot                     18\n",
       "Running Finger Roll Layup Shot         5\n",
       "Running Finger Roll Shot               4\n",
       "Running Hook Shot                     33\n",
       "Running Jump Shot                    779\n",
       "Running Layup Shot                    51\n",
       "Running Pull-Up Jump Shot              3\n",
       "Running Reverse Layup Shot             7\n",
       "Running Slam Dunk Shot                 1\n",
       "Running Tip Shot                       1\n",
       "Slam Dunk Shot                       334\n",
       "Step Back Jump shot                  106\n",
       "Tip Layup Shot                         2\n",
       "Tip Shot                             151\n",
       "Turnaround Bank shot                  58\n",
       "Turnaround Fadeaway shot             366\n",
       "Turnaround Finger Roll Shot            2\n",
       "Turnaround Hook Shot                   8\n",
       "Turnaround Jump Shot                 891\n",
       "Name: shot_made_flag, dtype: int64"
      ]
     },
     "execution_count": 31,
     "metadata": {},
     "output_type": "execute_result"
    }
   ],
   "source": [
    "data_action_try"
   ]
  },
  {
   "cell_type": "code",
   "execution_count": 45,
   "metadata": {
    "collapsed": true
   },
   "outputs": [
    {
     "data": {
      "text/plain": [
       "action_type\n",
       "Alley Oop Dunk Shot                  90\n",
       "Alley Oop Layup shot                 48\n",
       "Cutting Layup Shot                    4\n",
       "Driving Bank shot                     2\n",
       "Driving Dunk Shot                   251\n",
       "Driving Finger Roll Layup Shot       52\n",
       "Driving Finger Roll Shot             58\n",
       "Driving Floating Bank Jump Shot       1\n",
       "Driving Floating Jump Shot            1\n",
       "Driving Hook Shot                     8\n",
       "Driving Jump shot                    10\n",
       "Driving Layup Shot                 1207\n",
       "Driving Reverse Layup Shot           62\n",
       "Driving Slam Dunk Shot               42\n",
       "Dunk Shot                           169\n",
       "Fadeaway Bank shot                   24\n",
       "Fadeaway Jump Shot                  501\n",
       "Finger Roll Layup Shot               23\n",
       "Finger Roll Shot                     12\n",
       "Floating Jump shot                   67\n",
       "Follow Up Dunk Shot                   9\n",
       "Hook Bank Shot                        5\n",
       "Hook Shot                            27\n",
       "Jump Bank Shot                      224\n",
       "Jump Hook Shot                       14\n",
       "Jump Shot                          5177\n",
       "Layup Shot                          830\n",
       "Pullup Bank shot                      6\n",
       "Pullup Jump shot                    291\n",
       "Putback Dunk Shot                     2\n",
       "Putback Layup Shot                    6\n",
       "Putback Slam Dunk Shot                1\n",
       "Reverse Dunk Shot                    56\n",
       "Reverse Layup Shot                  212\n",
       "Reverse Slam Dunk Shot               15\n",
       "Running Bank shot                    36\n",
       "Running Dunk Shot                    16\n",
       "Running Finger Roll Layup Shot        3\n",
       "Running Finger Roll Shot              1\n",
       "Running Hook Shot                    29\n",
       "Running Jump Shot                   582\n",
       "Running Layup Shot                   36\n",
       "Running Pull-Up Jump Shot             2\n",
       "Running Reverse Layup Shot            4\n",
       "Running Slam Dunk Shot                1\n",
       "Running Tip Shot                      0\n",
       "Slam Dunk Shot                      328\n",
       "Step Back Jump shot                  67\n",
       "Tip Layup Shot                        1\n",
       "Tip Shot                             53\n",
       "Turnaround Bank shot                 46\n",
       "Turnaround Fadeaway shot            214\n",
       "Turnaround Finger Roll Shot           2\n",
       "Turnaround Hook Shot                  4\n",
       "Turnaround Jump Shot                533\n",
       "Name: shot_made_flag, dtype: int64"
      ]
     },
     "execution_count": 45,
     "metadata": {},
     "output_type": "execute_result"
    }
   ],
   "source": [
    "data_action_made"
   ]
  },
  {
   "cell_type": "code",
   "execution_count": 10,
   "metadata": {},
   "outputs": [],
   "source": [
    "data_action = pd.concat([data_action_try, data_action_made], axis=1)   #데이터 합치기"
   ]
  },
  {
   "cell_type": "code",
   "execution_count": 47,
   "metadata": {
    "collapsed": true
   },
   "outputs": [
    {
     "data": {
      "text/html": [
       "<div>\n",
       "<style>\n",
       "    .dataframe thead tr:only-child th {\n",
       "        text-align: right;\n",
       "    }\n",
       "\n",
       "    .dataframe thead th {\n",
       "        text-align: left;\n",
       "    }\n",
       "\n",
       "    .dataframe tbody tr th {\n",
       "        vertical-align: top;\n",
       "    }\n",
       "</style>\n",
       "<table border=\"1\" class=\"dataframe\">\n",
       "  <thead>\n",
       "    <tr style=\"text-align: right;\">\n",
       "      <th></th>\n",
       "      <th>shot_made_flag</th>\n",
       "      <th>shot_made_flag</th>\n",
       "    </tr>\n",
       "    <tr>\n",
       "      <th>action_type</th>\n",
       "      <th></th>\n",
       "      <th></th>\n",
       "    </tr>\n",
       "  </thead>\n",
       "  <tbody>\n",
       "    <tr>\n",
       "      <th>Alley Oop Dunk Shot</th>\n",
       "      <td>95</td>\n",
       "      <td>90</td>\n",
       "    </tr>\n",
       "    <tr>\n",
       "      <th>Alley Oop Layup shot</th>\n",
       "      <td>67</td>\n",
       "      <td>48</td>\n",
       "    </tr>\n",
       "    <tr>\n",
       "      <th>Cutting Layup Shot</th>\n",
       "      <td>6</td>\n",
       "      <td>4</td>\n",
       "    </tr>\n",
       "    <tr>\n",
       "      <th>Driving Bank shot</th>\n",
       "      <td>3</td>\n",
       "      <td>2</td>\n",
       "    </tr>\n",
       "    <tr>\n",
       "      <th>Driving Dunk Shot</th>\n",
       "      <td>257</td>\n",
       "      <td>251</td>\n",
       "    </tr>\n",
       "    <tr>\n",
       "      <th>Driving Finger Roll Layup Shot</th>\n",
       "      <td>59</td>\n",
       "      <td>52</td>\n",
       "    </tr>\n",
       "    <tr>\n",
       "      <th>Driving Finger Roll Shot</th>\n",
       "      <td>68</td>\n",
       "      <td>58</td>\n",
       "    </tr>\n",
       "    <tr>\n",
       "      <th>Driving Floating Bank Jump Shot</th>\n",
       "      <td>1</td>\n",
       "      <td>1</td>\n",
       "    </tr>\n",
       "    <tr>\n",
       "      <th>Driving Floating Jump Shot</th>\n",
       "      <td>3</td>\n",
       "      <td>1</td>\n",
       "    </tr>\n",
       "    <tr>\n",
       "      <th>Driving Hook Shot</th>\n",
       "      <td>13</td>\n",
       "      <td>8</td>\n",
       "    </tr>\n",
       "    <tr>\n",
       "      <th>Driving Jump shot</th>\n",
       "      <td>23</td>\n",
       "      <td>10</td>\n",
       "    </tr>\n",
       "    <tr>\n",
       "      <th>Driving Layup Shot</th>\n",
       "      <td>1628</td>\n",
       "      <td>1207</td>\n",
       "    </tr>\n",
       "    <tr>\n",
       "      <th>Driving Reverse Layup Shot</th>\n",
       "      <td>83</td>\n",
       "      <td>62</td>\n",
       "    </tr>\n",
       "    <tr>\n",
       "      <th>Driving Slam Dunk Shot</th>\n",
       "      <td>43</td>\n",
       "      <td>42</td>\n",
       "    </tr>\n",
       "    <tr>\n",
       "      <th>Dunk Shot</th>\n",
       "      <td>217</td>\n",
       "      <td>169</td>\n",
       "    </tr>\n",
       "    <tr>\n",
       "      <th>Fadeaway Bank shot</th>\n",
       "      <td>27</td>\n",
       "      <td>24</td>\n",
       "    </tr>\n",
       "    <tr>\n",
       "      <th>Fadeaway Jump Shot</th>\n",
       "      <td>872</td>\n",
       "      <td>501</td>\n",
       "    </tr>\n",
       "    <tr>\n",
       "      <th>Finger Roll Layup Shot</th>\n",
       "      <td>28</td>\n",
       "      <td>23</td>\n",
       "    </tr>\n",
       "    <tr>\n",
       "      <th>Finger Roll Shot</th>\n",
       "      <td>26</td>\n",
       "      <td>12</td>\n",
       "    </tr>\n",
       "    <tr>\n",
       "      <th>Floating Jump shot</th>\n",
       "      <td>93</td>\n",
       "      <td>67</td>\n",
       "    </tr>\n",
       "    <tr>\n",
       "      <th>Follow Up Dunk Shot</th>\n",
       "      <td>10</td>\n",
       "      <td>9</td>\n",
       "    </tr>\n",
       "    <tr>\n",
       "      <th>Hook Bank Shot</th>\n",
       "      <td>5</td>\n",
       "      <td>5</td>\n",
       "    </tr>\n",
       "    <tr>\n",
       "      <th>Hook Shot</th>\n",
       "      <td>73</td>\n",
       "      <td>27</td>\n",
       "    </tr>\n",
       "    <tr>\n",
       "      <th>Jump Bank Shot</th>\n",
       "      <td>289</td>\n",
       "      <td>224</td>\n",
       "    </tr>\n",
       "    <tr>\n",
       "      <th>Jump Hook Shot</th>\n",
       "      <td>19</td>\n",
       "      <td>14</td>\n",
       "    </tr>\n",
       "    <tr>\n",
       "      <th>Jump Shot</th>\n",
       "      <td>15836</td>\n",
       "      <td>5177</td>\n",
       "    </tr>\n",
       "    <tr>\n",
       "      <th>Layup Shot</th>\n",
       "      <td>2154</td>\n",
       "      <td>830</td>\n",
       "    </tr>\n",
       "    <tr>\n",
       "      <th>Pullup Bank shot</th>\n",
       "      <td>11</td>\n",
       "      <td>6</td>\n",
       "    </tr>\n",
       "    <tr>\n",
       "      <th>Pullup Jump shot</th>\n",
       "      <td>402</td>\n",
       "      <td>291</td>\n",
       "    </tr>\n",
       "    <tr>\n",
       "      <th>Putback Dunk Shot</th>\n",
       "      <td>3</td>\n",
       "      <td>2</td>\n",
       "    </tr>\n",
       "    <tr>\n",
       "      <th>Putback Layup Shot</th>\n",
       "      <td>9</td>\n",
       "      <td>6</td>\n",
       "    </tr>\n",
       "    <tr>\n",
       "      <th>Putback Slam Dunk Shot</th>\n",
       "      <td>2</td>\n",
       "      <td>1</td>\n",
       "    </tr>\n",
       "    <tr>\n",
       "      <th>Reverse Dunk Shot</th>\n",
       "      <td>61</td>\n",
       "      <td>56</td>\n",
       "    </tr>\n",
       "    <tr>\n",
       "      <th>Reverse Layup Shot</th>\n",
       "      <td>333</td>\n",
       "      <td>212</td>\n",
       "    </tr>\n",
       "    <tr>\n",
       "      <th>Reverse Slam Dunk Shot</th>\n",
       "      <td>15</td>\n",
       "      <td>15</td>\n",
       "    </tr>\n",
       "    <tr>\n",
       "      <th>Running Bank shot</th>\n",
       "      <td>43</td>\n",
       "      <td>36</td>\n",
       "    </tr>\n",
       "    <tr>\n",
       "      <th>Running Dunk Shot</th>\n",
       "      <td>18</td>\n",
       "      <td>16</td>\n",
       "    </tr>\n",
       "    <tr>\n",
       "      <th>Running Finger Roll Layup Shot</th>\n",
       "      <td>5</td>\n",
       "      <td>3</td>\n",
       "    </tr>\n",
       "    <tr>\n",
       "      <th>Running Finger Roll Shot</th>\n",
       "      <td>4</td>\n",
       "      <td>1</td>\n",
       "    </tr>\n",
       "    <tr>\n",
       "      <th>Running Hook Shot</th>\n",
       "      <td>33</td>\n",
       "      <td>29</td>\n",
       "    </tr>\n",
       "    <tr>\n",
       "      <th>Running Jump Shot</th>\n",
       "      <td>779</td>\n",
       "      <td>582</td>\n",
       "    </tr>\n",
       "    <tr>\n",
       "      <th>Running Layup Shot</th>\n",
       "      <td>51</td>\n",
       "      <td>36</td>\n",
       "    </tr>\n",
       "    <tr>\n",
       "      <th>Running Pull-Up Jump Shot</th>\n",
       "      <td>3</td>\n",
       "      <td>2</td>\n",
       "    </tr>\n",
       "    <tr>\n",
       "      <th>Running Reverse Layup Shot</th>\n",
       "      <td>7</td>\n",
       "      <td>4</td>\n",
       "    </tr>\n",
       "    <tr>\n",
       "      <th>Running Slam Dunk Shot</th>\n",
       "      <td>1</td>\n",
       "      <td>1</td>\n",
       "    </tr>\n",
       "    <tr>\n",
       "      <th>Running Tip Shot</th>\n",
       "      <td>1</td>\n",
       "      <td>0</td>\n",
       "    </tr>\n",
       "    <tr>\n",
       "      <th>Slam Dunk Shot</th>\n",
       "      <td>334</td>\n",
       "      <td>328</td>\n",
       "    </tr>\n",
       "    <tr>\n",
       "      <th>Step Back Jump shot</th>\n",
       "      <td>106</td>\n",
       "      <td>67</td>\n",
       "    </tr>\n",
       "    <tr>\n",
       "      <th>Tip Layup Shot</th>\n",
       "      <td>2</td>\n",
       "      <td>1</td>\n",
       "    </tr>\n",
       "    <tr>\n",
       "      <th>Tip Shot</th>\n",
       "      <td>151</td>\n",
       "      <td>53</td>\n",
       "    </tr>\n",
       "    <tr>\n",
       "      <th>Turnaround Bank shot</th>\n",
       "      <td>58</td>\n",
       "      <td>46</td>\n",
       "    </tr>\n",
       "    <tr>\n",
       "      <th>Turnaround Fadeaway shot</th>\n",
       "      <td>366</td>\n",
       "      <td>214</td>\n",
       "    </tr>\n",
       "    <tr>\n",
       "      <th>Turnaround Finger Roll Shot</th>\n",
       "      <td>2</td>\n",
       "      <td>2</td>\n",
       "    </tr>\n",
       "    <tr>\n",
       "      <th>Turnaround Hook Shot</th>\n",
       "      <td>8</td>\n",
       "      <td>4</td>\n",
       "    </tr>\n",
       "    <tr>\n",
       "      <th>Turnaround Jump Shot</th>\n",
       "      <td>891</td>\n",
       "      <td>533</td>\n",
       "    </tr>\n",
       "  </tbody>\n",
       "</table>\n",
       "</div>"
      ],
      "text/plain": [
       "                                 shot_made_flag  shot_made_flag\n",
       "action_type                                                    \n",
       "Alley Oop Dunk Shot                          95              90\n",
       "Alley Oop Layup shot                         67              48\n",
       "Cutting Layup Shot                            6               4\n",
       "Driving Bank shot                             3               2\n",
       "Driving Dunk Shot                           257             251\n",
       "Driving Finger Roll Layup Shot               59              52\n",
       "Driving Finger Roll Shot                     68              58\n",
       "Driving Floating Bank Jump Shot               1               1\n",
       "Driving Floating Jump Shot                    3               1\n",
       "Driving Hook Shot                            13               8\n",
       "Driving Jump shot                            23              10\n",
       "Driving Layup Shot                         1628            1207\n",
       "Driving Reverse Layup Shot                   83              62\n",
       "Driving Slam Dunk Shot                       43              42\n",
       "Dunk Shot                                   217             169\n",
       "Fadeaway Bank shot                           27              24\n",
       "Fadeaway Jump Shot                          872             501\n",
       "Finger Roll Layup Shot                       28              23\n",
       "Finger Roll Shot                             26              12\n",
       "Floating Jump shot                           93              67\n",
       "Follow Up Dunk Shot                          10               9\n",
       "Hook Bank Shot                                5               5\n",
       "Hook Shot                                    73              27\n",
       "Jump Bank Shot                              289             224\n",
       "Jump Hook Shot                               19              14\n",
       "Jump Shot                                 15836            5177\n",
       "Layup Shot                                 2154             830\n",
       "Pullup Bank shot                             11               6\n",
       "Pullup Jump shot                            402             291\n",
       "Putback Dunk Shot                             3               2\n",
       "Putback Layup Shot                            9               6\n",
       "Putback Slam Dunk Shot                        2               1\n",
       "Reverse Dunk Shot                            61              56\n",
       "Reverse Layup Shot                          333             212\n",
       "Reverse Slam Dunk Shot                       15              15\n",
       "Running Bank shot                            43              36\n",
       "Running Dunk Shot                            18              16\n",
       "Running Finger Roll Layup Shot                5               3\n",
       "Running Finger Roll Shot                      4               1\n",
       "Running Hook Shot                            33              29\n",
       "Running Jump Shot                           779             582\n",
       "Running Layup Shot                           51              36\n",
       "Running Pull-Up Jump Shot                     3               2\n",
       "Running Reverse Layup Shot                    7               4\n",
       "Running Slam Dunk Shot                        1               1\n",
       "Running Tip Shot                              1               0\n",
       "Slam Dunk Shot                              334             328\n",
       "Step Back Jump shot                         106              67\n",
       "Tip Layup Shot                                2               1\n",
       "Tip Shot                                    151              53\n",
       "Turnaround Bank shot                         58              46\n",
       "Turnaround Fadeaway shot                    366             214\n",
       "Turnaround Finger Roll Shot                   2               2\n",
       "Turnaround Hook Shot                          8               4\n",
       "Turnaround Jump Shot                        891             533"
      ]
     },
     "execution_count": 47,
     "metadata": {},
     "output_type": "execute_result"
    }
   ],
   "source": [
    "data_action"
   ]
  },
  {
   "cell_type": "code",
   "execution_count": 12,
   "metadata": {
    "collapsed": true
   },
   "outputs": [],
   "source": [
    "data_action.columns = ['try','made']"
   ]
  },
  {
   "cell_type": "code",
   "execution_count": 52,
   "metadata": {
    "collapsed": true
   },
   "outputs": [
    {
     "data": {
      "text/html": [
       "<div>\n",
       "<style>\n",
       "    .dataframe thead tr:only-child th {\n",
       "        text-align: right;\n",
       "    }\n",
       "\n",
       "    .dataframe thead th {\n",
       "        text-align: left;\n",
       "    }\n",
       "\n",
       "    .dataframe tbody tr th {\n",
       "        vertical-align: top;\n",
       "    }\n",
       "</style>\n",
       "<table border=\"1\" class=\"dataframe\">\n",
       "  <thead>\n",
       "    <tr style=\"text-align: right;\">\n",
       "      <th></th>\n",
       "      <th>try</th>\n",
       "      <th>made</th>\n",
       "      <th>per</th>\n",
       "    </tr>\n",
       "    <tr>\n",
       "      <th>action_type</th>\n",
       "      <th></th>\n",
       "      <th></th>\n",
       "      <th></th>\n",
       "    </tr>\n",
       "  </thead>\n",
       "  <tbody>\n",
       "    <tr>\n",
       "      <th>Alley Oop Dunk Shot</th>\n",
       "      <td>95</td>\n",
       "      <td>90</td>\n",
       "      <td>0.947368</td>\n",
       "    </tr>\n",
       "    <tr>\n",
       "      <th>Alley Oop Layup shot</th>\n",
       "      <td>67</td>\n",
       "      <td>48</td>\n",
       "      <td>0.716418</td>\n",
       "    </tr>\n",
       "    <tr>\n",
       "      <th>Cutting Layup Shot</th>\n",
       "      <td>6</td>\n",
       "      <td>4</td>\n",
       "      <td>0.666667</td>\n",
       "    </tr>\n",
       "    <tr>\n",
       "      <th>Driving Bank shot</th>\n",
       "      <td>3</td>\n",
       "      <td>2</td>\n",
       "      <td>0.666667</td>\n",
       "    </tr>\n",
       "    <tr>\n",
       "      <th>Driving Dunk Shot</th>\n",
       "      <td>257</td>\n",
       "      <td>251</td>\n",
       "      <td>0.976654</td>\n",
       "    </tr>\n",
       "  </tbody>\n",
       "</table>\n",
       "</div>"
      ],
      "text/plain": [
       "                      try  made       per\n",
       "action_type                              \n",
       "Alley Oop Dunk Shot    95    90  0.947368\n",
       "Alley Oop Layup shot   67    48  0.716418\n",
       "Cutting Layup Shot      6     4  0.666667\n",
       "Driving Bank shot       3     2  0.666667\n",
       "Driving Dunk Shot     257   251  0.976654"
      ]
     },
     "execution_count": 52,
     "metadata": {},
     "output_type": "execute_result"
    }
   ],
   "source": [
    "data_action.head()"
   ]
  },
  {
   "cell_type": "code",
   "execution_count": 13,
   "metadata": {
    "collapsed": true
   },
   "outputs": [],
   "source": [
    "data_action['per'] = data_action['made']/data_action['try']"
   ]
  },
  {
   "cell_type": "code",
   "execution_count": 53,
   "metadata": {},
   "outputs": [
    {
     "data": {
      "text/html": [
       "<div>\n",
       "<style>\n",
       "    .dataframe thead tr:only-child th {\n",
       "        text-align: right;\n",
       "    }\n",
       "\n",
       "    .dataframe thead th {\n",
       "        text-align: left;\n",
       "    }\n",
       "\n",
       "    .dataframe tbody tr th {\n",
       "        vertical-align: top;\n",
       "    }\n",
       "</style>\n",
       "<table border=\"1\" class=\"dataframe\">\n",
       "  <thead>\n",
       "    <tr style=\"text-align: right;\">\n",
       "      <th></th>\n",
       "      <th>try</th>\n",
       "      <th>made</th>\n",
       "      <th>per</th>\n",
       "    </tr>\n",
       "    <tr>\n",
       "      <th>action_type</th>\n",
       "      <th></th>\n",
       "      <th></th>\n",
       "      <th></th>\n",
       "    </tr>\n",
       "  </thead>\n",
       "  <tbody>\n",
       "    <tr>\n",
       "      <th>Alley Oop Dunk Shot</th>\n",
       "      <td>95</td>\n",
       "      <td>90</td>\n",
       "      <td>0.947368</td>\n",
       "    </tr>\n",
       "    <tr>\n",
       "      <th>Alley Oop Layup shot</th>\n",
       "      <td>67</td>\n",
       "      <td>48</td>\n",
       "      <td>0.716418</td>\n",
       "    </tr>\n",
       "    <tr>\n",
       "      <th>Cutting Layup Shot</th>\n",
       "      <td>6</td>\n",
       "      <td>4</td>\n",
       "      <td>0.666667</td>\n",
       "    </tr>\n",
       "    <tr>\n",
       "      <th>Driving Bank shot</th>\n",
       "      <td>3</td>\n",
       "      <td>2</td>\n",
       "      <td>0.666667</td>\n",
       "    </tr>\n",
       "    <tr>\n",
       "      <th>Driving Dunk Shot</th>\n",
       "      <td>257</td>\n",
       "      <td>251</td>\n",
       "      <td>0.976654</td>\n",
       "    </tr>\n",
       "  </tbody>\n",
       "</table>\n",
       "</div>"
      ],
      "text/plain": [
       "                      try  made       per\n",
       "action_type                              \n",
       "Alley Oop Dunk Shot    95    90  0.947368\n",
       "Alley Oop Layup shot   67    48  0.716418\n",
       "Cutting Layup Shot      6     4  0.666667\n",
       "Driving Bank shot       3     2  0.666667\n",
       "Driving Dunk Shot     257   251  0.976654"
      ]
     },
     "execution_count": 53,
     "metadata": {},
     "output_type": "execute_result"
    }
   ],
   "source": [
    "data_action.head()"
   ]
  },
  {
   "cell_type": "code",
   "execution_count": 57,
   "metadata": {},
   "outputs": [
    {
     "data": {
      "text/plain": [
       "15836"
      ]
     },
     "execution_count": 57,
     "metadata": {},
     "output_type": "execute_result"
    }
   ],
   "source": [
    "max(data_action['try'])"
   ]
  },
  {
   "cell_type": "code",
   "execution_count": 5,
   "metadata": {
    "collapsed": true
   },
   "outputs": [],
   "source": [
    "%matplotlib inline\n",
    "import matplotlib.pyplot as plt\n",
    "# import seaborn as sns"
   ]
  },
  {
   "cell_type": "code",
   "execution_count": 17,
   "metadata": {
    "scrolled": true
   },
   "outputs": [
    {
     "data": {
      "text/plain": [
       "<matplotlib.axes._subplots.AxesSubplot at 0x4b8f5d1a20>"
      ]
     },
     "execution_count": 17,
     "metadata": {},
     "output_type": "execute_result"
    },
    {
     "data": {
      "image/png": "[encoded data removed]",
      "text/plain": [
       "<matplotlib.figure.Figure at 0x4b8cc862e8>"
      ]
     },
     "metadata": {},
     "output_type": "display_data"
    }
   ],
   "source": [
    "data_action.plot(kind = 'bar', x='try')"
   ]
  },
  {
   "cell_type": "code",
   "execution_count": 18,
   "metadata": {},
   "outputs": [
    {
     "data": {
      "text/plain": [
       "<matplotlib.axes._subplots.AxesSubplot at 0x4b97abf198>"
      ]
     },
     "execution_count": 18,
     "metadata": {},
     "output_type": "execute_result"
    },
    {
     "data": {
      "image/png": "[encoded data removed]",
      "text/plain": [
       "<matplotlib.figure.Figure at 0x4b97aae7b8>"
      ]
     },
     "metadata": {},
     "output_type": "display_data"
    }
   ],
   "source": [
    "import seaborn as sns\n",
    "data_action.plot(kind = 'bar', x='try')"
   ]
  },
  {
   "cell_type": "code",
   "execution_count": 14,
   "metadata": {},
   "outputs": [
    {
     "data": {
      "text/plain": [
       "<matplotlib.axes._subplots.AxesSubplot at 0x4b8f2434a8>"
      ]
     },
     "execution_count": 14,
     "metadata": {},
     "output_type": "execute_result"
    },
    {
     "data": {
      "image/png": "[encoded data removed]",
      "text/plain": [
       "<matplotlib.figure.Figure at 0x4b8cc4b278>"
      ]
     },
     "metadata": {},
     "output_type": "display_data"
    }
   ],
   "source": [
    "data_action.plot(kind = 'scatter', x='try', y = 'made', xlim =(0,2500))"
   ]
  },
  {
   "cell_type": "code",
   "execution_count": 68,
   "metadata": {
    "collapsed": true
   },
   "outputs": [],
   "source": [
    " from pandas.plotting import scatter_matrix\n",
    "    "
   ]
  },
  {
   "cell_type": "code",
   "execution_count": 69,
   "metadata": {},
   "outputs": [
    {
     "name": "stderr",
     "output_type": "stream",
     "text": [
      "C:\\Users\\namso_000\\Anaconda3\\lib\\site-packages\\matplotlib\\axes\\_base.py:2917: UserWarning: Attempting to set identical left==right results\n",
      "in singular transformations; automatically expanding.\n",
      "left=1610612747.0, right=1610612747.0\n",
      "  'left=%s, right=%s') % (left, right))\n",
      "C:\\Users\\namso_000\\Anaconda3\\lib\\site-packages\\matplotlib\\axes\\_base.py:3193: UserWarning: Attempting to set identical bottom==top results\n",
      "in singular transformations; automatically expanding.\n",
      "bottom=1610612747.0, top=1610612747.0\n",
      "  'bottom=%s, top=%s') % (bottom, top))\n"
     ]
    },
    {
     "ename": "LinAlgError",
     "evalue": "singular matrix",
     "output_type": "error",
     "traceback": [
      "\u001b[1;31m---------------------------------------------------------------------------\u001b[0m",
      "\u001b[1;31mLinAlgError\u001b[0m                               Traceback (most recent call last)",
      "\u001b[1;32m<ipython-input-69-6c2c2756db5c>\u001b[0m in \u001b[0;36m<module>\u001b[1;34m()\u001b[0m\n\u001b[1;32m----> 1\u001b[1;33m \u001b[0mscatter_matrix\u001b[0m\u001b[1;33m(\u001b[0m\u001b[0mdata\u001b[0m\u001b[1;33m,\u001b[0m \u001b[0malpha\u001b[0m\u001b[1;33m=\u001b[0m\u001b[1;36m0.2\u001b[0m\u001b[1;33m,\u001b[0m \u001b[0mfigsize\u001b[0m\u001b[1;33m=\u001b[0m\u001b[1;33m(\u001b[0m\u001b[1;36m6\u001b[0m\u001b[1;33m,\u001b[0m \u001b[1;36m6\u001b[0m\u001b[1;33m)\u001b[0m\u001b[1;33m,\u001b[0m \u001b[0mdiagonal\u001b[0m\u001b[1;33m=\u001b[0m\u001b[1;34m'kde'\u001b[0m\u001b[1;33m)\u001b[0m\u001b[1;33m\u001b[0m\u001b[0m\n\u001b[0m",
      "\u001b[1;32mC:\\Users\\namso_000\\Anaconda3\\lib\\site-packages\\pandas\\plotting\\_misc.py\u001b[0m in \u001b[0;36mscatter_matrix\u001b[1;34m(frame, alpha, figsize, ax, grid, diagonal, marker, density_kwds, hist_kwds, range_padding, **kwds)\u001b[0m\n\u001b[0;32m     94\u001b[0m                     \u001b[1;32mfrom\u001b[0m \u001b[0mscipy\u001b[0m\u001b[1;33m.\u001b[0m\u001b[0mstats\u001b[0m \u001b[1;32mimport\u001b[0m \u001b[0mgaussian_kde\u001b[0m\u001b[1;33m\u001b[0m\u001b[0m\n\u001b[0;32m     95\u001b[0m                     \u001b[0my\u001b[0m \u001b[1;33m=\u001b[0m \u001b[0mvalues\u001b[0m\u001b[1;33m\u001b[0m\u001b[0m\n\u001b[1;32m---> 96\u001b[1;33m                     \u001b[0mgkde\u001b[0m \u001b[1;33m=\u001b[0m \u001b[0mgaussian_kde\u001b[0m\u001b[1;33m(\u001b[0m\u001b[0my\u001b[0m\u001b[1;33m)\u001b[0m\u001b[1;33m\u001b[0m\u001b[0m\n\u001b[0m\u001b[0;32m     97\u001b[0m                     \u001b[0mind\u001b[0m \u001b[1;33m=\u001b[0m \u001b[0mnp\u001b[0m\u001b[1;33m.\u001b[0m\u001b[0mlinspace\u001b[0m\u001b[1;33m(\u001b[0m\u001b[0my\u001b[0m\u001b[1;33m.\u001b[0m\u001b[0mmin\u001b[0m\u001b[1;33m(\u001b[0m\u001b[1;33m)\u001b[0m\u001b[1;33m,\u001b[0m \u001b[0my\u001b[0m\u001b[1;33m.\u001b[0m\u001b[0mmax\u001b[0m\u001b[1;33m(\u001b[0m\u001b[1;33m)\u001b[0m\u001b[1;33m,\u001b[0m \u001b[1;36m1000\u001b[0m\u001b[1;33m)\u001b[0m\u001b[1;33m\u001b[0m\u001b[0m\n\u001b[0;32m     98\u001b[0m                     \u001b[0max\u001b[0m\u001b[1;33m.\u001b[0m\u001b[0mplot\u001b[0m\u001b[1;33m(\u001b[0m\u001b[0mind\u001b[0m\u001b[1;33m,\u001b[0m \u001b[0mgkde\u001b[0m\u001b[1;33m.\u001b[0m\u001b[0mevaluate\u001b[0m\u001b[1;33m(\u001b[0m\u001b[0mind\u001b[0m\u001b[1;33m)\u001b[0m\u001b[1;33m,\u001b[0m \u001b[1;33m**\u001b[0m\u001b[0mdensity_kwds\u001b[0m\u001b[1;33m)\u001b[0m\u001b[1;33m\u001b[0m\u001b[0m\n",
      "\u001b[1;32mC:\\Users\\namso_000\\Anaconda3\\lib\\site-packages\\scipy\\stats\\kde.py\u001b[0m in \u001b[0;36m__init__\u001b[1;34m(self, dataset, bw_method)\u001b[0m\n\u001b[0;32m    170\u001b[0m \u001b[1;33m\u001b[0m\u001b[0m\n\u001b[0;32m    171\u001b[0m         \u001b[0mself\u001b[0m\u001b[1;33m.\u001b[0m\u001b[0md\u001b[0m\u001b[1;33m,\u001b[0m \u001b[0mself\u001b[0m\u001b[1;33m.\u001b[0m\u001b[0mn\u001b[0m \u001b[1;33m=\u001b[0m \u001b[0mself\u001b[0m\u001b[1;33m.\u001b[0m\u001b[0mdataset\u001b[0m\u001b[1;33m.\u001b[0m\u001b[0mshape\u001b[0m\u001b[1;33m\u001b[0m\u001b[0m\n\u001b[1;32m--> 172\u001b[1;33m         \u001b[0mself\u001b[0m\u001b[1;33m.\u001b[0m\u001b[0mset_bandwidth\u001b[0m\u001b[1;33m(\u001b[0m\u001b[0mbw_method\u001b[0m\u001b[1;33m=\u001b[0m\u001b[0mbw_method\u001b[0m\u001b[1;33m)\u001b[0m\u001b[1;33m\u001b[0m\u001b[0m\n\u001b[0m\u001b[0;32m    173\u001b[0m \u001b[1;33m\u001b[0m\u001b[0m\n\u001b[0;32m    174\u001b[0m     \u001b[1;32mdef\u001b[0m \u001b[0mevaluate\u001b[0m\u001b[1;33m(\u001b[0m\u001b[0mself\u001b[0m\u001b[1;33m,\u001b[0m \u001b[0mpoints\u001b[0m\u001b[1;33m)\u001b[0m\u001b[1;33m:\u001b[0m\u001b[1;33m\u001b[0m\u001b[0m\n",
      "\u001b[1;32mC:\\Users\\namso_000\\Anaconda3\\lib\\site-packages\\scipy\\stats\\kde.py\u001b[0m in \u001b[0;36mset_bandwidth\u001b[1;34m(self, bw_method)\u001b[0m\n\u001b[0;32m    497\u001b[0m             \u001b[1;32mraise\u001b[0m \u001b[0mValueError\u001b[0m\u001b[1;33m(\u001b[0m\u001b[0mmsg\u001b[0m\u001b[1;33m)\u001b[0m\u001b[1;33m\u001b[0m\u001b[0m\n\u001b[0;32m    498\u001b[0m \u001b[1;33m\u001b[0m\u001b[0m\n\u001b[1;32m--> 499\u001b[1;33m         \u001b[0mself\u001b[0m\u001b[1;33m.\u001b[0m\u001b[0m_compute_covariance\u001b[0m\u001b[1;33m(\u001b[0m\u001b[1;33m)\u001b[0m\u001b[1;33m\u001b[0m\u001b[0m\n\u001b[0m\u001b[0;32m    500\u001b[0m \u001b[1;33m\u001b[0m\u001b[0m\n\u001b[0;32m    501\u001b[0m     \u001b[1;32mdef\u001b[0m \u001b[0m_compute_covariance\u001b[0m\u001b[1;33m(\u001b[0m\u001b[0mself\u001b[0m\u001b[1;33m)\u001b[0m\u001b[1;33m:\u001b[0m\u001b[1;33m\u001b[0m\u001b[0m\n",
      "\u001b[1;32mC:\\Users\\namso_000\\Anaconda3\\lib\\site-packages\\scipy\\stats\\kde.py\u001b[0m in \u001b[0;36m_compute_covariance\u001b[1;34m(self)\u001b[0m\n\u001b[0;32m    508\u001b[0m             self._data_covariance = atleast_2d(np.cov(self.dataset, rowvar=1,\n\u001b[0;32m    509\u001b[0m                                                bias=False))\n\u001b[1;32m--> 510\u001b[1;33m             \u001b[0mself\u001b[0m\u001b[1;33m.\u001b[0m\u001b[0m_data_inv_cov\u001b[0m \u001b[1;33m=\u001b[0m \u001b[0mlinalg\u001b[0m\u001b[1;33m.\u001b[0m\u001b[0minv\u001b[0m\u001b[1;33m(\u001b[0m\u001b[0mself\u001b[0m\u001b[1;33m.\u001b[0m\u001b[0m_data_covariance\u001b[0m\u001b[1;33m)\u001b[0m\u001b[1;33m\u001b[0m\u001b[0m\n\u001b[0m\u001b[0;32m    511\u001b[0m \u001b[1;33m\u001b[0m\u001b[0m\n\u001b[0;32m    512\u001b[0m         \u001b[0mself\u001b[0m\u001b[1;33m.\u001b[0m\u001b[0mcovariance\u001b[0m \u001b[1;33m=\u001b[0m \u001b[0mself\u001b[0m\u001b[1;33m.\u001b[0m\u001b[0m_data_covariance\u001b[0m \u001b[1;33m*\u001b[0m \u001b[0mself\u001b[0m\u001b[1;33m.\u001b[0m\u001b[0mfactor\u001b[0m\u001b[1;33m**\u001b[0m\u001b[1;36m2\u001b[0m\u001b[1;33m\u001b[0m\u001b[0m\n",
      "\u001b[1;32mC:\\Users\\namso_000\\Anaconda3\\lib\\site-packages\\scipy\\linalg\\basic.py\u001b[0m in \u001b[0;36minv\u001b[1;34m(a, overwrite_a, check_finite)\u001b[0m\n\u001b[0;32m    974\u001b[0m         \u001b[0minv_a\u001b[0m\u001b[1;33m,\u001b[0m \u001b[0minfo\u001b[0m \u001b[1;33m=\u001b[0m \u001b[0mgetri\u001b[0m\u001b[1;33m(\u001b[0m\u001b[0mlu\u001b[0m\u001b[1;33m,\u001b[0m \u001b[0mpiv\u001b[0m\u001b[1;33m,\u001b[0m \u001b[0mlwork\u001b[0m\u001b[1;33m=\u001b[0m\u001b[0mlwork\u001b[0m\u001b[1;33m,\u001b[0m \u001b[0moverwrite_lu\u001b[0m\u001b[1;33m=\u001b[0m\u001b[1;36m1\u001b[0m\u001b[1;33m)\u001b[0m\u001b[1;33m\u001b[0m\u001b[0m\n\u001b[0;32m    975\u001b[0m     \u001b[1;32mif\u001b[0m \u001b[0minfo\u001b[0m \u001b[1;33m>\u001b[0m \u001b[1;36m0\u001b[0m\u001b[1;33m:\u001b[0m\u001b[1;33m\u001b[0m\u001b[0m\n\u001b[1;32m--> 976\u001b[1;33m         \u001b[1;32mraise\u001b[0m \u001b[0mLinAlgError\u001b[0m\u001b[1;33m(\u001b[0m\u001b[1;34m\"singular matrix\"\u001b[0m\u001b[1;33m)\u001b[0m\u001b[1;33m\u001b[0m\u001b[0m\n\u001b[0m\u001b[0;32m    977\u001b[0m     \u001b[1;32mif\u001b[0m \u001b[0minfo\u001b[0m \u001b[1;33m<\u001b[0m \u001b[1;36m0\u001b[0m\u001b[1;33m:\u001b[0m\u001b[1;33m\u001b[0m\u001b[0m\n\u001b[0;32m    978\u001b[0m         raise ValueError('illegal value in %d-th argument of internal '\n",
      "\u001b[1;31mLinAlgError\u001b[0m: singular matrix"
     ]
    },
    {
     "data": {
      "image/png": "[encoded data removed]",
      "text/plain": [
       "<matplotlib.figure.Figure at 0x8d41a89860>"
      ]
     },
     "metadata": {},
     "output_type": "display_data"
    }
   ],
   "source": [
    "scatter_matrix(data, alpha=0.2, figsize=(6, 6), diagonal='kde')"
   ]
  },
  {
   "cell_type": "code",
   "execution_count": 18,
   "metadata": {
    "collapsed": true
   },
   "outputs": [],
   "source": [
    "import seaborn as sns"
   ]
  },
  {
   "cell_type": "code",
   "execution_count": null,
   "metadata": {
    "collapsed": true
   },
   "outputs": [],
   "source": []
  },
  {
   "cell_type": "code",
   "execution_count": null,
   "metadata": {
    "collapsed": true
   },
   "outputs": [],
   "source": []
  },
  {
   "cell_type": "code",
   "execution_count": null,
   "metadata": {
    "collapsed": true
   },
   "outputs": [],
   "source": [
    "sns.barplot(data = data_action_type, x='action_type', y = 'per', hue = 'action_type')"
   ]
  },
  {
   "cell_type": "code",
   "execution_count": null,
   "metadata": {
    "collapsed": true
   },
   "outputs": [],
   "source": []
  }
 ],
 "metadata": {
  "anaconda-cloud": {},
  "kernelspec": {
   "display_name": "Python 3",
   "language": "python",
   "name": "python3"
  },
  "language_info": {
   "codemirror_mode": {
    "name": "ipython",
    "version": 3
   },
   "file_extension": ".py",
   "mimetype": "text/x-python",
   "name": "python",
   "nbconvert_exporter": "python",
   "pygments_lexer": "ipython3",
   "version": "3.6.1"
  }
 },
 "nbformat": 4,
 "nbformat_minor": 2
}
