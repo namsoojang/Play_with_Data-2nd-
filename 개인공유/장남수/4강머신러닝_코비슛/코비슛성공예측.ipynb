{
 "cells": [
  {
   "cell_type": "markdown",
   "metadata": {},
   "source": [
    "# 코비 슛 성공 예측"
   ]
  },
  {
   "cell_type": "markdown",
   "metadata": {},
   "source": [
    "### 데이터 로드"
   ]
  },
  {
   "cell_type": "code",
   "execution_count": 4,
   "metadata": {
    "collapsed": true
   },
   "outputs": [],
   "source": [
    "#https://www.kaggle.com/c/kobe-bryant-shot-selection/data\n",
    "import pandas as pd\n",
    "\n",
    "raw = pd.read_csv(\"data.csv\")"
   ]
  },
  {
   "cell_type": "code",
   "execution_count": 5,
   "metadata": {},
   "outputs": [
    {
     "data": {
      "text/plain": [
       "(30697, 25)"
      ]
     },
     "execution_count": 5,
     "metadata": {},
     "output_type": "execute_result"
    }
   ],
   "source": [
    "raw.shape"
   ]
  },
  {
   "cell_type": "code",
   "execution_count": 6,
   "metadata": {
    "scrolled": true
   },
   "outputs": [
    {
     "data": {
      "text/html": [
       "<div>\n",
       "<style>\n",
       "    .dataframe thead tr:only-child th {\n",
       "        text-align: right;\n",
       "    }\n",
       "\n",
       "    .dataframe thead th {\n",
       "        text-align: left;\n",
       "    }\n",
       "\n",
       "    .dataframe tbody tr th {\n",
       "        vertical-align: top;\n",
       "    }\n",
       "</style>\n",
       "<table border=\"1\" class=\"dataframe\">\n",
       "  <thead>\n",
       "    <tr style=\"text-align: right;\">\n",
       "      <th></th>\n",
       "      <th>action_type</th>\n",
       "      <th>combined_shot_type</th>\n",
       "      <th>game_event_id</th>\n",
       "      <th>game_id</th>\n",
       "      <th>lat</th>\n",
       "      <th>loc_x</th>\n",
       "      <th>loc_y</th>\n",
       "      <th>lon</th>\n",
       "      <th>minutes_remaining</th>\n",
       "      <th>period</th>\n",
       "      <th>...</th>\n",
       "      <th>shot_type</th>\n",
       "      <th>shot_zone_area</th>\n",
       "      <th>shot_zone_basic</th>\n",
       "      <th>shot_zone_range</th>\n",
       "      <th>team_id</th>\n",
       "      <th>team_name</th>\n",
       "      <th>game_date</th>\n",
       "      <th>matchup</th>\n",
       "      <th>opponent</th>\n",
       "      <th>shot_id</th>\n",
       "    </tr>\n",
       "  </thead>\n",
       "  <tbody>\n",
       "    <tr>\n",
       "      <th>0</th>\n",
       "      <td>Jump Shot</td>\n",
       "      <td>Jump Shot</td>\n",
       "      <td>10</td>\n",
       "      <td>20000012</td>\n",
       "      <td>33.9723</td>\n",
       "      <td>167</td>\n",
       "      <td>72</td>\n",
       "      <td>-118.1028</td>\n",
       "      <td>10</td>\n",
       "      <td>1</td>\n",
       "      <td>...</td>\n",
       "      <td>2PT Field Goal</td>\n",
       "      <td>Right Side(R)</td>\n",
       "      <td>Mid-Range</td>\n",
       "      <td>16-24 ft.</td>\n",
       "      <td>1610612747</td>\n",
       "      <td>Los Angeles Lakers</td>\n",
       "      <td>2000-10-31</td>\n",
       "      <td>LAL @ POR</td>\n",
       "      <td>POR</td>\n",
       "      <td>1</td>\n",
       "    </tr>\n",
       "    <tr>\n",
       "      <th>1</th>\n",
       "      <td>Jump Shot</td>\n",
       "      <td>Jump Shot</td>\n",
       "      <td>12</td>\n",
       "      <td>20000012</td>\n",
       "      <td>34.0443</td>\n",
       "      <td>-157</td>\n",
       "      <td>0</td>\n",
       "      <td>-118.4268</td>\n",
       "      <td>10</td>\n",
       "      <td>1</td>\n",
       "      <td>...</td>\n",
       "      <td>2PT Field Goal</td>\n",
       "      <td>Left Side(L)</td>\n",
       "      <td>Mid-Range</td>\n",
       "      <td>8-16 ft.</td>\n",
       "      <td>1610612747</td>\n",
       "      <td>Los Angeles Lakers</td>\n",
       "      <td>2000-10-31</td>\n",
       "      <td>LAL @ POR</td>\n",
       "      <td>POR</td>\n",
       "      <td>2</td>\n",
       "    </tr>\n",
       "    <tr>\n",
       "      <th>2</th>\n",
       "      <td>Jump Shot</td>\n",
       "      <td>Jump Shot</td>\n",
       "      <td>35</td>\n",
       "      <td>20000012</td>\n",
       "      <td>33.9093</td>\n",
       "      <td>-101</td>\n",
       "      <td>135</td>\n",
       "      <td>-118.3708</td>\n",
       "      <td>7</td>\n",
       "      <td>1</td>\n",
       "      <td>...</td>\n",
       "      <td>2PT Field Goal</td>\n",
       "      <td>Left Side Center(LC)</td>\n",
       "      <td>Mid-Range</td>\n",
       "      <td>16-24 ft.</td>\n",
       "      <td>1610612747</td>\n",
       "      <td>Los Angeles Lakers</td>\n",
       "      <td>2000-10-31</td>\n",
       "      <td>LAL @ POR</td>\n",
       "      <td>POR</td>\n",
       "      <td>3</td>\n",
       "    </tr>\n",
       "    <tr>\n",
       "      <th>3</th>\n",
       "      <td>Jump Shot</td>\n",
       "      <td>Jump Shot</td>\n",
       "      <td>43</td>\n",
       "      <td>20000012</td>\n",
       "      <td>33.8693</td>\n",
       "      <td>138</td>\n",
       "      <td>175</td>\n",
       "      <td>-118.1318</td>\n",
       "      <td>6</td>\n",
       "      <td>1</td>\n",
       "      <td>...</td>\n",
       "      <td>2PT Field Goal</td>\n",
       "      <td>Right Side Center(RC)</td>\n",
       "      <td>Mid-Range</td>\n",
       "      <td>16-24 ft.</td>\n",
       "      <td>1610612747</td>\n",
       "      <td>Los Angeles Lakers</td>\n",
       "      <td>2000-10-31</td>\n",
       "      <td>LAL @ POR</td>\n",
       "      <td>POR</td>\n",
       "      <td>4</td>\n",
       "    </tr>\n",
       "    <tr>\n",
       "      <th>4</th>\n",
       "      <td>Driving Dunk Shot</td>\n",
       "      <td>Dunk</td>\n",
       "      <td>155</td>\n",
       "      <td>20000012</td>\n",
       "      <td>34.0443</td>\n",
       "      <td>0</td>\n",
       "      <td>0</td>\n",
       "      <td>-118.2698</td>\n",
       "      <td>6</td>\n",
       "      <td>2</td>\n",
       "      <td>...</td>\n",
       "      <td>2PT Field Goal</td>\n",
       "      <td>Center(C)</td>\n",
       "      <td>Restricted Area</td>\n",
       "      <td>Less Than 8 ft.</td>\n",
       "      <td>1610612747</td>\n",
       "      <td>Los Angeles Lakers</td>\n",
       "      <td>2000-10-31</td>\n",
       "      <td>LAL @ POR</td>\n",
       "      <td>POR</td>\n",
       "      <td>5</td>\n",
       "    </tr>\n",
       "  </tbody>\n",
       "</table>\n",
       "<p>5 rows × 25 columns</p>\n",
       "</div>"
      ],
      "text/plain": [
       "         action_type combined_shot_type  game_event_id   game_id      lat  \\\n",
       "0          Jump Shot          Jump Shot             10  20000012  33.9723   \n",
       "1          Jump Shot          Jump Shot             12  20000012  34.0443   \n",
       "2          Jump Shot          Jump Shot             35  20000012  33.9093   \n",
       "3          Jump Shot          Jump Shot             43  20000012  33.8693   \n",
       "4  Driving Dunk Shot               Dunk            155  20000012  34.0443   \n",
       "\n",
       "   loc_x  loc_y       lon  minutes_remaining  period   ...          shot_type  \\\n",
       "0    167     72 -118.1028                 10       1   ...     2PT Field Goal   \n",
       "1   -157      0 -118.4268                 10       1   ...     2PT Field Goal   \n",
       "2   -101    135 -118.3708                  7       1   ...     2PT Field Goal   \n",
       "3    138    175 -118.1318                  6       1   ...     2PT Field Goal   \n",
       "4      0      0 -118.2698                  6       2   ...     2PT Field Goal   \n",
       "\n",
       "          shot_zone_area  shot_zone_basic  shot_zone_range     team_id  \\\n",
       "0          Right Side(R)        Mid-Range        16-24 ft.  1610612747   \n",
       "1           Left Side(L)        Mid-Range         8-16 ft.  1610612747   \n",
       "2   Left Side Center(LC)        Mid-Range        16-24 ft.  1610612747   \n",
       "3  Right Side Center(RC)        Mid-Range        16-24 ft.  1610612747   \n",
       "4              Center(C)  Restricted Area  Less Than 8 ft.  1610612747   \n",
       "\n",
       "            team_name   game_date    matchup opponent  shot_id  \n",
       "0  Los Angeles Lakers  2000-10-31  LAL @ POR      POR        1  \n",
       "1  Los Angeles Lakers  2000-10-31  LAL @ POR      POR        2  \n",
       "2  Los Angeles Lakers  2000-10-31  LAL @ POR      POR        3  \n",
       "3  Los Angeles Lakers  2000-10-31  LAL @ POR      POR        4  \n",
       "4  Los Angeles Lakers  2000-10-31  LAL @ POR      POR        5  \n",
       "\n",
       "[5 rows x 25 columns]"
      ]
     },
     "execution_count": 6,
     "metadata": {},
     "output_type": "execute_result"
    }
   ],
   "source": [
    "raw.head()"
   ]
  },
  {
   "cell_type": "markdown",
   "metadata": {},
   "source": [
    "## 데이터 살펴보기"
   ]
  },
  {
   "cell_type": "code",
   "execution_count": 7,
   "metadata": {},
   "outputs": [
    {
     "name": "stdout",
     "output_type": "stream",
     "text": [
      "action_type\n",
      "combined_shot_type\n",
      "game_event_id\n",
      "game_id\n",
      "lat\n",
      "loc_x\n",
      "loc_y\n",
      "lon\n",
      "minutes_remaining\n",
      "period\n",
      "playoffs\n",
      "season\n",
      "seconds_remaining\n",
      "shot_distance\n",
      "shot_made_flag\n",
      "shot_type\n",
      "shot_zone_area\n",
      "shot_zone_basic\n",
      "shot_zone_range\n",
      "team_id\n",
      "team_name\n",
      "game_date\n",
      "matchup\n",
      "opponent\n",
      "shot_id\n"
     ]
    }
   ],
   "source": [
    "for col in raw.columns:\n",
    "    print(col)"
   ]
  },
  {
   "cell_type": "code",
   "execution_count": 8,
   "metadata": {
    "scrolled": true
   },
   "outputs": [
    {
     "data": {
      "text/plain": [
       "0    NaN\n",
       "1    0.0\n",
       "2    1.0\n",
       "3    0.0\n",
       "4    1.0\n",
       "5    0.0\n",
       "6    1.0\n",
       "7    NaN\n",
       "8    1.0\n",
       "9    0.0\n",
       "Name: shot_made_flag, dtype: float64"
      ]
     },
     "execution_count": 8,
     "metadata": {},
     "output_type": "execute_result"
    }
   ],
   "source": [
    "raw.shot_made_flag.head(10)\n",
    "# shot_made_flag   1 or 0  분류 문제\n",
    "# NaN 은 답을 알 수 없기에 제외 필요함"
   ]
  },
  {
   "cell_type": "markdown",
   "metadata": {},
   "source": [
    " - 데이터 제외하기: dropna  or isnull 활용"
   ]
  },
  {
   "cell_type": "code",
   "execution_count": 9,
   "metadata": {
    "collapsed": true
   },
   "outputs": [],
   "source": [
    "data = raw.dropna(axis = 0, subset = ['shot_made_flag'])      # 'shot_made_flag  에 Nan 값이 있을 경우 해당 row 를  drop하라\n",
    "\n",
    "# .isnull 을 이용해서 동일하게 만들 수 있음\n",
    "# data = raw[raw.shot_made_flg.isnull() == False]        "
   ]
  },
  {
   "cell_type": "code",
   "execution_count": 7,
   "metadata": {},
   "outputs": [
    {
     "data": {
      "text/plain": [
       "(25697, 25)"
      ]
     },
     "execution_count": 7,
     "metadata": {},
     "output_type": "execute_result"
    }
   ],
   "source": [
    "data.shape"
   ]
  },
  {
   "cell_type": "code",
   "execution_count": 8,
   "metadata": {
    "scrolled": true
   },
   "outputs": [
    {
     "data": {
      "text/html": [
       "<div>\n",
       "<style>\n",
       "    .dataframe thead tr:only-child th {\n",
       "        text-align: right;\n",
       "    }\n",
       "\n",
       "    .dataframe thead th {\n",
       "        text-align: left;\n",
       "    }\n",
       "\n",
       "    .dataframe tbody tr th {\n",
       "        vertical-align: top;\n",
       "    }\n",
       "</style>\n",
       "<table border=\"1\" class=\"dataframe\">\n",
       "  <thead>\n",
       "    <tr style=\"text-align: right;\">\n",
       "      <th></th>\n",
       "      <th>action_type</th>\n",
       "      <th>combined_shot_type</th>\n",
       "      <th>game_event_id</th>\n",
       "      <th>game_id</th>\n",
       "      <th>lat</th>\n",
       "      <th>loc_x</th>\n",
       "      <th>loc_y</th>\n",
       "      <th>lon</th>\n",
       "      <th>minutes_remaining</th>\n",
       "      <th>period</th>\n",
       "      <th>...</th>\n",
       "      <th>shot_type</th>\n",
       "      <th>shot_zone_area</th>\n",
       "      <th>shot_zone_basic</th>\n",
       "      <th>shot_zone_range</th>\n",
       "      <th>team_id</th>\n",
       "      <th>team_name</th>\n",
       "      <th>game_date</th>\n",
       "      <th>matchup</th>\n",
       "      <th>opponent</th>\n",
       "      <th>shot_id</th>\n",
       "    </tr>\n",
       "  </thead>\n",
       "  <tbody>\n",
       "    <tr>\n",
       "      <th>1</th>\n",
       "      <td>Jump Shot</td>\n",
       "      <td>Jump Shot</td>\n",
       "      <td>12</td>\n",
       "      <td>20000012</td>\n",
       "      <td>34.0443</td>\n",
       "      <td>-157</td>\n",
       "      <td>0</td>\n",
       "      <td>-118.4268</td>\n",
       "      <td>10</td>\n",
       "      <td>1</td>\n",
       "      <td>...</td>\n",
       "      <td>2PT Field Goal</td>\n",
       "      <td>Left Side(L)</td>\n",
       "      <td>Mid-Range</td>\n",
       "      <td>8-16 ft.</td>\n",
       "      <td>1610612747</td>\n",
       "      <td>Los Angeles Lakers</td>\n",
       "      <td>2000-10-31</td>\n",
       "      <td>LAL @ POR</td>\n",
       "      <td>POR</td>\n",
       "      <td>2</td>\n",
       "    </tr>\n",
       "    <tr>\n",
       "      <th>2</th>\n",
       "      <td>Jump Shot</td>\n",
       "      <td>Jump Shot</td>\n",
       "      <td>35</td>\n",
       "      <td>20000012</td>\n",
       "      <td>33.9093</td>\n",
       "      <td>-101</td>\n",
       "      <td>135</td>\n",
       "      <td>-118.3708</td>\n",
       "      <td>7</td>\n",
       "      <td>1</td>\n",
       "      <td>...</td>\n",
       "      <td>2PT Field Goal</td>\n",
       "      <td>Left Side Center(LC)</td>\n",
       "      <td>Mid-Range</td>\n",
       "      <td>16-24 ft.</td>\n",
       "      <td>1610612747</td>\n",
       "      <td>Los Angeles Lakers</td>\n",
       "      <td>2000-10-31</td>\n",
       "      <td>LAL @ POR</td>\n",
       "      <td>POR</td>\n",
       "      <td>3</td>\n",
       "    </tr>\n",
       "    <tr>\n",
       "      <th>3</th>\n",
       "      <td>Jump Shot</td>\n",
       "      <td>Jump Shot</td>\n",
       "      <td>43</td>\n",
       "      <td>20000012</td>\n",
       "      <td>33.8693</td>\n",
       "      <td>138</td>\n",
       "      <td>175</td>\n",
       "      <td>-118.1318</td>\n",
       "      <td>6</td>\n",
       "      <td>1</td>\n",
       "      <td>...</td>\n",
       "      <td>2PT Field Goal</td>\n",
       "      <td>Right Side Center(RC)</td>\n",
       "      <td>Mid-Range</td>\n",
       "      <td>16-24 ft.</td>\n",
       "      <td>1610612747</td>\n",
       "      <td>Los Angeles Lakers</td>\n",
       "      <td>2000-10-31</td>\n",
       "      <td>LAL @ POR</td>\n",
       "      <td>POR</td>\n",
       "      <td>4</td>\n",
       "    </tr>\n",
       "    <tr>\n",
       "      <th>4</th>\n",
       "      <td>Driving Dunk Shot</td>\n",
       "      <td>Dunk</td>\n",
       "      <td>155</td>\n",
       "      <td>20000012</td>\n",
       "      <td>34.0443</td>\n",
       "      <td>0</td>\n",
       "      <td>0</td>\n",
       "      <td>-118.2698</td>\n",
       "      <td>6</td>\n",
       "      <td>2</td>\n",
       "      <td>...</td>\n",
       "      <td>2PT Field Goal</td>\n",
       "      <td>Center(C)</td>\n",
       "      <td>Restricted Area</td>\n",
       "      <td>Less Than 8 ft.</td>\n",
       "      <td>1610612747</td>\n",
       "      <td>Los Angeles Lakers</td>\n",
       "      <td>2000-10-31</td>\n",
       "      <td>LAL @ POR</td>\n",
       "      <td>POR</td>\n",
       "      <td>5</td>\n",
       "    </tr>\n",
       "    <tr>\n",
       "      <th>5</th>\n",
       "      <td>Jump Shot</td>\n",
       "      <td>Jump Shot</td>\n",
       "      <td>244</td>\n",
       "      <td>20000012</td>\n",
       "      <td>34.0553</td>\n",
       "      <td>-145</td>\n",
       "      <td>-11</td>\n",
       "      <td>-118.4148</td>\n",
       "      <td>9</td>\n",
       "      <td>3</td>\n",
       "      <td>...</td>\n",
       "      <td>2PT Field Goal</td>\n",
       "      <td>Left Side(L)</td>\n",
       "      <td>Mid-Range</td>\n",
       "      <td>8-16 ft.</td>\n",
       "      <td>1610612747</td>\n",
       "      <td>Los Angeles Lakers</td>\n",
       "      <td>2000-10-31</td>\n",
       "      <td>LAL @ POR</td>\n",
       "      <td>POR</td>\n",
       "      <td>6</td>\n",
       "    </tr>\n",
       "  </tbody>\n",
       "</table>\n",
       "<p>5 rows × 25 columns</p>\n",
       "</div>"
      ],
      "text/plain": [
       "         action_type combined_shot_type  game_event_id   game_id      lat  \\\n",
       "1          Jump Shot          Jump Shot             12  20000012  34.0443   \n",
       "2          Jump Shot          Jump Shot             35  20000012  33.9093   \n",
       "3          Jump Shot          Jump Shot             43  20000012  33.8693   \n",
       "4  Driving Dunk Shot               Dunk            155  20000012  34.0443   \n",
       "5          Jump Shot          Jump Shot            244  20000012  34.0553   \n",
       "\n",
       "   loc_x  loc_y       lon  minutes_remaining  period   ...          shot_type  \\\n",
       "1   -157      0 -118.4268                 10       1   ...     2PT Field Goal   \n",
       "2   -101    135 -118.3708                  7       1   ...     2PT Field Goal   \n",
       "3    138    175 -118.1318                  6       1   ...     2PT Field Goal   \n",
       "4      0      0 -118.2698                  6       2   ...     2PT Field Goal   \n",
       "5   -145    -11 -118.4148                  9       3   ...     2PT Field Goal   \n",
       "\n",
       "          shot_zone_area  shot_zone_basic  shot_zone_range     team_id  \\\n",
       "1           Left Side(L)        Mid-Range         8-16 ft.  1610612747   \n",
       "2   Left Side Center(LC)        Mid-Range        16-24 ft.  1610612747   \n",
       "3  Right Side Center(RC)        Mid-Range        16-24 ft.  1610612747   \n",
       "4              Center(C)  Restricted Area  Less Than 8 ft.  1610612747   \n",
       "5           Left Side(L)        Mid-Range         8-16 ft.  1610612747   \n",
       "\n",
       "            team_name   game_date    matchup opponent  shot_id  \n",
       "1  Los Angeles Lakers  2000-10-31  LAL @ POR      POR        2  \n",
       "2  Los Angeles Lakers  2000-10-31  LAL @ POR      POR        3  \n",
       "3  Los Angeles Lakers  2000-10-31  LAL @ POR      POR        4  \n",
       "4  Los Angeles Lakers  2000-10-31  LAL @ POR      POR        5  \n",
       "5  Los Angeles Lakers  2000-10-31  LAL @ POR      POR        6  \n",
       "\n",
       "[5 rows x 25 columns]"
      ]
     },
     "execution_count": 8,
     "metadata": {},
     "output_type": "execute_result"
    }
   ],
   "source": [
    "data.head()"
   ]
  },
  {
   "cell_type": "markdown",
   "metadata": {},
   "source": [
    "###  action_shot 데이터 살펴보기"
   ]
  },
  {
   "cell_type": "code",
   "execution_count": 10,
   "metadata": {},
   "outputs": [],
   "source": [
    "action_shots = []\n",
    "for action in set(data.action_type):\n",
    "    count_try = len(data[data.action_type == action])\n",
    "    count_made = sum(data[data.action_type == action].shot_made_flag)\n",
    "    made_percent = count_made / count_try\n",
    "    action_shots.append((action, count_try, count_made, int(made_percent*1000)/10))"
   ]
  },
  {
   "cell_type": "code",
   "execution_count": 11,
   "metadata": {},
   "outputs": [
    {
     "name": "stdout",
     "output_type": "stream",
     "text": [
      "('Fadeaway Jump Shot', 872, 501.0, 57.4)\n",
      "('Turnaround Jump Shot', 891, 533.0, 59.8)\n",
      "('Alley Oop Layup shot', 67, 48.0, 71.6)\n",
      "('Driving Floating Bank Jump Shot', 1, 1.0, 100.0)\n",
      "('Turnaround Finger Roll Shot', 2, 2.0, 100.0)\n",
      "('Driving Bank shot', 3, 2.0, 66.6)\n",
      "('Running Bank shot', 43, 36.0, 83.7)\n",
      "('Cutting Layup Shot', 6, 4.0, 66.6)\n",
      "('Driving Hook Shot', 13, 8.0, 61.5)\n",
      "('Running Finger Roll Layup Shot', 5, 3.0, 60.0)\n",
      "('Follow Up Dunk Shot', 10, 9.0, 90.0)\n",
      "('Turnaround Hook Shot', 8, 4.0, 50.0)\n",
      "('Jump Bank Shot', 289, 224.0, 77.5)\n",
      "('Pullup Jump shot', 402, 291.0, 72.3)\n",
      "('Driving Slam Dunk Shot', 43, 42.0, 97.6)\n",
      "('Reverse Slam Dunk Shot', 15, 15.0, 100.0)\n",
      "('Finger Roll Layup Shot', 28, 23.0, 82.1)\n",
      "('Step Back Jump shot', 106, 67.0, 63.2)\n",
      "('Running Tip Shot', 1, 0.0, 0.0)\n",
      "('Driving Reverse Layup Shot', 83, 62.0, 74.6)\n",
      "('Layup Shot', 2154, 830.0, 38.5)\n",
      "('Fadeaway Bank shot', 27, 24.0, 88.8)\n",
      "('Running Layup Shot', 51, 36.0, 70.5)\n",
      "('Jump Shot', 15836, 5177.0, 32.6)\n",
      "('Putback Dunk Shot', 3, 2.0, 66.6)\n",
      "('Putback Slam Dunk Shot', 2, 1.0, 50.0)\n",
      "('Running Finger Roll Shot', 4, 1.0, 25.0)\n",
      "('Running Reverse Layup Shot', 7, 4.0, 57.1)\n",
      "('Floating Jump shot', 93, 67.0, 72.0)\n",
      "('Pullup Bank shot', 11, 6.0, 54.5)\n",
      "('Alley Oop Dunk Shot', 95, 90.0, 94.7)\n",
      "('Dunk Shot', 217, 169.0, 77.8)\n",
      "('Running Dunk Shot', 18, 16.0, 88.8)\n",
      "('Tip Shot', 151, 53.0, 35.0)\n",
      "('Jump Hook Shot', 19, 14.0, 73.6)\n",
      "('Turnaround Bank shot', 58, 46.0, 79.3)\n",
      "('Slam Dunk Shot', 334, 328.0, 98.2)\n",
      "('Driving Finger Roll Layup Shot', 59, 52.0, 88.1)\n",
      "('Finger Roll Shot', 26, 12.0, 46.1)\n",
      "('Reverse Dunk Shot', 61, 56.0, 91.8)\n",
      "('Hook Shot', 73, 27.0, 36.9)\n",
      "('Running Hook Shot', 33, 29.0, 87.8)\n",
      "('Reverse Layup Shot', 333, 212.0, 63.6)\n",
      "('Running Pull-Up Jump Shot', 3, 2.0, 66.6)\n",
      "('Putback Layup Shot', 9, 6.0, 66.6)\n",
      "('Tip Layup Shot', 2, 1.0, 50.0)\n",
      "('Running Slam Dunk Shot', 1, 1.0, 100.0)\n",
      "('Turnaround Fadeaway shot', 366, 214.0, 58.4)\n",
      "('Driving Jump shot', 23, 10.0, 43.4)\n",
      "('Hook Bank Shot', 5, 5.0, 100.0)\n",
      "('Driving Floating Jump Shot', 3, 1.0, 33.3)\n",
      "('Running Jump Shot', 779, 582.0, 74.7)\n",
      "('Driving Dunk Shot', 257, 251.0, 97.6)\n",
      "('Driving Finger Roll Shot', 68, 58.0, 85.2)\n",
      "('Driving Layup Shot', 1628, 1207.0, 74.1)\n"
     ]
    }
   ],
   "source": [
    "for shot in action_shots:\n",
    "    print(shot)    # 슛 종류 , 슛 시도 횟수, 슛 성공횟수"
   ]
  },
  {
   "cell_type": "code",
   "execution_count": 12,
   "metadata": {
    "collapsed": true
   },
   "outputs": [],
   "source": [
    "# # 성공률 순으로 살펴보기\n",
    "\n",
    "# def cal_shot_success(x):\n",
    "#     if x[2] == 0:\n",
    "#         return 0\n",
    "#     else:\n",
    "#         return x[2]/x[1]\n",
    "    \n",
    "\n",
    "action_shots.sort(key = lambda x: x[3], reverse=True)     # 슛 성공횟수 많은 순으로 정렬\n",
    "\n",
    "\n",
    "# # action_shots.sort(key = lambda x: x[1]/x[2], reverse=True)  # 슛 성공률 높은 순으로 정렬  0 이 나올 경우 계산 X\n",
    "# action_shots.sort(key = lambda x: cal_shot_success(x), reverse=True)"
   ]
  },
  {
   "cell_type": "code",
   "execution_count": 13,
   "metadata": {},
   "outputs": [
    {
     "name": "stdout",
     "output_type": "stream",
     "text": [
      "('Driving Floating Bank Jump Shot', 1, 1.0, 100.0)\n",
      "('Turnaround Finger Roll Shot', 2, 2.0, 100.0)\n",
      "('Reverse Slam Dunk Shot', 15, 15.0, 100.0)\n",
      "('Running Slam Dunk Shot', 1, 1.0, 100.0)\n",
      "('Hook Bank Shot', 5, 5.0, 100.0)\n",
      "('Slam Dunk Shot', 334, 328.0, 98.2)\n",
      "('Driving Slam Dunk Shot', 43, 42.0, 97.6)\n",
      "('Driving Dunk Shot', 257, 251.0, 97.6)\n",
      "('Alley Oop Dunk Shot', 95, 90.0, 94.7)\n",
      "('Reverse Dunk Shot', 61, 56.0, 91.8)\n",
      "('Follow Up Dunk Shot', 10, 9.0, 90.0)\n",
      "('Fadeaway Bank shot', 27, 24.0, 88.8)\n",
      "('Running Dunk Shot', 18, 16.0, 88.8)\n",
      "('Driving Finger Roll Layup Shot', 59, 52.0, 88.1)\n",
      "('Running Hook Shot', 33, 29.0, 87.8)\n",
      "('Driving Finger Roll Shot', 68, 58.0, 85.2)\n",
      "('Running Bank shot', 43, 36.0, 83.7)\n",
      "('Finger Roll Layup Shot', 28, 23.0, 82.1)\n",
      "('Turnaround Bank shot', 58, 46.0, 79.3)\n",
      "('Dunk Shot', 217, 169.0, 77.8)\n",
      "('Jump Bank Shot', 289, 224.0, 77.5)\n",
      "('Running Jump Shot', 779, 582.0, 74.7)\n",
      "('Driving Reverse Layup Shot', 83, 62.0, 74.6)\n",
      "('Driving Layup Shot', 1628, 1207.0, 74.1)\n",
      "('Jump Hook Shot', 19, 14.0, 73.6)\n",
      "('Pullup Jump shot', 402, 291.0, 72.3)\n",
      "('Floating Jump shot', 93, 67.0, 72.0)\n",
      "('Alley Oop Layup shot', 67, 48.0, 71.6)\n",
      "('Running Layup Shot', 51, 36.0, 70.5)\n",
      "('Driving Bank shot', 3, 2.0, 66.6)\n",
      "('Cutting Layup Shot', 6, 4.0, 66.6)\n",
      "('Putback Dunk Shot', 3, 2.0, 66.6)\n",
      "('Running Pull-Up Jump Shot', 3, 2.0, 66.6)\n",
      "('Putback Layup Shot', 9, 6.0, 66.6)\n",
      "('Reverse Layup Shot', 333, 212.0, 63.6)\n",
      "('Step Back Jump shot', 106, 67.0, 63.2)\n",
      "('Driving Hook Shot', 13, 8.0, 61.5)\n",
      "('Running Finger Roll Layup Shot', 5, 3.0, 60.0)\n",
      "('Turnaround Jump Shot', 891, 533.0, 59.8)\n",
      "('Turnaround Fadeaway shot', 366, 214.0, 58.4)\n",
      "('Fadeaway Jump Shot', 872, 501.0, 57.4)\n",
      "('Running Reverse Layup Shot', 7, 4.0, 57.1)\n",
      "('Pullup Bank shot', 11, 6.0, 54.5)\n",
      "('Turnaround Hook Shot', 8, 4.0, 50.0)\n",
      "('Putback Slam Dunk Shot', 2, 1.0, 50.0)\n",
      "('Tip Layup Shot', 2, 1.0, 50.0)\n",
      "('Finger Roll Shot', 26, 12.0, 46.1)\n",
      "('Driving Jump shot', 23, 10.0, 43.4)\n",
      "('Layup Shot', 2154, 830.0, 38.5)\n",
      "('Hook Shot', 73, 27.0, 36.9)\n",
      "('Tip Shot', 151, 53.0, 35.0)\n",
      "('Driving Floating Jump Shot', 3, 1.0, 33.3)\n",
      "('Jump Shot', 15836, 5177.0, 32.6)\n",
      "('Running Finger Roll Shot', 4, 1.0, 25.0)\n",
      "('Running Tip Shot', 1, 0.0, 0.0)\n"
     ]
    }
   ],
   "source": [
    "for shot in action_shots:\n",
    "    print(shot)    # 슛 종류 , 슛 시도 횟수, 슛 성공횟수"
   ]
  },
  {
   "cell_type": "code",
   "execution_count": 14,
   "metadata": {
    "collapsed": true
   },
   "outputs": [],
   "source": [
    "data_action_type = pd.DataFrame(action_shots, columns = ['action_type', 'try','made', 'per'])"
   ]
  },
  {
   "cell_type": "code",
   "execution_count": 15,
   "metadata": {
    "scrolled": true
   },
   "outputs": [
    {
     "data": {
      "text/html": [
       "<div>\n",
       "<style>\n",
       "    .dataframe thead tr:only-child th {\n",
       "        text-align: right;\n",
       "    }\n",
       "\n",
       "    .dataframe thead th {\n",
       "        text-align: left;\n",
       "    }\n",
       "\n",
       "    .dataframe tbody tr th {\n",
       "        vertical-align: top;\n",
       "    }\n",
       "</style>\n",
       "<table border=\"1\" class=\"dataframe\">\n",
       "  <thead>\n",
       "    <tr style=\"text-align: right;\">\n",
       "      <th></th>\n",
       "      <th>action_type</th>\n",
       "      <th>try</th>\n",
       "      <th>made</th>\n",
       "      <th>per</th>\n",
       "    </tr>\n",
       "  </thead>\n",
       "  <tbody>\n",
       "    <tr>\n",
       "      <th>0</th>\n",
       "      <td>Driving Floating Bank Jump Shot</td>\n",
       "      <td>1</td>\n",
       "      <td>1.0</td>\n",
       "      <td>100.0</td>\n",
       "    </tr>\n",
       "    <tr>\n",
       "      <th>1</th>\n",
       "      <td>Turnaround Finger Roll Shot</td>\n",
       "      <td>2</td>\n",
       "      <td>2.0</td>\n",
       "      <td>100.0</td>\n",
       "    </tr>\n",
       "    <tr>\n",
       "      <th>2</th>\n",
       "      <td>Reverse Slam Dunk Shot</td>\n",
       "      <td>15</td>\n",
       "      <td>15.0</td>\n",
       "      <td>100.0</td>\n",
       "    </tr>\n",
       "    <tr>\n",
       "      <th>3</th>\n",
       "      <td>Running Slam Dunk Shot</td>\n",
       "      <td>1</td>\n",
       "      <td>1.0</td>\n",
       "      <td>100.0</td>\n",
       "    </tr>\n",
       "    <tr>\n",
       "      <th>4</th>\n",
       "      <td>Hook Bank Shot</td>\n",
       "      <td>5</td>\n",
       "      <td>5.0</td>\n",
       "      <td>100.0</td>\n",
       "    </tr>\n",
       "  </tbody>\n",
       "</table>\n",
       "</div>"
      ],
      "text/plain": [
       "                       action_type  try  made    per\n",
       "0  Driving Floating Bank Jump Shot    1   1.0  100.0\n",
       "1      Turnaround Finger Roll Shot    2   2.0  100.0\n",
       "2           Reverse Slam Dunk Shot   15  15.0  100.0\n",
       "3           Running Slam Dunk Shot    1   1.0  100.0\n",
       "4                   Hook Bank Shot    5   5.0  100.0"
      ]
     },
     "execution_count": 15,
     "metadata": {},
     "output_type": "execute_result"
    }
   ],
   "source": [
    "data_action_type.head()"
   ]
  },
  {
   "cell_type": "code",
   "execution_count": 16,
   "metadata": {
    "collapsed": true
   },
   "outputs": [],
   "source": [
    "%matplotlib inline\n",
    "import matplotlib.pyplot as plt\n",
    "import seaborn as sns"
   ]
  },
  {
   "cell_type": "code",
   "execution_count": 17,
   "metadata": {},
   "outputs": [
    {
     "data": {
      "text/plain": [
       "<matplotlib.axes._subplots.AxesSubplot at 0x7ac3503400>"
      ]
     },
     "execution_count": 17,
     "metadata": {},
     "output_type": "execute_result"
    },
    {
     "data": {
      "image/png": "[encoded data removed]",
      "text/plain": [
       "<matplotlib.figure.Figure at 0x7ac34ef198>"
      ]
     },
     "metadata": {},
     "output_type": "display_data"
    }
   ],
   "source": [
    "data_action_type.plot(kind = 'scatter', x='try', y = 'per', label = 'action_type')"
   ]
  },
  {
   "cell_type": "code",
   "execution_count": 18,
   "metadata": {
    "collapsed": true
   },
   "outputs": [],
   "source": [
    "import seaborn as sns"
   ]
  },
  {
   "cell_type": "code",
   "execution_count": null,
   "metadata": {},
   "outputs": [],
   "source": [
    "sns.barplot(data = data_action_type, x='action_type', y = 'per', hue = 'action_type')"
   ]
  },
  {
   "cell_type": "code",
   "execution_count": null,
   "metadata": {
    "collapsed": true
   },
   "outputs": [],
   "source": []
  }
 ],
 "metadata": {
  "kernelspec": {
   "display_name": "Python 3",
   "language": "python",
   "name": "python3"
  },
  "language_info": {
   "codemirror_mode": {
    "name": "ipython",
    "version": 3
   },
   "file_extension": ".py",
   "mimetype": "text/x-python",
   "name": "python",
   "nbconvert_exporter": "python",
   "pygments_lexer": "ipython3",
   "version": "3.6.1"
  }
 },
 "nbformat": 4,
 "nbformat_minor": 2
}
