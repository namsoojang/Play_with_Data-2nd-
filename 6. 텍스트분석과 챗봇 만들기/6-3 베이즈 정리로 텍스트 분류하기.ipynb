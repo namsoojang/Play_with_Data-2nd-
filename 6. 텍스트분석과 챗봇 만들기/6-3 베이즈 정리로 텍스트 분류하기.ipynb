{
 "cells": [
  {
   "cell_type": "markdown",
   "metadata": {},
   "source": [
    "# 베이즈 정리\n",
    "* 베이즈 정리란, 확률 변수의 조건부 확률 분포와 주변부 확률 분포를 연관 짓는 확률 이론으로 두 확률 사이의 존재하는 관계를 설명하는 것으로 조건부 확률이라고도 함\n",
    "* 이는 P(A|B)= P(A∩B) / P(B) = P(A) * P(B|A) / P(B) 의 수식으로 나타낼 수 있음\n",
    "* P(A|B) 란, 사건 B가 발생할 때 A의 조건부 확률로써 사후 확률이라 하는데 이는 P(A|B)가 사건 B에 대한 구체적인 정보에 의존하기 때문\n",
    "\n",
    "           \n",
    "\n",
    "# 나이브 베이즈 분류\n",
    "* 나이브 베이즈(또는 베이지안) 분류는 지도 학습을 사용한 간단한 분류 중 하나\n",
    "* 이 분류는 분류를 위해서 베이즈 룰을 기본적으로 사용하고 있음\n",
    "* P(A|B) 에서 A 사건이 일어나게 하는 B 사\n",
    "특징(feature)가 독립정이라고 가정하면 1개 이상 "
   ]
  },
  {
   "cell_type": "markdown",
   "metadata": {},
   "source": [
    "\n",
    "### X 조건일때 P 일 확률?\n",
    "\n",
    "- P(Y|X)  =   P(Y∩X) / P(X)   =   P(X|Y) * P(Y) / P(X)\n",
    " \n",
    " \n",
    "### 분류 문제 : X1, X2,... Xn 일때 ▶     C1 ?  C2 ? ...\n",
    "\n",
    "  - P(C1|X1, X2, ....Xn) = P(X1,X2,....Xn | C1) * P(C1) / P(X1, X2, ...Xn)\n",
    "  \n",
    "  Vs\n",
    "  \n",
    "  - P(C2|X1, X2, ....Xn) = P(X1,X2,....Xn | C2) * P(C2) / P(X1, X2, ...Xn)\n",
    "  \n",
    "  \n",
    "  ==> \n",
    "  \n",
    "  - P(X1,X2,....Xn | C1) * P(C1) Vs P(X1,X2,....Xn | C2) * P(C2)"
   ]
  },
  {
   "cell_type": "markdown",
   "metadata": {},
   "source": [
    "## P(X1,X2,....Xn | C1) 계산 How?"
   ]
  },
  {
   "cell_type": "markdown",
   "metadata": {},
   "source": [
    "𝑃(𝑋1,𝑋2,…, ,…, 𝑋n|𝐶𝑖) = 𝑃(𝑋1𝐶𝑖)×𝑃(𝑋2𝐶𝑖)×⋯×𝑃(𝑋𝑝𝐶𝑖)\n",
    "\n",
    "※ X1, X2, ...  Xn 각각의 조건들이 서로 독립이라는 가정 필수!!!!!\n",
    "\n",
    "==> Naive Bayes Classfier:  Naice \"순진한, 천진한,  안일한?   대충대충????\""
   ]
  },
  {
   "cell_type": "code",
<<<<<<< HEAD
   "execution_count": 1,
=======
   "execution_count": 3,
>>>>>>> 5bed2209d8c279ffff50f44962a479717e79450d
   "metadata": {},
   "outputs": [],
   "source": [
    "import math, sys\n",
    "from konlpy.tag import Twitter"
   ]
  },
  {
   "cell_type": "code",
<<<<<<< HEAD
   "execution_count": 14,
=======
   "execution_count": 18,
>>>>>>> 5bed2209d8c279ffff50f44962a479717e79450d
   "metadata": {},
   "outputs": [],
   "source": [
    "class BayesianFilter:\n",
    "    \"\"\"베이지안 필터\"\"\"\n",
    "    def __init__(self):\n",
    "        self.words = set() # 출현한 단어 기록\n",
    "        self.word_dict = {} # 카테고리별 단어 출현 횟수 기록\n",
    "        self.category_dict = {} # 카테고리 출현 횟수 기록\n",
    "        \n",
    "    #형태소 분석하기 \n",
    "    def split(self, text):\n",
    "        results = []\n",
    "        twitter = Twitter()\n",
    "        \n",
    "        #단어의 기본형 사용\n",
    "        malist = twitter.pos(text, norm = True, stem = True)\n",
    "        for word in malist :\n",
    "            # 어미/조사/구두점 등은 대상에서 제외\n",
    "            if not word[1] in [\"Josa\",\"Eomi\", \"Punctuation\"] :\n",
    "                results.append(word[0])\n",
    "        return results\n",
    "    \n",
    "    # 단어와 카테고리의 출현 횟수 세기 \n",
    "    def inc_word(self, word, category):\n",
    "        #단어를 카테고리에 추가\n",
    "        if not category in self.word_dict:\n",
    "            self.word_dict[category] = {}\n",
    "        if not word in self.word_dict[category]:\n",
    "            self.word_dict[category][word] = 0\n",
    "        self.word_dict[category][word] += 1\n",
    "        self.words.add(word)\n",
    "        \n",
    "    def inc_category(self, category):\n",
    "        # 카테고리 계산하기\n",
    "        if not category in self.category_dict:\n",
    "            self.category_dict[category] = 0\n",
    "        self.category_dict[category] += 1\n",
    "        \n",
    "    # 텍스트 학습하기 \n",
    "    def fit(self, text, category):\n",
    "        \"\"\"텍스트 학습\"\"\"\n",
    "        word_list = self.split(text)\n",
    "        for word in word_list:\n",
    "            self.inc_word(word, category)\n",
    "        self.inc_category(category)\n",
    "        \n",
    "        \n",
    "    # 단어 리스트에 점수 매기기 \n",
    "    def score(self, words, category):\n",
<<<<<<< HEAD
    "        # P(Ci)  #광고   # 중요\n",
=======
    "        # P(Ci)\n",
>>>>>>> 5bed2209d8c279ffff50f44962a479717e79450d
    "        score = math.log(self.category_prob(category))  # 값이 너무 작으면 다운 플로가 발생할 수 있어서 log 사용\n",
    "        \n",
    "        # P(X1,X2,..Xn  ∩ Ci)\n",
    "        for word in words:\n",
    "            score += math.log(self.word_prob(word, category))     #P(Xk ∩ Ci)\n",
    "            # P(Ci)* P(X1 ∩ Ci) * P(X2 ∩ Ci) * ........\n",
    "            # log A  + log B + logC= log ABC\n",
    "            \n",
    "        return score\n",
    "    \n",
    "    # 예측하기 --- (※5)\n",
    "    def predict(self, text):\n",
    "        best_category = None\n",
    "        max_score = -sys.maxsize   # 시스템(64bit or 32bit) 상 가장 큰 숫자 ==> 최소값 지정.  - 값이기에 0을 최소로 놓을 수 없음\n",
    "        print(max_score)\n",
    "        words = self.split(text)\n",
<<<<<<< HEAD
    "        print(words)\n",
    "        score_list = []\n",
    "        for category in self.category_dict.keys():\n",
    "            print(category)\n",
    "            score = self.score(words, category)\n",
    "            print(score)\n",
=======
    "        score_list = []\n",
    "        for category in self.category_dict.keys():\n",
    "            score = self.score(words, category)\n",
>>>>>>> 5bed2209d8c279ffff50f44962a479717e79450d
    "            score_list.append((category, score))\n",
    "            print(category, score) \n",
    "            if score > max_score:\n",
    "                max_score = score\n",
    "                best_category = category\n",
    "        return best_category, score_list\n",
    "    \n",
    "    # 카테고리 내부의 단어 출현 횟수 구하기\n",
    "    def get_word_count(self, word, category):\n",
    "        if word in self.word_dict[category]:\n",
    "            return self.word_dict[category][word]\n",
    "        else:\n",
    "            return 0\n",
    "    \n",
    "    # 카테고리 계산:   n(Ci) / sum(Cn)\n",
    "    def category_prob(self, category):\n",
    "        sum_categories = sum(self.category_dict.values())\n",
    "        category_v = self.category_dict[category]\n",
    "        return category_v / sum_categories\n",
    "    \n",
    "    # 카테고리 내부의 단어 출현 비율 계산 :  P(A∩B)\n",
    "    def word_prob(self, word, category):\n",
    "        n = self.get_word_count(word, category) + 1   # 학습 사전에 없는 단어가 나오면 카테고리의 확률이 0이 되어버려서 1을 더해줌\n",
    "        d = sum(self.word_dict[category].values()) + len(self.words)\n",
    "        return n/d"
   ]
  },
  {
   "cell_type": "code",
<<<<<<< HEAD
   "execution_count": 3,
=======
   "execution_count": 8,
>>>>>>> 5bed2209d8c279ffff50f44962a479717e79450d
   "metadata": {},
   "outputs": [
    {
     "name": "stdout",
     "output_type": "stream",
     "text": [
      "set()\n",
      "{}\n",
      "{}\n"
     ]
    }
   ],
   "source": [
    "bf = BayesianFilter()\n",
    "print(bf.words)  # 출현한 단어 기록\n",
    "print(bf.word_dict)  # 카테고리마다의 출현 횟수 기록\n",
    "print(bf.category_dict)  # 카테고리 출현 횟수 기록"
   ]
  },
  {
   "cell_type": "code",
<<<<<<< HEAD
   "execution_count": 4,
=======
   "execution_count": 12,
>>>>>>> 5bed2209d8c279ffff50f44962a479717e79450d
   "metadata": {},
   "outputs": [],
   "source": [
    "# 형태소 분석 중간과정\n",
    "\n",
    "#형태소 분석하기 --- (※1)\n",
    "def split_test(text):\n",
    "    results = []\n",
    "    twitter = Twitter()\n",
    "\n",
    "    #단어의 기본형 사용\n",
    "    malist = twitter.pos(text, norm = True, stem = True)\n",
    "    print(\"total : \", malist)\n",
    "    \n",
    "    for word in malist :\n",
    "        # 어미/조사/구두점 등은 대상에서 제외\n",
    "        if not word[1] in [\"Josa\",\"Eomi\", \"Punctuation\"] :\n",
    "            results.append(word[0])\n",
    "    \n",
    "    print(\"분석대상\", results)\n",
    "    \n",
    "    return results"
   ]
  },
  {
   "cell_type": "code",
<<<<<<< HEAD
   "execution_count": 8,
=======
   "execution_count": 15,
>>>>>>> 5bed2209d8c279ffff50f44962a479717e79450d
   "metadata": {},
   "outputs": [
    {
     "name": "stdout",
     "output_type": "stream",
     "text": [
<<<<<<< HEAD
      "total :  [('아버지', 'Noun'), ('가방', 'Noun'), ('에', 'Josa'), ('들어가다', 'Verb')]\n",
      "분석대상 ['아버지', '가방', '들어가다']\n"
=======
      "total :  [('파격', 'Noun'), ('세일', 'Noun'), ('-', 'Punctuation'), ('오늘', 'Noun'), ('까지만', 'Josa'), ('30', 'Number'), ('%', 'Punctuation'), ('할인', 'Noun')]\n",
      "분석대상 ['파격', '세일', '오늘', '30', '할인']\n",
      "\n",
      "\n",
      "total :  [('봄', 'Noun'), ('과', 'Josa'), ('함께', 'Adverb'), ('찾아오다', 'Verb'), ('따뜻하다', 'Adjective'), ('신제품', 'Noun'), ('소식', 'Noun')]\n",
      "분석대상 ['봄', '함께', '찾아오다', '따뜻하다', '신제품', '소식']\n"
>>>>>>> 5bed2209d8c279ffff50f44962a479717e79450d
     ]
    },
    {
     "data": {
      "text/plain": [
<<<<<<< HEAD
       "['아버지', '가방', '들어가다']"
      ]
     },
     "execution_count": 8,
=======
       "['봄', '함께', '찾아오다', '따뜻하다', '신제품', '소식']"
      ]
     },
     "execution_count": 15,
>>>>>>> 5bed2209d8c279ffff50f44962a479717e79450d
     "metadata": {},
     "output_type": "execute_result"
    }
   ],
   "source": [
<<<<<<< HEAD
    "# split_test('봄과함께찾아온따뜻한 신제품 소식')   # '찾아온' --> '찾아오다',  '따뜻한' --> '따뜻하다'\n",
    "split_test('아버지가방에 들어가신다')"
=======
    "split_test('봄과 함께 찾아온 따뜻한 신제품 소식')   # '찾아온' --> '찾아오다',  '따뜻한' --> '따뜻하다'"
>>>>>>> 5bed2209d8c279ffff50f44962a479717e79450d
   ]
  },
  {
   "cell_type": "code",
<<<<<<< HEAD
   "execution_count": 10,
=======
   "execution_count": 9,
>>>>>>> 5bed2209d8c279ffff50f44962a479717e79450d
   "metadata": {},
   "outputs": [
    {
     "name": "stdout",
     "output_type": "stream",
     "text": [
<<<<<<< HEAD
      "{'오늘', '할인', '파격', '30', '세일', '대박'}\n",
      "{'광고': {'파격': 2, '세일': 2, '오늘': 2, '30': 2, '할인': 5, '대박': 1}}\n",
      "{'광고': 2}\n"
=======
      "{'30', '할인', '파격', '세일', '오늘'}\n",
      "{'광고': {'파격': 1, '세일': 1, '오늘': 1, '30': 1, '할인': 1}}\n",
      "{'광고': 1}\n"
>>>>>>> 5bed2209d8c279ffff50f44962a479717e79450d
     ]
    }
   ],
   "source": [
    "# 텍스트 학습\n",
<<<<<<< HEAD
    "bf.fit(\"파격 세일 - 오늘까지만 30% 할인 할인 할인 대박 할인\", \"광고\")\n",
=======
    "bf.fit(\"파격 세일 - 오늘까지만 30% 할인\", \"광고\")\n",
>>>>>>> 5bed2209d8c279ffff50f44962a479717e79450d
    "print(bf.words)  # 출현한 단어 기록\n",
    "print(bf.word_dict)  # 카테고리별 단어 출현 횟수 기록\n",
    "print(bf.category_dict)  # 카테고리 출현 횟수 기록"
   ]
  },
  {
   "cell_type": "code",
<<<<<<< HEAD
   "execution_count": 11,
=======
   "execution_count": 10,
>>>>>>> 5bed2209d8c279ffff50f44962a479717e79450d
   "metadata": {},
   "outputs": [
    {
     "name": "stdout",
     "output_type": "stream",
     "text": [
<<<<<<< HEAD
      "{'오늘', '무료', '쿠폰', '선물', '할인', '배송', '파격', '30', '세일', '대박'}\n",
      "{'광고': {'파격': 2, '세일': 2, '오늘': 2, '30': 2, '할인': 5, '대박': 1, '쿠폰': 1, '선물': 1, '무료': 1, '배송': 1}}\n",
      "{'광고': 3}\n"
=======
      "{'쿠폰', '30', '할인', '배송', '파격', '세일', '무료', '선물', '오늘'}\n",
      "{'광고': {'파격': 1, '세일': 1, '오늘': 1, '30': 1, '할인': 1, '쿠폰': 1, '선물': 1, '무료': 1, '배송': 1}}\n",
      "{'광고': 2}\n"
>>>>>>> 5bed2209d8c279ffff50f44962a479717e79450d
     ]
    }
   ],
   "source": [
    "bf.fit(\"쿠폰 선물 & 무료 배송\", \"광고\")\n",
    "print(bf.words)  # 출현한 단어 기록\n",
    "print(bf.word_dict)  # 카테고리별 단어 출현 횟수 기록\n",
    "print(bf.category_dict)  # 카테고리 출현 횟수 기록"
   ]
  },
  {
   "cell_type": "code",
<<<<<<< HEAD
   "execution_count": 12,
=======
   "execution_count": 11,
>>>>>>> 5bed2209d8c279ffff50f44962a479717e79450d
   "metadata": {},
   "outputs": [
    {
     "name": "stdout",
     "output_type": "stream",
     "text": [
<<<<<<< HEAD
      "{'상황', '한정', '찾아오다', '선물', '기간', '되어다', '할인', '계약', '프로젝트', '자다', '현대', '제품', '세일', '함께', '없다', '신제품', '진행', '백화점', '30', '따뜻하다', '인기', '소식', '오늘', '무료', '쿠폰', '일정', '확인', '보고', '배송', '대박', '회의', '등록', '부탁드리다', '파격', '봄'}\n",
      "{'광고': {'파격': 2, '세일': 4, '오늘': 2, '30': 2, '할인': 5, '대박': 1, '쿠폰': 1, '선물': 1, '무료': 1, '배송': 1, '현대': 1, '백화점': 1, '봄': 1, '함께': 1, '찾아오다': 1, '따뜻하다': 1, '신제품': 1, '소식': 1, '인기': 1, '제품': 1, '기간': 1, '한정': 1}, '중요': {'오늘': 2, '일정': 3, '확인': 1, '프로젝트': 1, '진행': 1, '상황': 1, '보고': 1, '계약': 1, '자다': 1, '부탁드리다': 1, '회의': 1, '등록': 1, '되어다': 1, '없다': 1}}\n",
      "{'광고': 6, '중요': 5}\n"
=======
      "{'쿠폰', '등록', '회의', '한정', '진행', '봄', '찾아오다', '상황', '소식', '부탁드리다', '자다', '인기', '할인', '신제품', '현대', '계약', '무료', '되어다', '기간', '프로젝트', '선물', '배송', '백화점', '함께', '보고', '없다', '따뜻하다', '30', '일정', '제품', '파격', '세일', '확인', '오늘'}\n",
      "{'광고': {'파격': 1, '세일': 3, '오늘': 1, '30': 1, '할인': 1, '쿠폰': 1, '선물': 1, '무료': 1, '배송': 1, '현대': 1, '백화점': 1, '봄': 1, '함께': 1, '찾아오다': 1, '따뜻하다': 1, '신제품': 1, '소식': 1, '인기': 1, '제품': 1, '기간': 1, '한정': 1}, '중요': {'오늘': 2, '일정': 3, '확인': 1, '프로젝트': 1, '진행': 1, '상황': 1, '보고': 1, '계약': 1, '자다': 1, '부탁드리다': 1, '회의': 1, '등록': 1, '되어다': 1, '없다': 1}}\n",
      "{'광고': 5, '중요': 5}\n"
>>>>>>> 5bed2209d8c279ffff50f44962a479717e79450d
     ]
    }
   ],
   "source": [
    "bf.fit(\"현대 백화점 세일\", \"광고\")\n",
    "bf.fit(\"봄과 함께 찾아온 따뜻한 신제품 소식\",\"광고\")\n",
    "bf.fit(\"인기 제품 기간 한정 세일\",\"광고\")\n",
    "bf.fit(\"오늘 일정 확인\",\"중요\")\n",
    "bf.fit(\"프로젝트 진행 상황 보고\",\"중요\")\n",
    "bf.fit(\"계약 잘 부탁드립니다\",\"중요\")\n",
    "bf.fit(\"회의 일정이 등록되었습니다\",\"중요\")\n",
    "bf.fit(\"오늘 일정이 없습니다\",\"중요\")\n",
    "print(bf.words)  # 출현한 단어 기록\n",
    "print(bf.word_dict)  # 카테고리별 단어 출현 횟수 기록\n",
    "print(bf.category_dict)  # 카테고리 출현 횟수 기록"
   ]
  },
  {
   "cell_type": "code",
<<<<<<< HEAD
   "execution_count": 16,
=======
   "execution_count": 19,
>>>>>>> 5bed2209d8c279ffff50f44962a479717e79450d
   "metadata": {},
   "outputs": [
    {
     "name": "stdout",
     "output_type": "stream",
     "text": [
<<<<<<< HEAD
      "-9223372036854775807\n",
      "광고 -18.4515450701772\n",
      "중요 -20.544675953271405\n",
      "-9223372036854775807\n",
      "광고 -18.4515450701772\n",
      "중요 -20.544675953271405\n",
      "결과 =  광고\n",
      "[('광고', -18.4515450701772), ('중요', -20.544675953271405)]\n"
=======
      "결과 =  광고\n",
      "[('광고', -18.828961978052863), ('중요', -20.352275344181574)]\n"
>>>>>>> 5bed2209d8c279ffff50f44962a479717e79450d
     ]
    }
   ],
   "source": [
    "# bf = BayesianFilter()\n",
    "# # 텍스트 학습\n",
    "# bf.fit(\"파격 세일 - 오늘까지만 30% 할인\", \"광고\")\n",
    "# bf.fit(\"쿠폰 선물 & 무료 배송\", \"광고\")\n",
    "# bf.fit(\"현대 백화점 세일\", \"광고\")\n",
    "# bf.fit(\"봄과 함께 찾아온 따뜻한 신제품 소식\",\"광고\")\n",
    "# bf.fit(\"인기 제품 기간 한정 세일\",\"광고\")\n",
    "# bf.fit(\"오늘 일정 확인\",\"중요\")\n",
    "# bf.fit(\"프로젝트 진행 상황 보고\",\"중요\")\n",
    "# bf.fit(\"계약 잘 부탁드립니다\",\"중요\")\n",
    "# bf.fit(\"회의 일정이 등록되었습니다\",\"중요\")\n",
    "# bf.fit(\"오늘 일정이 없습니다\",\"중요\")\n",
    "\n",
    "#예측\n",
<<<<<<< HEAD
    "bf.predict(\"재고 정리 할인, 무료 배송\")\n",
=======
>>>>>>> 5bed2209d8c279ffff50f44962a479717e79450d
    "pre, scorelist = bf.predict(\"재고 정리 할인, 무료 배송\")\n",
    "print(\"결과 = \",pre)\n",
    "print(scorelist)"
   ]
  },
  {
   "cell_type": "code",
   "execution_count": 20,
   "metadata": {},
   "outputs": [
    {
     "data": {
      "text/plain": [
       "-9223372036854775807"
      ]
     },
     "execution_count": 20,
     "metadata": {},
     "output_type": "execute_result"
    }
   ],
   "source": [
    "-sys.maxsize\n",
    "\n",
    "# sys.maxsize\n",
    "# An integer giving the maximum value a variable of type Py_ssize_t can take. It’s usually 2**31 - 1 on a 32-bit platform and 2**63 - 1 on a 64-bit platform.\n",
    "\n",
    "# https://docs.python.org/3/library/sys.html"
   ]
  },
  {
   "cell_type": "code",
   "execution_count": null,
   "metadata": {
    "collapsed": true
   },
   "outputs": [],
   "source": []
  }
 ],
 "metadata": {
  "kernelspec": {
   "display_name": "Python 3",
   "language": "python",
   "name": "python3"
  },
  "language_info": {
   "codemirror_mode": {
    "name": "ipython",
    "version": 3
   },
   "file_extension": ".py",
   "mimetype": "text/x-python",
   "name": "python",
   "nbconvert_exporter": "python",
   "pygments_lexer": "ipython3",
   "version": "3.6.4"
  }
 },
 "nbformat": 4,
 "nbformat_minor": 2
}
