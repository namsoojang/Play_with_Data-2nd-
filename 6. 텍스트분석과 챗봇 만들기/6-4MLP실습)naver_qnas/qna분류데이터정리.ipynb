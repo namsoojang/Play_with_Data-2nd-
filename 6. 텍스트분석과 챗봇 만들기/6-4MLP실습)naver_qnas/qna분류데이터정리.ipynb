{
 "cells": [
  {
   "cell_type": "code",
   "execution_count": 1,
   "metadata": {},
   "outputs": [],
   "source": [
    "import os"
   ]
  },
  {
   "cell_type": "code",
   "execution_count": 5,
   "metadata": {},
   "outputs": [
    {
     "data": {
      "text/plain": [
       "['ANIMALDOCTOR_total.txt',\n",
       " 'DIETITIAN_total.txt',\n",
       " 'DOCTOR_total.txt',\n",
       " 'LABOR_total.txt',\n",
       " 'LAWYER_total.txt',\n",
       " 'PHARMACIST_total.txt',\n",
       " 'TAXACC_total.txt']"
      ]
     },
     "execution_count": 5,
     "metadata": {},
     "output_type": "execute_result"
    }
   ],
   "source": [
    "folder = './data'\n",
    "os.listdir(folder)"
   ]
  },
  {
   "cell_type": "code",
   "execution_count": 98,
   "metadata": {},
   "outputs": [],
   "source": [
    "fname = os.listdir(folder)[0]\n",
    "\n",
    "def read_datas(fname):\n",
    "\n",
    "    with open(folder+'/'+fname, 'r', encoding = 'utf-8') as lines:\n",
    "        data = []\n",
    "        for line in lines:\n",
    "            if len(line) > 10:\n",
    "                try:\n",
    "                    temp = line.split('\\t')\n",
    "                    clf1 = temp[0]\n",
    "                    clf2 = temp[1]\n",
    "                    question = temp[2].replace(\"', '\", '').split('###Q&A###')[0].replace(\"['\",'')\n",
    "                    replies = temp[2].replace(\"', '\", '').split('###Q&A###')[1:-1]\n",
    "                    data.append([clf1, clf2, question, replies])\n",
    "                except: continue\n",
    "    return data\n",
    "    "
   ]
  },
  {
   "cell_type": "code",
   "execution_count": 85,
   "metadata": {},
   "outputs": [
    {
     "name": "stdout",
     "output_type": "stream",
     "text": [
      "[' 안녕하세요? 지식iN 동물의료상담 활동을 하고 있는 헬릭스동물메디컬센터 김성호입니다그러한 케이스는 호흡마취후, 수술을 권장합니다.무리해서 약물투여 용량을 늘리면, 자칫 각성이 힘들어질 수 있거든요.해당 동물병원 수의사 선생님께 호흡마취관련 안내를 받아보실 것을 추천드려요.각성도 안전하게 끝나므로 환자 / 보호자 모두에게 마취에 대한 부담이 덜하답니다.큰 문제없이 안정적인 마취와 성공적인 수술로 잘 해결될 수 있기를 기원합니다.안녕히 계세요 ', ' 수의사분이 답변을 안해주시나요?담당수의사분께 직접적으로 질문해 보시고 신뢰가 가지 않으심 병원 바꾸세요...마취제 용량에 문제가 있는게 아닌지... ']\n"
     ]
    }
   ],
   "source": [
    "print(data[4][3])"
   ]
  },
  {
   "cell_type": "code",
   "execution_count": 87,
   "metadata": {},
   "outputs": [],
   "source": [
    "import pandas as pd"
   ]
  },
  {
   "cell_type": "code",
   "execution_count": 91,
   "metadata": {},
   "outputs": [],
   "source": [
    "def save_data(fname, data):\n",
    "    edit_file_name = './data_csv/'+fname[:-9]+'csv.csv'\n",
    "    savedata = pd.DataFrame(data)\n",
    "    savedata.columns= ['clf1','clf2','question','replies']\n",
    "    savedata.to_csv(edit_file_name)"
   ]
  },
  {
   "cell_type": "code",
   "execution_count": 92,
   "metadata": {},
   "outputs": [],
   "source": [
    "save_data(fname,data)"
   ]
  },
  {
   "cell_type": "code",
   "execution_count": 99,
   "metadata": {},
   "outputs": [
    {
     "name": "stdout",
     "output_type": "stream",
     "text": [
      "데이터전환 완료: ANIMALDOCTOR_total\n",
      "데이터전환 완료: DIETITIAN_total\n",
      "데이터전환 완료: DOCTOR_total\n",
      "데이터전환 완료: LABOR_total\n",
      "데이터전환 완료: LAWYER_total\n",
      "데이터전환 완료: PHARMACIST_total\n",
      "데이터전환 완료: TAXACC_total\n"
     ]
    }
   ],
   "source": [
    "for fname in os.listdir(folder):\n",
    "    data = read_datas(fname)\n",
    "    save_data(fname,data)\n",
    "    print('데이터전환 완료: {}'.format(fname[:-4]))"
   ]
  },
  {
   "cell_type": "markdown",
   "metadata": {},
   "source": []
  }
 ],
 "metadata": {
  "kernelspec": {
   "display_name": "Python 3",
   "language": "python",
   "name": "python3"
  },
  "language_info": {
   "codemirror_mode": {
    "name": "ipython",
    "version": 3
   },
   "file_extension": ".py",
   "mimetype": "text/x-python",
   "name": "python",
   "nbconvert_exporter": "python",
   "pygments_lexer": "ipython3",
   "version": "3.6.4"
  }
 },
 "nbformat": 4,
 "nbformat_minor": 2
}
