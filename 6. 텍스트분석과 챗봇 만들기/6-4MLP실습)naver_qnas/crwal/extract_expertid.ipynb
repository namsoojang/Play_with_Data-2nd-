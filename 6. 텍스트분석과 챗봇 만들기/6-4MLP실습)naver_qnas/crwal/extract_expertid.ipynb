{
 "cells": [
  {
   "cell_type": "code",
   "execution_count": 9,
   "metadata": {
    "collapsed": false
   },
   "outputs": [
    {
     "name": "stdout",
     "output_type": "stream",
     "text": [
      "k33kor33\n",
      "42 /userinfo/expert/index.nhn?userId=k33kor33\n"
     ]
    }
   ],
   "source": [
    "import requests\n",
    "from bs4 import BeautifulSoup\n",
    "\n",
    "QNA_TYPES=[\"LAWYER\", \"DOCTOR\", \"LABOR\", \"ANIMALDOCTOR\", \"PHARMACIST\", \"TAXACC\", \"DIETITIAN\"]\n",
    "ID_HTML=\"/userinfo/expert/index.nhn?userId=\"\n",
    "\n",
    "EXPERTS={}\n",
    "qna_type=QNA_TYPES[0]\n",
    "pagenum=2\n",
    "url=\"http://kin.naver.com/people/expert/index.nhn?type=\"+qna_type+\"&page=\"+str(pagenum)\n",
    "\n",
    "\n",
    "\n",
    "\n",
    "def get_html(url):\n",
    "    '''\n",
    "    url 주소 넣으면 html을 리턴한다\n",
    "    '''\n",
    "    user_agent=\"Mozilla/5.0 (Macintosh; Intel Mac OS X 10_9_4) \" +\\\n",
    "        \"AppleWebKit/537.36 (KHTML, like Gecko) \" + \\\n",
    "        \"Chrome/37.0.2062.94 Safari/537.36\"\n",
    "    headers = {\"User-Agent\": user_agent}\n",
    "    response=requests.get(url, headers=headers)\n",
    "    html=response.text\n",
    "    return html\n",
    "\n",
    "#<a href=\"/userinfo/expert/index.nhn?userId=jermayirion\" target=\"_blank\">강상욱</a>\n",
    "def get_userid(page):\n",
    "    html=get_html(page)\n",
    "    soup=BeautifulSoup(html,\"lxml\")\n",
    "    userids=[]\n",
    "    for id in soup.select(\"h5 > a\"):\n",
    "        userid=id[\"href\"][len(ID_HTML):]\n",
    "        userids.append(userid)\n",
    "    return userids\n",
    "   \n",
    "    \n",
    "\n"
   ]
  },
  {
   "cell_type": "code",
   "execution_count": 1,
   "metadata": {
    "collapsed": false,
    "scrolled": true
   },
   "outputs": [
    {
     "name": "stdout",
     "output_type": "stream",
     "text": [
      "<class 'list'>\n",
      "<class 'list'>\n",
      "<class 'list'>\n",
      "<class 'list'>\n",
      "<class 'list'>\n",
      "<class 'list'>\n",
      "<class 'list'>\n"
     ]
    }
   ],
   "source": [
    "import requests\n",
    "from bs4 import BeautifulSoup\n",
    "import ujson\n",
    "\n",
    "QNA_TYPES=[\"LAWYER\", \"DOCTOR\", \"LABOR\", \"ANIMALDOCTOR\", \"PHARMACIST\", \"TAXACC\", \"DIETITIAN\"]\n",
    "MAX_NUMBER=[1392,3795,502,33,296,254,88]\n",
    "ID_HTML=\"/userinfo/expert/index.nhn?userId=\"\n",
    "\n",
    "def make_url(qna_type,pagenum):\n",
    "    url=\"http://kin.naver.com/people/expert/index.nhn?type=\"+qna_type+\"&page=\"+str(pagenum)\n",
    "    return url\n",
    "\n",
    "def get_html(url):\n",
    "    '''\n",
    "    url 주소 넣으면 html을 리턴한다\n",
    "    '''\n",
    "    user_agent=\"Mozilla/5.0 (Macintosh; Intel Mac OS X 10_9_4) \" +\\\n",
    "        \"AppleWebKit/537.36 (KHTML, like Gecko) \" + \\\n",
    "        \"Chrome/37.0.2062.94 Safari/537.36\"\n",
    "    headers = {\"User-Agent\": user_agent}\n",
    "    response=requests.get(url, headers=headers)\n",
    "    html=response.text\n",
    "    return html\n",
    "\n",
    "#<a href=\"/userinfo/expert/index.nhn?userId=jermayirion\" target=\"_blank\">강상욱</a>\n",
    "def get_userid(page):\n",
    "    html=get_html(page)\n",
    "    soup=BeautifulSoup(html,\"lxml\")\n",
    "    userids=[]\n",
    "    for id in soup.select(\"h5 > a\"):\n",
    "        userid=id[\"href\"][len(ID_HTML):]\n",
    "        userids.append(userid)\n",
    "    return userids\n",
    "\n",
    "def make_output(qna_type):\n",
    "    OUTPUT_FILE=\"experts_list_\"+qna_type+\".txt\"\n",
    "    return OUTPUT_FILE\n",
    "    \n",
    "\n",
    "def write_experts(output_file,experts):\n",
    "    with open(output_file,\"w\",encoding=\"utf-8\")as output_file:\n",
    "        print(type(experts))\n",
    "        print(experts, file=output_file)\n",
    "            \n",
    "for qna_type in QNA_TYPES:\n",
    "    userids=[]\n",
    "    for i in range(1,10):   #page 몇개까지 가져올지 설정\n",
    "        pagenum=i\n",
    "        url=make_url(qna_type,pagenum)\n",
    "        userid=get_userid(url)\n",
    "        for id in userid:\n",
    "            userids.append(id)\n",
    "    output_file=make_output(qna_type)\n",
    "    write_experts(output_file,userids)\n"
   ]
  },
  {
   "cell_type": "code",
   "execution_count": null,
   "metadata": {
    "collapsed": true
   },
   "outputs": [],
   "source": []
  },
  {
   "cell_type": "code",
   "execution_count": null,
   "metadata": {
    "collapsed": true
   },
   "outputs": [],
   "source": []
  }
 ],
 "metadata": {
  "anaconda-cloud": {},
  "kernelspec": {
   "display_name": "Python [default]",
   "language": "python",
   "name": "python3"
  },
  "language_info": {
   "codemirror_mode": {
    "name": "ipython",
    "version": 3
   },
   "file_extension": ".py",
   "mimetype": "text/x-python",
   "name": "python",
   "nbconvert_exporter": "python",
   "pygments_lexer": "ipython3",
   "version": "3.5.2"
  }
 },
 "nbformat": 4,
 "nbformat_minor": 1
}
