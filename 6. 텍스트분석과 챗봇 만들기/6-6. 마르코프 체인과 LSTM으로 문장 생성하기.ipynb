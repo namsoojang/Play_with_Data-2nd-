{
 "cells": [
  {
   "cell_type": "markdown",
   "metadata": {},
   "source": [
    "# 마르코프 체인\n",
    "![](https://jeremykun.files.wordpress.com/2015/02/markov01.gif?w=1800)\n",
    "\n",
    "\n",
    "* 이전 상태가 다음 상태의 영향을 주는것으로 1개 또는 N개의 이전 상태가 주어졌을 때 다음상태가 나올 확률을 계산하여 실절적인 의미의 연관성을 생각하지 않고 문장을 조합.\n",
    "* 조금 이상한 문장이 만들어지는 경우가 있음. \n",
    "\n",
    "## 문장을 만드는 과정\n",
    "1. 문장을 단어로 분할\n",
    "2. 단어의 전후 연결을 딕셔너리에 등록\n",
    "3. 사전을 사용해 임의의 문장을 생성 \n",
    "\n",
    "## 예제 \n",
    "* 각 문장의 형태소 분석 \n",
    " * 개|도|닷새|가|되면|주인|을|안다.\n",
    " * 기르던|개|에게|다리|가|물렸다.\n",
    " * 닭|쫒던|개|지붕|쳐다|보듯|한다.\n",
    " * 똥|묻은|개|가|겨|묻은|개|나무란다\n",
    " \n",
    "* 단어의 전후 딕셔너리 등록 \n",
    " * 개 : 가,에게,지붕,도\n",
    " * 가 : 되면,겨\n",
    " * 되면 : 주인\n",
    " * 주인 : 주인을 안다. \n",
    " \n",
    "* 문장생성\n",
    " * \"개가 되면 주인을 안다.\"\n",
    "\n"
   ]
  },
  {
   "cell_type": "code",
   "execution_count": 3,
   "metadata": {},
   "outputs": [],
   "source": [
    "import codecs\n",
    "from bs4 import BeautifulSoup\n",
    "from konlpy.tag import Twitter\n",
    "import urllib.request\n",
    "import os, json, random\n",
    "\n",
    "\n",
    "# 마르코프 체인 딕셔너리 만들기 --- (※1)\n",
    "def make_dic(words):\n",
    "    tmp = [\"@\"]\n",
    "    dic = {}\n",
    "    for word in words:\n",
    "        tmp.append(word)\n",
    "        if len(tmp) < 3: continue\n",
    "        if len(tmp) > 3: tmp = tmp[1:]\n",
    "        set_word3(dic, tmp)\n",
    "        if word == \".\":\n",
    "            tmp = [\"@\"]\n",
    "            continue\n",
    "    return dic\n",
    "\n",
    "\n",
    "# 딕셔너리에 데이터 등록하기 --- (※2)\n",
    "def set_word3(dic, s3):\n",
    "    w1, w2, w3 = s3\n",
    "    \n",
    "    if not w1 in dic: dic[w1] = {}\n",
    "    if not w2 in dic[w1]: dic[w1][w2] = {}\n",
    "    if not w3 in dic[w1][w2]: dic[w1][w2][w3] = 0\n",
    "        \n",
    "    dic[w1][w2][w3] += 1\n"
   ]
  },
  {
   "cell_type": "code",
   "execution_count": 4,
   "metadata": {},
   "outputs": [],
   "source": [
    "# 문장 만들기 --- (※3)\n",
    "def make_sentence(dic):\n",
    "    ret = []\n",
    "    if not \"@\" in dic: return \"no dic\"\n",
    "    top = dic[\"@\"]\n",
    "    w1 = word_choice(top)\n",
    "    w2 = word_choice(top[w1])\n",
    "    ret.append(w1)\n",
    "    ret.append(w2)\n",
    "    while True:\n",
    "        w3 = word_choice(dic[w1][w2])\n",
    "        ret.append(w3)\n",
    "        if w3 == \".\": break\n",
    "        w1, w2 = w2, w3\n",
    "    ret = \"\".join(ret)\n",
    "    # 결과물 \n",
    "    #'희번덕이는섬진강저켠은전라도땅이켠은경상도땅너그럽게그어진능선은확실한윤곽을드러낸다.'\n",
    "    # 띄어쓰기\n",
    "    params = urllib.parse.urlencode({\"_callback\": \"\", \"q\": ret})\n",
    "    # 네이버 맞춤법 검사기를 사용합니다.\n",
    "    data = urllib.request.urlopen(\"https://m.search.naver.com/p/csearch/dcontent/spellchecker.nhn?\" + params)\n",
    "    data = data.read().decode(\"utf-8\")[1:-2]\n",
    "    data = json.loads(data)\n",
    "    data = data[\"message\"][\"result\"][\"html\"]\n",
    "    data = BeautifulSoup(data, \"html.parser\").getText()\n",
    "    # 리턴\n",
    "    return data\n",
    "\n",
    "\n",
    "def word_choice(sel):\n",
    "    keys = sel.keys()\n",
    "    return random.choice(list(keys))\n"
   ]
  },
  {
   "cell_type": "code",
   "execution_count": 7,
   "metadata": {
    "scrolled": true
   },
   "outputs": [
    {
     "name": "stdout",
     "output_type": "stream",
     "text": [
      "외딴 오두막으로 들어간다.\n",
      "---\n",
      "그렇게 무서워하던 할머니였는데도.\n",
      "---\n",
      "쭈빗쭈빗한논둑의마른가장귀같았다.\n",
      "---\n",
      "발가벗은 나무들은 다시 주막으로 들어간 귀녀는 순간 막연해지는 모양이다.\n",
      "---\n",
      "남자들이란다 바람기는 있기 마련인데 조만간에 이동진이처음으로 모든 것이 식구들은 물밑을 헤엄치는고기떼 모양 조용히 움직이고 있었다 할 수 없제.\n",
      "---\n",
      "그럼그렇지가업어다디리겄십니다마는머어이러다가짚불 잦아지고 소나아 간장을 녹이는 기이머 있노 삼수 너도 마시느라 술을 못하게 방해를 한번 맺은부부의 인연은 풀 수 없는 강청댁으로서는 장날이야말로 원수일밖에 없다 그 말 아닙니까.\n",
      "---\n",
      "내외간의 정분이 없는 가배 이야기가 빗나간 것은 아니니까하듯이 건달풍의 사내가 못할 개인데 이걸 알면 겁이 났다.\n",
      "---\n",
      "뭐라고 말을 끝맺을 자식 네 땜에 그럴 것이라고 생각했었다.\n",
      "---\n",
      "적반하장도 푼수에 넘는 돌다리가 걸려있었다 할 수 있겄십니까.\n",
      "---\n",
      "쇠돌이 가 딱해하여 거들었다.\n",
      "---\n"
     ]
    }
   ],
   "source": [
    "# 문장 읽어 들이기 --- (※4)\n",
    "dict_file = \"markov-toji_kk.json\"\n",
    "if not os.path.exists(dict_file):\n",
    "    # 토지 텍스트 파일 읽어 들이기\n",
    "    fp = codecs.open(\"BEXX0003.txt\", \"r\", encoding=\"utf-16\")\n",
    "    soup = BeautifulSoup(fp, \"html.parser\")\n",
    "    body = soup.select_one(\"body > text\")\n",
    "    text = body.getText()\n",
    "    text = text.replace(\"…\", \"\")  # 현재 koNLPy가 …을 구두점으로 잡지 못하는 문제 임시 해결\n",
    "    # 형태소 분석\n",
    "    twitter = Twitter()\n",
    "    malist = twitter.pos(text, norm=True)\n",
    "    words = []\n",
    "    for word in malist:\n",
    "        # 구두점 등은 대상에서 제외(단 마침표는 포함)\n",
    "        if not word[1] in [\"Punctuation\"]:\n",
    "            words.append(word[0])\n",
    "        if word[0] == \".\":\n",
    "            words.append(word[0])\n",
    "    # 딕셔너리 생성\n",
    "    dic = make_dic(words)\n",
    "    json.dump(dic, open(dict_file, \"w\", encoding='utf-8'), ensure_ascii=False)\n",
    "else:\n",
    "    dic = json.load(open(dict_file, \"r\"))\n",
    "\n",
    "# 문장 만들기 --- (※6)\n",
    "for i in range(10):\n",
    "    s = make_sentence(dic)\n",
    "    print(s)\n",
    "    print(\"---\")"
   ]
  },
  {
   "cell_type": "markdown",
   "metadata": {},
   "source": [
    "# 문장 만들어지는 과정"
   ]
  },
  {
   "cell_type": "markdown",
   "metadata": {},
   "source": [
    "* 형태소 분석 \n",
    "***\n",
    "\"제1편 어둠의 발소리\"\n",
    "***\n",
    "* 딕셔너리 등록 \n",
    "***\n",
    "{'@': {'제': {'1': 1}}, '제': {'1': {'편': 1}}, '1': {'편': {'어둠': 1}}, '편': {'어둠': {'의': 1}}, '어둠': {'의': {'발': 1}}, '의': {'발': {'소리': 1}}, '발': {'소리': {'서': 1}}, '소리': {'서': {'序': 1}}}...\n",
    "***\n",
    "* 문장 생성\n",
    "***\n",
    "렌덤으로 첫문장가져와서 해당 맞는 문장가져오기 \n",
    "***"
   ]
  },
  {
   "cell_type": "markdown",
   "metadata": {
    "collapsed": true
   },
   "source": [
    "# LSTM / RNN\n",
    "* RNN (Recurrent Neural Network)\n",
    " * 신경망을 재귀적으로 사용해 시간순서를 가진 데이터\n",
    "* LSTM (Long Short Term-Memory)\n",
    " * 장기적으로 기억\n",
    " \n",
    "[ 너무 어렵다~ ]"
   ]
  },
  {
   "cell_type": "code",
   "execution_count": null,
   "metadata": {
    "collapsed": true
   },
   "outputs": [],
   "source": []
  }
 ],
 "metadata": {
  "kernelspec": {
   "display_name": "Python 3",
   "language": "python",
   "name": "python3"
  },
  "language_info": {
   "codemirror_mode": {
    "name": "ipython",
    "version": 3
   },
   "file_extension": ".py",
   "mimetype": "text/x-python",
   "name": "python",
   "nbconvert_exporter": "python",
   "pygments_lexer": "ipython3",
   "version": "3.6.4"
  }
 },
 "nbformat": 4,
 "nbformat_minor": 2
}
