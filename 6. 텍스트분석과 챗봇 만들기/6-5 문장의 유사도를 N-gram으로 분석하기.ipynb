{
 "cells": [
  {
   "cell_type": "markdown",
   "metadata": {},
   "source": [
    "# 문장의 유사도 분석 1\n",
    "\n",
    "* 편집 거리 알고리즘 (Lvenshtein distance/Edit distance)\n",
    "    * 텍스트 유사도 분석 방법\n",
    "    * 단어-A를 단어-B로 바꾸기 위한 문자열의 수정 횟수를 두 단어의 거리로 규정\n",
    "    * 참고 : https://en.wikipedia.org/wiki/Levenshtein_distance \n"
   ]
  },
  {
   "cell_type": "code",
   "execution_count": 3,
   "metadata": {},
   "outputs": [],
   "source": [
    "# 레벤슈타인 거리 구하기\n",
    "def calc_distance(a, b):\n",
    "    ''' 레벤슈타인 거리 계산 '''\n",
    "    if a == b: return 0  # 두 parameter가 동일 한 경우 0 return\n",
    "    # a, b 글자 길이\n",
    "    a_len = len(a)\n",
    "    b_len = len(b)\n",
    "#     print(a)\n",
    "#     print(b)\n",
    "    # a 또는 b가 공백인 경우 레벤슈타인 거리\n",
    "    if a == \"\" : return b_len\n",
    "    if b == \"\" : return a_len\n",
    "    \n",
    "    \n",
    "    # 2차원 표 (a_len + 1, b_len + 1) \n",
    "    matrix = [[] for i in range(a_len + 1)]     # matrix is a two-dimensional data structure\n",
    "#     print(matrix)\n",
    "    for i in range(a_len + 1): # 0으로 초기화\n",
    "        matrix[i] = [0 for j in range(b_len+1)]\n",
    "    # 0일 때 초깃값 설정\n",
    "#     print(matrix)\n",
    "    for i in range(a_len+1):\n",
    "        matrix[i][0] = i\n",
    "    for j in range(b_len+1):\n",
    "        matrix[0][j] = j\n",
    "    # 표 채우기\n",
    "    for i in range(1, a_len+1):\n",
    "        ac = a[i-1]\n",
    "        for j in range(1, b_len+1):\n",
    "            bc = b[j-1]\n",
    "            cost = 0 if (ac==bc) else 1\n",
    "            matrix[i][j] = min([\n",
    "                matrix[i-1][j]+1,       # 문자 삽입\n",
    "                matrix[i][j-1]+1,       # 문자 제거\n",
    "                matrix[i-1][j-1]+cost   # 문사 변경\n",
    "            ])\n",
    "    # example\n",
    "    # i.j   M   가   나   다   라\n",
    "    # N     0   1   2    3   4\n",
    "    # 가    1   0   1    2   3\n",
    "    # 나    2   1   1    2   3\n",
    "    # 다    3   2   2    2   3\n",
    "    # 라    4   3   3    3   2\n",
    "    print(a_len,b_len)\n",
    "    return matrix[a_len][b_len]"
   ]
  },
  {
   "cell_type": "code",
   "execution_count": 4,
   "metadata": {},
   "outputs": [
    {
     "name": "stdout",
     "output_type": "stream",
     "text": [
      "4 4\n",
      "2\n"
     ]
    }
   ],
   "source": [
    "str1 = '가나다라'\n",
    "str2 = '가마바라'\n",
    "\n",
    "rStr = calc_distance(str1, str2)\n",
    "print(rStr)"
   ]
  },
  {
   "cell_type": "code",
   "execution_count": 30,
   "metadata": {},
   "outputs": [
    {
     "name": "stdout",
     "output_type": "stream",
     "text": [
      "['신촌역', '신천역', '신천군', '신발', '마곡역']\n",
      "0 신촌역\n",
      "1 신천역\n",
      "2 신천군\n",
      "2 신발\n",
      "2 마곡역\n"
     ]
    }
   ],
   "source": [
    "samples = [\"신촌역\",\"신천군\",\"신천역\",\"신발\",\"마곡역\"]\n",
    "base = samples[0]\n",
    "r = sorted(samples, key = lambda n: calc_distance(base, n))\n",
    "print(r)\n",
    "for n in r:\n",
    "    print(calc_distance(base, n), n)"
   ]
  },
  {
   "cell_type": "markdown",
   "metadata": {},
   "source": [
    "# 문장의 유사도 분석 2\n",
    "\n",
    "* N-gram"
   ]
  },
  {
   "cell_type": "code",
   "execution_count": 31,
   "metadata": {},
   "outputs": [],
   "source": [
    "def ngram(s, num):\n",
    "    res = []\n",
    "    slen = len(s) - num + 1\n",
    "    for i in range(slen):\n",
    "        ss = s[i:i+num]\n",
    "        res.append(ss)\n",
    "    return res"
   ]
  },
  {
   "cell_type": "code",
   "execution_count": 33,
   "metadata": {},
   "outputs": [],
   "source": [
    "def diff_ngram(sa, sb, num):\n",
    "    a = ngram(sa, num)\n",
    "    b = ngram(sb, num)\n",
    "    r = []\n",
    "    cnt = 0\n",
    "    for i in a:\n",
    "        for j in b:\n",
    "            if i == j:\n",
    "                cnt += 1\n",
    "                r.append(i)\n",
    "    return cnt / len(a), r\n",
    "    "
   ]
  },
  {
   "cell_type": "code",
   "execution_count": 35,
   "metadata": {},
   "outputs": [
    {
     "name": "stdout",
     "output_type": "stream",
     "text": [
      "2-gram: 0.75 ['오늘', '강남', '남에', '에서', '서 ', ' 맛', '맛있', '는 ', ' 스', '스파', '파게', '게티', ' 먹', '먹었', '었다']\n",
      "3-gram: 0.42105263157894735 ['강남에', '남에서', '에서 ', ' 맛있', ' 스파', '스파게', '파게티', ' 먹었']\n"
     ]
    }
   ],
   "source": [
    "a = \"오늘 강남에서 맛있는 스파게티를 먹었다\"\n",
    "b = \"강남에서 먹었던 오늘의 스파게티는 맛있었다\"\n",
    "\n",
    "#2-gram\n",
    "r2, word2 = diff_ngram(a, b, 2)\n",
    "print(\"2-gram:\", r2, word2)\n",
    "#3-gram\n",
    "r3, word3 = diff_ngram(a, b, 3)\n",
    "print(\"3-gram:\", r3, word3)"
   ]
  },
  {
   "cell_type": "code",
   "execution_count": null,
   "metadata": {},
   "outputs": [],
   "source": []
  }
 ],
 "metadata": {
  "kernelspec": {
   "display_name": "Python 3",
   "language": "python",
   "name": "python3"
  },
  "language_info": {
   "codemirror_mode": {
    "name": "ipython",
    "version": 3
   },
   "file_extension": ".py",
   "mimetype": "text/x-python",
   "name": "python",
   "nbconvert_exporter": "python",
   "pygments_lexer": "ipython3",
   "version": "3.6.4"
  }
 },
 "nbformat": 4,
 "nbformat_minor": 2
}
