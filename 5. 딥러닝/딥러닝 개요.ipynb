{
 "cells": [
  {
   "cell_type": "markdown",
   "metadata": {},
   "source": [
    "## 딥러닝의 개요\n",
    "\n",
    "1. 딥러닝이란?\n",
    "사람의 사고방식을 컴퓨터에게 가르치는 기계학습의 한 분야\n",
    "\n",
    "2. 추가설명1\n",
    "1) 오래전부터 있어오던 인공신경망(Artificial Neural Network, ANN)과 크게 다를 바 없음. \n",
    "2) 선형 맞춤 (linear fitting)과 비선형 변환 (nonlinear transformation or activation)을 반복해 쌓아올린 구조. \n",
    "3) 인공신경망은 데이터를 잘 구분할 수 있는 선들을 긋고, 이 공간들을 잘 왜곡해 합하는 것을 반복하는 구조라고 할 수 있다."
   ]
  },
  {
   "cell_type": "code",
   "execution_count": 6,
   "metadata": {},
   "outputs": [
    {
     "data": {
      "text/html": [
       "<img src=\"./20150522_133023.png\", width=700, height=300>"
      ],
      "text/plain": [
       "<IPython.core.display.HTML object>"
      ]
     },
     "metadata": {},
     "output_type": "display_data"
    }
   ],
   "source": [
    "%%html\n",
    "<img src=\"./20150522_133023.png\", width=700, height=300>"
   ]
  },
  {
   "cell_type": "markdown",
   "metadata": {},
   "source": [
    "< 파란선과 빨간선의 영역을 구분한다고 생각해보자. 그냥 구분 선을 긋는다면 아마 왼쪽처럼 불완전하게 그을 수 있을 것이다. \n",
    "  하지만 공간을 왜곡하면 오른쪽 같이 아름답게 구분선을 그릴 수 있다. 이처럼 인공신경망은 선 긋고, 구기고, 합하고를 반복하여 데이터를 처리>"
   ]
  },
  {
   "cell_type": "markdown",
   "metadata": {},
   "source": [
    "3. 추가설명2\n",
    "1) 컴퓨터가 사진 속에서 고양이를 검출해내야 한다고 생각해보면,\n",
    "   '고양이'라는 추상적 이미지는 아마 선, 면, 형상, 색깔, 크기 등 다양한 요소들이 조합된 결과물이다. \n",
    "\n",
    "2) 이것은 아마 '선 30cm 이상은 고양이, 이하는 고양이 아님', 또는 '갈색은 고양이, 빨간색은 고양이 아님' 처럼 \n",
    "   간단한 선형 구분으로는 식별해 낼 수 없는 문제다. \n",
    "\n",
    "3) 딥러닝은 이 과제를 선 긋고 왜곡하고 합하고를 반복하며 복잡한 공간 속에서의 최적의 구분선을 만들어 내는 목적을 가지고 있다. \n",
    "   그럼 어떠한 규칙으로 선을 긋고 공간을 왜곡하냐? 바로 데이터에 근거. \n",
    "\n",
    "4) 일단 대충 선을 긋고 그것들을 살살살살 움직여가며 구분 결과가 더 좋게 나오도록 선을 움직인다. \n",
    "   이러한 과정을 최적화(optimization)이라고 하는데, 딥러닝은 아주 많은 데이터와 아주 오랜 시간의 최적화를 통해 데이터를 학습하게 된다."
   ]
  },
  {
   "cell_type": "code",
   "execution_count": 7,
   "metadata": {},
   "outputs": [
    {
     "data": {
      "text/html": [
       "<img src=\"./20150501_132837.png\", width=700, height=300>"
      ],
      "text/plain": [
       "<IPython.core.display.HTML object>"
      ]
     },
     "metadata": {},
     "output_type": "display_data"
    }
   ],
   "source": [
    "%%html\n",
    "<img src=\"./20150501_132837.png\", width=700, height=300>"
   ]
  },
  {
   "cell_type": "markdown",
   "metadata": {},
   "source": [
    "<여러 개의 뉴런(선형 맞춤 + 비선형 변환)이 합쳐지면 복잡한 형상의 함수도 추정할 수 있다>"
   ]
  },
  {
   "cell_type": "markdown",
   "metadata": {},
   "source": [
    "4. 딥러닝의 발전과정\n",
    "\n",
    "1) 문제. 기존 인공신경망 이론이 외면받는 여러 한계들 중 대표적인 문제는 바로 최적화가 쉽지 않다는 점.   \n",
    "   수 만개의 뉴론들이 수 백만개의 선들에 의해 연결되어 있고 이 선들에 적당한 값들을 할당해야 한다.(일명 parameter training)\n",
    "   <수 만개의 경우의 수가 있고, 하나의 경우의 수를 풀어나가는데도 많은 시간이 걸리는 문제>\n",
    "   \n",
    "2) 해결. 이러한 함정(local minima)들을 데이터의 전처리과정(pre-training)을 통해 해결. \n",
    "   2006년 힌톤 교수는 이 논문을 통해 인공신경망의 각 층들을 먼저 비지도학습 방법(unsupervised learning)을 통해 잘 손질해주고, \n",
    "   그렇게 전처리한 데이터를 여러 층 쌓아올려 인공신경망 최적화를 수행하면 이 문제를 해결할 수 있다는 것을 발견\n",
    "   <수 만개의 경우의 수를, 전처리를 통해 수천/백개로 줄여서 시간을 줄이는 것>\n",
    "   \n",
    "3) 이후 다양한 솔루션이 나왔으며, 인공신경망에서 딥러닝의 분야로 성공적으로 자리잡게 된 요인은 크게 아래 4가지와 같다. "
   ]
  },
  {
   "cell_type": "markdown",
   "metadata": {},
   "source": [
    "가. Unsupervised Learning을 이용한 Pre-training\n",
    "\n",
    "Unsupervised learning이라고 하면 (대충 말해서) '이건 사과', '이건 고양이', '이건 사람' 이런 \"가르침\" 없이 \n",
    "그냥 사과, 고양이, 사람을 다 던져놓고 구분하라고 시키는 학습 방법인데요, 그렇게되면 아무래도 컴퓨터는 비슷한 것끼리 \n",
    "군집(cluster)을 찾게 되겠죠. 알고리즘은 군집화하는 과정 속에서 특이한 놈들은 과감하게 개무시, 결과적으로 노이즈 감소의 효과를 얻게 됩니다. \n",
    "\n",
    "이렇게 unsupervised learning 방법으로 데이터를 고르게 잘 손질할 수 있고, \n",
    "이것을 깊은 인공신경망(=딥러닝망)에 넣으면 앞서 제기한 함정들에 훨씬 적게 빠진다는 것입니다. "
   ]
  },
  {
   "cell_type": "markdown",
   "metadata": {},
   "source": [
    "나. Convolutional Neural Network의 진화\n",
    "\n",
    "* CNN? CNN은 기존의 Neural Network 앞 부분에 Convolution 작업을 추가한 것.\n",
    "  Neural Network로 입력하는 데이터를 미리 전처리 하는 것이지요\n",
    "  Convolution은 연산의 신호 처리에서 많이 사용하는 연산 방법으로 보통 신호에서 원하는 특징을 얻어내기 위해서 사용합니다."
   ]
  },
  {
   "cell_type": "code",
   "execution_count": 12,
   "metadata": {},
   "outputs": [
    {
     "data": {
      "text/html": [
       "<img src=\"./333.jpeg\", width=700, height=300>"
      ],
      "text/plain": [
       "<IPython.core.display.HTML object>"
      ]
     },
     "metadata": {},
     "output_type": "display_data"
    }
   ],
   "source": [
    "%%html\n",
    "<img src=\"./333.jpeg\", width=700, height=300>"
   ]
  },
  {
   "cell_type": "markdown",
   "metadata": {},
   "source": [
    "### 원래 영상에 마스크(윈도우 혹은 커널)를 두고 Convolution을 통해 결과 영상의 픽셀값을 결정하는 것입니다."
   ]
  },
  {
   "cell_type": "code",
   "execution_count": 16,
   "metadata": {},
   "outputs": [
    {
     "data": {
      "text/html": [
       "<img src=\"./555.png\", width=700, height=300>\n",
       "<img src=\"./5555.png\", width=700, height=300>\n",
       "<img src=\"./3333.png\", width=700, height=300>"
      ],
      "text/plain": [
       "<IPython.core.display.HTML object>"
      ]
     },
     "metadata": {},
     "output_type": "display_data"
    }
   ],
   "source": [
    "%%html\n",
    "<img src=\"./555.png\", width=700, height=300>\n",
    "<img src=\"./5555.png\", width=700, height=300>\n",
    "<img src=\"./3333.png\", width=700, height=300>"
   ]
  },
  {
   "cell_type": "markdown",
   "metadata": {},
   "source": [
    "쉽게 정리하면,\n",
    "기계학습은 data→knowledge 로 바로 학습을 진행할 수도 있지만,\n",
    "보통 중간 단계인 특징 추출(feature extraction)을 거쳐 data→feature→knowledge 의 단계로 학습하는 것이 보통입니다. \n",
    "\n",
    "예를 들어 사진 속에서 사물을 인식하기 위해 픽셀 값에서 먼저 특징적인 선이나 특징적인 색 분포 등을 먼저 추출한 후 이를 기반으로 \n",
    "'이건 사과다' '이건 바나나다'라는 판단을 내리는 것이죠. \n",
    "\n",
    "이러한 중간 표현단계를 특징 지도 (feature map)이라고 하는데, 기계학습의 성능은 얼만큼 좋은 특징들을 뽑아내느냐에 따라 \n",
    "그 성능이 매우 크게 좌지우지 됩니다. (이는 이미지 처리 뿐만 아니라 음성 인식, 자연어 분석 등 대부분의 기계학습에 적용되는 이야기입니다.) "
   ]
  },
  {
   "cell_type": "code",
   "execution_count": 8,
   "metadata": {},
   "outputs": [
    {
     "data": {
      "text/html": [
       "<img src=\"./20150522_155034.png\", width=700, height=300>"
      ],
      "text/plain": [
       "<IPython.core.display.HTML object>"
      ]
     },
     "metadata": {},
     "output_type": "display_data"
    }
   ],
   "source": [
    "%%html\n",
    "<img src=\"./20150522_155034.png\", width=700, height=300>"
   ]
  },
  {
   "cell_type": "markdown",
   "metadata": {},
   "source": [
    "<원본 이미지(우측)와 convolutional network에 의해 추출된 특징 지도(좌측)>"
   ]
  },
  {
   "cell_type": "markdown",
   "metadata": {},
   "source": [
    "딥러닝의 성공 요인 중 하나를 꼽자면, 예전엔 사람의 예측에 의해 뽑히던 이 특징들을 지금은 이 마저도 기계학습을 이용해 뽑는다는 것. \n",
    "다시 말해, 예전엔 '선들을 추출해서 학습시키면 사물인식이 잘 될거야'와 같이 \n",
    "사람이 먼저 이 선들을 추출하는 알고리즘을 만들어 주었는데, 이제는 특징 추출과 학습 모두가 딥러닝 알고리즘 안에 포함되었다는 것이죠. \n",
    "\n",
    "다단계로 특징을 추출해 학습하는 Convolutional Neural Network은 현재 딥러닝의 대세로서 특히 이미지 인식에서 큰 발전을 이룩하고 있다."
   ]
  },
  {
   "cell_type": "markdown",
   "metadata": {},
   "source": [
    "다. 시계열 데이터를 위한 Recurrent Neural Network\n",
    "\n",
    "딥러닝 알고리즘을 크게 세 분류로 나누자 대략적으로 다음과 같이 나눌 수 있습니다.\n",
    "- Unsupervised Learning을 기반으로 한 방법\n",
    "- Convolutional Neural Network의 다양한 변형들\n",
    "- 시계열 데이터를 위한 Recurrent Neural Network와 게이트 유닛들 (e.g. Long-Short Term Memory (LSTM))\n",
    "  \n",
    "시계열 데이터(Time-series data)란 시간의 흐름에 따라 변하는 데이터를 말하는데요, \n",
    "예를 들면 주가도 시간에 따라 변하고, 사람의 움직임도 시간에 따라 변하고, 비디오도 시간에 따라 변하고... \n",
    "\n",
    "이러한 시계열 데이터에서 탁월한 성능을 보여주는 딥러닝 방법이 바로 Recurrent Neural Network (RNN) 입니다. \n",
    "RNN은 매 순간마다의 인공신경망 구조를 쌓아올렸다고 생각하시면 되는데요, \n",
    "예를 들면 100초면 100개의 인공신경망을 쌓아올린거죠. (그래서 딥러닝 중에 가장 깊은 구조라고도 불립니다.)\n",
    "\n",
    "예전의 RNN은 인공신경망이 너무 깊어서 오랜 시간 전의 데이터들을 까먹는 현상(vanishing gradient problem) 때문에 학습이 힘들었는데요, \n",
    "Jurgen Schmidhuber 교수의 Long-Short term Memory (LSTM) 이란 게이트 유닛을 각 노드마다 배치하여 이러한 문제를 극복, \n",
    "현재는 Convolutional Network의 가장 강력한 경쟁 상대로 자리매김하고 있습니다.\n"
   ]
  },
  {
   "cell_type": "markdown",
   "metadata": {},
   "source": [
    "라. GPU 병렬 컴퓨팅의 등장과 학습 방법의 진보\n",
    "\n",
    "1) GPU\n",
    "GPGPU (General-Purpose computing on Graphics Processing Units)이란 개념이 개발되며 저렴한 가격으로 CPU와 병렬처리를 할 수 있는 \n",
    "GPU 제품들이 출시되었고, 이를 효율적으로 이용하는 언어구조(e.g. CuDA)들이 개발되며 딥러닝은 그 컴퓨팅 시간이 수십분의 일로 줄어 들었습니다.\n",
    "\n",
    "2) 빅데이터\n",
    "연구에 사용할 수 있는 데이터 풀도 많아져 예전엔 기껏해야 몇 만개의 손 글씨 데이터(e.g. MNIST)가 전부이던 것이 \n",
    "지금은 천 만장의 고해상도의 사진들(e.g. ImageNet)은 물론, 필요하다면 구글이나 유튜브에서 자료를 끌어올 수도 있었으니 말이죠.\n",
    "\n",
    "* 알고리즘적인 발전과 하드웨어의 발전, 그리고 빅데이터의 힘에 의해 현재 최고 성능을 가진 기계학습 방법으로 평가받고 있다"
   ]
  },
  {
   "cell_type": "markdown",
   "metadata": {},
   "source": [
    "## 왜 텐서플로인가?\n",
    "\n",
    "**텐서플로**(_TensorFlow_)는 머신러닝 프로그램, 특히 딥러닝 프로그램을 쉽게 구현할 수 있도록 다양한 기능을 제공해주는 \n",
    "머신러닝 라이브러리로, 모두가 잘 아는 구글에서 만들었습니다.\n",
    "\n",
    "텐서플로 자체는 기본적으로 C++로 작성했지만 파이썬, 자바, 고(_Go_) 등 다양한 언어를 지원합니다. \n",
    "다만, 파이썬을 최우선으로 지원하여 대다수 편의 기능이 파이썬 라이브러리로만 구현되어 있으니 되도록이면 \n",
    "파이썬으로 개발하는 것이 가장 편리합니다.\n",
    "\n",
    "또한 윈도우, 맥, 리눅스뿐만 아니라 안드로이드, iOS, 라즈베리 파이 등 다양한 시스템에서 쉽게 사용할 수 있도록 지원하여 매우 다양한 곳에\n",
    "응용할 수 있습니다.\n",
    "\n",
    "물론 머신러닝/딥러닝을 위한 라이브러리로 텐서플로가 유일한 것은 아닙니다. \n",
    "토치(_Torch_), 카페(_Caffe_), MXNet, 체이너(_Chainer_), CNTK 등 많은 라이브러리가 있습니다. \n",
    "\n",
    "그렇다면 왜 텐서플로를 사용하는 것일까요? 제가 생각하는 답은 커뮤니티입니다. \n",
    "특히 저 같은 엔지니어에게 있어서 라이브러리를 선택할 때 가장 중요한 기준은 커뮤니티라고 생각합니다. \n",
    "실무에 적용했을 때 생기는 문제점들을 해결하거나, 라이브러리 자체에 버그가 있을 때 얼마나 빠르게 수정되는가 하는 그런 것들. \n",
    "바로 그런 요인들이 실무를 하는 엔지니어에게는 가장 중요한 부분이라고 할 수 있을 것입니다.\n",
    "\n",
    "그런 점에 있어 현존하는 머신러닝 라이브러리 중 커뮤니티가 가장 북적이는 것이 바로 텐서플로입니다. \n",
    "깃허브의 텐서플로 저장소나 각종 애플리케이션, 클라우드 서비스 등은 물론, 새로운 논문이 나올 때마다 텐서플로로 \n",
    "된 구현체가 가장 먼저 나올 정도로 텐서플로 커뮤니티는 놀라울 만큼 활발하게 움직이고 있습니다.\n",
    "\n",
    "당연하게도 구글 역시 텐서플로 커뮤니티를 상당히 적극적으로 지원하며, 한국에서는 페이스북의 TensorFlow KR 커뮤니티가 \n",
    "매우 활발하게 활동하고 있습니다. 그러므로 한국에 계신 연구자분들, 특히 머신러닝과 딥러닝을 처음 접하는 엔지니어라면 텐서플로로 \n",
    "시작하는 것이 딥러닝을 더 수월하게 익히는 길이라고 생각합니다."
   ]
  },
  {
   "cell_type": "markdown",
   "metadata": {},
   "source": []
  }
 ],
 "metadata": {
  "kernelspec": {
   "display_name": "Python 3",
   "language": "python",
   "name": "python3"
  },
  "language_info": {
   "codemirror_mode": {
    "name": "ipython",
    "version": 3
   },
   "file_extension": ".py",
   "mimetype": "text/x-python",
   "name": "python",
   "nbconvert_exporter": "python",
   "pygments_lexer": "ipython3",
   "version": "3.6.3"
  }
 },
 "nbformat": 4,
 "nbformat_minor": 2
}
