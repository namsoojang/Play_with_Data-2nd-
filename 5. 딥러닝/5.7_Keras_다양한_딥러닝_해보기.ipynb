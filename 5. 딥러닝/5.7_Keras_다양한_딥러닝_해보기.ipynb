{
 "cells": [
  {
   "cell_type": "markdown",
   "metadata": {},
   "source": [
    "### Keras\n",
    " - Machine Learning 라이브러리 Theano와 TesnorFlow를 Wrapping한 라이브러리 (https://deeplearning4j.org/kr/compare-dl4j-torch7-pylearn)\n",
    "  - Theano는 Numpy와 같은 다차원 배열을 다루는 라이브러리\n",
    "  - Tensorflow는 Theano를 대체하기 위해 나온 라이브러리\n",
    " - 케라스는 파이썬으로 구현된 쉽고 간결한 딥러닝 라이브러리입니다. 딥러닝 비전문가라도 각자 분야에서 손쉽게 딥러닝 모델을 개발하고 활용할 수 있도록 케라스는 직관적인 API를 제공하고 있습니다. 내부적으로는 텐서플로우(TensorFlow), 티아노(Theano), CNTK 등의 딥러닝 전용 엔진이 구동되지만 케라스 사용자는 복잡한 내부 엔진을 알 필요는 없습니다. 직관적인 API로 쉽게 다층퍼셉트론 모델, 컨볼루션 신경망 모델, 순환 신경망 모델 또는 이를 조합한 모델은 물론 다중 입력 또는 다중 출력 등 다양한 구성을 할 수 있습니다. (https://tykimos.github.io/2017/01/27/Keras_Talk/)"
   ]
  },
  {
   "cell_type": "markdown",
   "metadata": {},
   "source": [
    "#### Keras로 비만도 판정하기"
   ]
  },
  {
   "cell_type": "code",
   "execution_count": 2,
   "metadata": {},
   "outputs": [
    {
     "name": "stderr",
     "output_type": "stream",
     "text": [
      "Using TensorFlow backend.\n"
     ]
    }
   ],
   "source": [
    "from keras.models import Sequential\n",
    "from keras.layers.core import Dense, Dropout, Activation\n",
    "from keras.callbacks import EarlyStopping\n",
    "import pandas as pd, numpy as np\n",
    "import os"
   ]
  },
  {
   "cell_type": "code",
   "execution_count": 3,
   "metadata": {},
   "outputs": [
    {
     "data": {
      "text/plain": [
       "'C:\\\\Users\\\\namso_000\\\\Documents\\\\GitHub\\\\play_with_data(2nd)\\\\5. 딥러닝'"
      ]
     },
     "execution_count": 3,
     "metadata": {},
     "output_type": "execute_result"
    }
   ],
   "source": [
    "os.getcwd()"
   ]
  },
  {
   "cell_type": "code",
   "execution_count": 4,
   "metadata": {},
   "outputs": [],
   "source": [
    "# BMI 데이터를 읽어 들이고 정규화하기 --- (※1)\n",
    "csv = pd.read_csv(\"./ch5/bmi.csv\")"
   ]
  },
  {
   "cell_type": "code",
   "execution_count": 5,
   "metadata": {},
   "outputs": [
    {
     "name": "stdout",
     "output_type": "stream",
     "text": [
      "(20000, 3)\n"
     ]
    },
    {
     "data": {
      "text/html": [
       "<div>\n",
       "<style>\n",
       "    .dataframe thead tr:only-child th {\n",
       "        text-align: right;\n",
       "    }\n",
       "\n",
       "    .dataframe thead th {\n",
       "        text-align: left;\n",
       "    }\n",
       "\n",
       "    .dataframe tbody tr th {\n",
       "        vertical-align: top;\n",
       "    }\n",
       "</style>\n",
       "<table border=\"1\" class=\"dataframe\">\n",
       "  <thead>\n",
       "    <tr style=\"text-align: right;\">\n",
       "      <th></th>\n",
       "      <th>height</th>\n",
       "      <th>weight</th>\n",
       "      <th>label</th>\n",
       "    </tr>\n",
       "  </thead>\n",
       "  <tbody>\n",
       "    <tr>\n",
       "      <th>0</th>\n",
       "      <td>142</td>\n",
       "      <td>62</td>\n",
       "      <td>fat</td>\n",
       "    </tr>\n",
       "    <tr>\n",
       "      <th>1</th>\n",
       "      <td>142</td>\n",
       "      <td>73</td>\n",
       "      <td>fat</td>\n",
       "    </tr>\n",
       "    <tr>\n",
       "      <th>2</th>\n",
       "      <td>177</td>\n",
       "      <td>61</td>\n",
       "      <td>normal</td>\n",
       "    </tr>\n",
       "    <tr>\n",
       "      <th>3</th>\n",
       "      <td>187</td>\n",
       "      <td>48</td>\n",
       "      <td>thin</td>\n",
       "    </tr>\n",
       "    <tr>\n",
       "      <th>4</th>\n",
       "      <td>153</td>\n",
       "      <td>60</td>\n",
       "      <td>fat</td>\n",
       "    </tr>\n",
       "  </tbody>\n",
       "</table>\n",
       "</div>"
      ],
      "text/plain": [
       "   height  weight   label\n",
       "0     142      62     fat\n",
       "1     142      73     fat\n",
       "2     177      61  normal\n",
       "3     187      48    thin\n",
       "4     153      60     fat"
      ]
     },
     "execution_count": 5,
     "metadata": {},
     "output_type": "execute_result"
    }
   ],
   "source": [
    "print(csv.shape)\n",
    "csv.head()"
   ]
  },
  {
   "cell_type": "code",
   "execution_count": 7,
   "metadata": {},
   "outputs": [
    {
     "name": "stdout",
     "output_type": "stream",
     "text": [
      "[[ 0.0062    0.00355 ]\n",
      " [ 0.0073    0.00355 ]\n",
      " [ 0.0061    0.004425]\n",
      " ..., \n",
      " [ 0.0037    0.004825]\n",
      " [ 0.0051    0.004875]\n",
      " [ 0.0067    0.004075]]\n",
      "<class 'numpy.ndarray'>\n"
     ]
    }
   ],
   "source": [
    "# 몸무게와 키 데이터 - 정규화: 데이터의 범위를 일치시키거나 분포를 유사하게 만들어 주기\n",
    "csv[\"weight\"] /= 100\n",
    "csv[\"height\"] /= 200\n",
    "X = csv[[\"weight\", \"height\"]].as_matrix() # --- (※1a)\n",
    "print(X)\n",
    "\n",
    "print(type(X))"
   ]
  },
  {
   "cell_type": "markdown",
   "metadata": {},
   "source": [
    "- Pandas의 DataFrame형을 Keras에서는 Numpy의 ndarray로 변형해서 써야하기 떄문에 as.Matrix를 사용하였다."
   ]
  },
  {
   "cell_type": "code",
   "execution_count": 8,
   "metadata": {},
   "outputs": [
    {
     "name": "stdout",
     "output_type": "stream",
     "text": [
      "[[ 0.  0.  1.]\n",
      " [ 0.  0.  1.]\n",
      " [ 0.  1.  0.]\n",
      " ..., \n",
      " [ 1.  0.  0.]\n",
      " [ 1.  0.  0.]\n",
      " [ 0.  1.  0.]]\n"
     ]
    }
   ],
   "source": [
    "# 레이블 -문자열을 One Hot Encoding을 사용해서 변환해준다.\n",
    "bclass = {\"thin\":[1,0,0], \"normal\":[0,1,0], \"fat\":[0,0,1]}\n",
    "y = np.empty((20000,3))\n",
    "for i, v in enumerate(csv[\"label\"]):\n",
    "    y[i] = bclass[v]\n",
    "print(y)"
   ]
  },
  {
   "cell_type": "code",
   "execution_count": 9,
   "metadata": {},
   "outputs": [],
   "source": [
    "# 훈련 전용 데이터와 테스트 전용 데이터로 나누기 --- (※2)\n",
    "X_train, y_train = X[1:15001], y[1:15001]\n",
    "X_test,  y_test  = X[15001:20001], y[15001:20001] "
   ]
  },
  {
   "cell_type": "markdown",
   "metadata": {},
   "source": [
    "시퀀스 모델을 생성한 뒤 필요한 레이어를 추가하여 구성합니다.\n",
    "좀 더 복잡한 모델이 필요할 때는 케라스 함수 API를 사용합니다"
   ]
  },
  {
   "cell_type": "code",
   "execution_count": 10,
   "metadata": {},
   "outputs": [
    {
     "data": {
      "text/html": [
       "<img src=\"http://tykimos.github.io/warehouse/2017-1-27_MLP_Layer_Talk_neuron.png\"/>"
      ],
      "text/plain": [
       "<IPython.core.display.Image object>"
      ]
     },
     "execution_count": 10,
     "metadata": {},
     "output_type": "execute_result"
    }
   ],
   "source": [
    "from IPython.display import Image\n",
    "from IPython.core.display import HTML \n",
    "Image(url= \"http://tykimos.github.io/warehouse/2017-1-27_MLP_Layer_Talk_neuron.png\")"
   ]
  },
  {
   "cell_type": "markdown",
   "metadata": {},
   "source": [
    "- x0, x1, x2 : 입력되는 뉴런의 축삭돌기로부터 전달되는 신호의 양\n",
    "- w0, w1, w2 : 시냅스의 강도, 즉 입력되는 뉴런의 영향력을 나타냅니다.\n",
    "- w0x0 + w1x1 + w2*x2 : 입력되는 신호의 양과 해당 신호의 시냅스 강도가 곱해진 값의 합계\n",
    "- f : 최종 합계가 다른 뉴런에게 전달되는 신호의 양을 결정짓는 규칙, 이를 활성화 함수라고 부릅니다."
   ]
  },
  {
   "cell_type": "code",
   "execution_count": 16,
   "metadata": {},
   "outputs": [
    {
     "name": "stdout",
     "output_type": "stream",
     "text": [
      "(2,)\n",
      "(2, 3)\n",
      "(3,)\n"
     ]
    }
   ],
   "source": [
    "X = np.array([1.0,0.5]) # 입력이 2개 (x1, x2)\n",
    "W1 = np.array([[0.1,0.3,0.5],[0.2,0.4,0.6]]) # 입력에 대응하는 weights \n",
    "B1 = np.array([0.1,0.2,0.3]) # bias\n",
    "\n",
    "print(X.shape) # 1x2\n",
    "print(W1.shape) # 2x3\n",
    "print(B1.shape)# 1x3\n",
    "\n",
    "\n",
    "#출처: http://3months.tistory.com/65 [Deep Play]"
   ]
  },
  {
   "cell_type": "markdown",
   "metadata": {},
   "source": [
    "https://tensorflowkorea.gitbooks.io/tensorflow-kr/content/g3doc/resources/dims_types.html\n",
    "https://www.tensorflow.org/programmers_guide/tensors\n",
    "- Rank\tShape\tDimension number\tExample\n",
    "- 0\t[]\t0-D\tA 0-D tensor. A scalar.\n",
    "- 1\t[D0]\t1-D\tA 1-D tensor with shape [5].\n",
    "- 2\t[D0, D1]\t2-D\tA 2-D tensor with shape [3, 4].\n",
    "- 3\t[D0, D1, D2]\t3-D\tA 3-D tensor with shape [1, 4, 3].\n",
    "- n\t[D0, D1, ... Dn-1]\tn-D\tA tensor with shape [D0, D1, ... Dn-1].\n",
    "    "
   ]
  },
  {
   "cell_type": "code",
   "execution_count": 37,
   "metadata": {},
   "outputs": [],
   "source": [
    "# 모델 구조 정의하기 --- (※3)\n",
    "model = Sequential()\n",
    "model.add(Dense(512, input_shape=(2,))) \n",
    "#Just your regular densely-connected NN layer.\n",
    "# now the model will take as input arrays of shape (*, 2)\n",
    "# and output arrays of shape (*, 512)\n",
    "model.add(Activation('relu'))\n",
    "model.add(Dropout(0.1)) \n",
    "#드롭 아웃은 오버피팅(over-fit)을 막기 위한 방법으로 뉴럴 네트워크가 학습중일때, \n",
    "# 랜덤하게 뉴런을 꺼서 학습을 방해함으로써, \n",
    "# 학습이 학습용 데이타에 치우치는 현상을 막아준다. \n",
    "# model.add(Dense(512))\n",
    "# model.add(Activation('relu'))\n",
    "# model.add(Dropout(0.1))\n",
    "model.add(Dense(3))\n",
    "model.add(Activation('softmax'))"
   ]
  },
  {
   "cell_type": "markdown",
   "metadata": {},
   "source": [
    "학습하기 전에 학습에 대한 설정을 수행합니다.\n",
    "손실 함수 및 최적화 방법을 정의합니다.\n",
    " - loss : 현재 가중치 세트를 평가하는 데 사용한 손실 함수 입니다. 다중 클래스 문제이므로 ‘categorical_crossentropy’으로 지정합니다.\n",
    " - optimizer : 최적의 가중치를 검색하는 데 사용되는 최적화 알고리즘으로 효율적인 경사 하강법 알고리즘 중 하나인 rmsprop 사용\n",
    "  - SGD: Stochastic Gradient Descent, 이 방법에서는 loss function을 계산할 때 전체 데이터(batch) 대신 일부 조그마한 데이터의 모음(mini-batch)에 대해서만 loss function을 계산한다\n",
    " - metrics : 평가 척도를 나타내며 분류 문제에서는 일반적으로 ‘accuracy’으로 지정합니다."
   ]
  },
  {
   "cell_type": "code",
   "execution_count": 38,
   "metadata": {},
   "outputs": [],
   "source": [
    "# 모델 구축하기 --- (※4)\n",
    "model.compile(\n",
    "    loss='categorical_crossentropy',\n",
    "    optimizer=\"rmsprop\",\n",
    "    metrics=['accuracy'])\n"
   ]
  },
  {
   "cell_type": "markdown",
   "metadata": {},
   "source": [
    "'''\n",
    "x : 입력 데이터\n",
    "y : 라벨 값\n",
    "batch_size : 몇 개의 샘플로 가중치를 갱신할 것인지 지정\n",
    "epochs : 학습 반복 횟수\n",
    "'''\n",
    "- Batch Size=100 : 전체 Train Set에 대해서 100개 단위로 나눈 후에, 100개기반으로 Fitting후 가중치를 변경\n",
    "- epochs =20: 같은 Train Set에 대한 Fitting을 20번씩 반복해서 가중치를 수정해나감\n",
    "- validation_split: 10%의 train set에 대해서는 남겨두었다가 매 epoch마다 해당 train_set을 기반으로 loss 및 기타 수치에 대해 evaluation\n",
    "- callback: 더 이상 개선의 여지가 없을 때 학습을 종료,  여기서는 fit 함수에서 EarlyStopping이라는 콜백함수가 학습 과정 중에 매번 호출됩니다."
   ]
  },
  {
   "cell_type": "code",
   "execution_count": 39,
   "metadata": {},
   "outputs": [
    {
     "name": "stdout",
     "output_type": "stream",
     "text": [
      "Train on 13500 samples, validate on 1500 samples\n",
      "Epoch 1/20\n",
      "13500/13500 [==============================] - 3s 214us/step - loss: 1.0965 - acc: 0.3631 - val_loss: 1.0965 - val_acc: 0.3607\n",
      "Epoch 2/20\n",
      "13500/13500 [==============================] - 2s 116us/step - loss: 1.0959 - acc: 0.3659 - val_loss: 1.0961 - val_acc: 0.3607\n",
      "Epoch 3/20\n",
      "13500/13500 [==============================] - 1s 93us/step - loss: 1.0952 - acc: 0.3659 - val_loss: 1.0952 - val_acc: 0.3607\n",
      "Epoch 4/20\n",
      "13500/13500 [==============================] - 1s 82us/step - loss: 1.0937 - acc: 0.3659 - val_loss: 1.0943 - val_acc: 0.3607\n",
      "Epoch 5/20\n",
      "13500/13500 [==============================] - 1s 70us/step - loss: 1.0916 - acc: 0.3659 - val_loss: 1.0907 - val_acc: 0.3607\n",
      "Epoch 6/20\n",
      "13500/13500 [==============================] - 1s 64us/step - loss: 1.0879 - acc: 0.3676 - val_loss: 1.0862 - val_acc: 0.3607\n",
      "Epoch 7/20\n",
      "13500/13500 [==============================] - 1s 65us/step - loss: 1.0828 - acc: 0.3804 - val_loss: 1.0805 - val_acc: 0.3607\n",
      "Epoch 8/20\n",
      "13500/13500 [==============================] - 1s 58us/step - loss: 1.0762 - acc: 0.3958 - val_loss: 1.0739 - val_acc: 0.4960\n",
      "Epoch 9/20\n",
      "13500/13500 [==============================] - 1s 58us/step - loss: 1.0683 - acc: 0.4455 - val_loss: 1.0675 - val_acc: 0.3607\n",
      "Epoch 10/20\n",
      "13500/13500 [==============================] - 1s 56us/step - loss: 1.0598 - acc: 0.4734 - val_loss: 1.0556 - val_acc: 0.4480\n",
      "Epoch 11/20\n",
      "13500/13500 [==============================] - 1s 56us/step - loss: 1.0491 - acc: 0.5061 - val_loss: 1.0454 - val_acc: 0.4820\n",
      "Epoch 12/20\n",
      "13500/13500 [==============================] - 1s 53us/step - loss: 1.0383 - acc: 0.5393 - val_loss: 1.0341 - val_acc: 0.6060\n",
      "Epoch 13/20\n",
      "13500/13500 [==============================] - 1s 54us/step - loss: 1.0263 - acc: 0.5634 - val_loss: 1.0211 - val_acc: 0.5980\n",
      "Epoch 14/20\n",
      "13500/13500 [==============================] - 1s 54us/step - loss: 1.0137 - acc: 0.5722 - val_loss: 1.0083 - val_acc: 0.5980\n",
      "Epoch 15/20\n",
      "13500/13500 [==============================] - 1s 54us/step - loss: 1.0003 - acc: 0.5907 - val_loss: 1.0000 - val_acc: 0.5193\n",
      "Epoch 16/20\n",
      "13500/13500 [==============================] - 1s 55us/step - loss: 0.9876 - acc: 0.5930 - val_loss: 0.9813 - val_acc: 0.5987\n",
      "Epoch 17/20\n",
      "13500/13500 [==============================] - 1s 53us/step - loss: 0.9723 - acc: 0.6033 - val_loss: 0.9696 - val_acc: 0.5847\n",
      "Epoch 18/20\n",
      "13500/13500 [==============================] - 1s 52us/step - loss: 0.9586 - acc: 0.6085 - val_loss: 0.9534 - val_acc: 0.6033\n",
      "Epoch 19/20\n",
      "13500/13500 [==============================] - 1s 53us/step - loss: 0.9429 - acc: 0.6102 - val_loss: 0.9422 - val_acc: 0.6153\n",
      "Epoch 20/20\n",
      "13500/13500 [==============================] - 1s 55us/step - loss: 0.9283 - acc: 0.6131 - val_loss: 0.9234 - val_acc: 0.6133\n",
      "[1.09650543000963, 1.0958642862461232, 1.0952150768703885, 1.0937072948173241, 1.0915669714962994, 1.0879137365906326, 1.0828165690104166, 1.0761924240324232, 1.068276251686944, 1.0597898968943844, 1.0491347480703284, 1.0383382302743418, 1.026279502444797, 1.0137059436904059, 1.0003083546956379, 0.98763598998387658, 0.97234062088860407, 0.95862387286292183, 0.94288511850215773, 0.92826385718804816]\n",
      "[0.36311111185285783, 0.36585185240816187, 0.36585185296005673, 0.36585185207702497, 0.36585185196664599, 0.36755555713618243, 0.38037036900167109, 0.39577777761000171, 0.44548148049248587, 0.47340740605636877, 0.50614814669997599, 0.53925925713998302, 0.5634074043344568, 0.57222222001464274, 0.59066666430897186, 0.59303703550939202, 0.60333333192048244, 0.608518518783428, 0.61022221953780564, 0.61311111273588959]\n",
      "[1.0965441624323526, 1.0961220900217692, 1.0951788028081257, 1.094267455736796, 1.0906615813573202, 1.0862303098042807, 1.0804885625839233, 1.0738723198572795, 1.0675412575403849, 1.0556036472320556, 1.0454288244247436, 1.0341251691182454, 1.0210893988609313, 1.008260154724121, 1.0000081618626913, 0.98133627971013382, 0.96963829596837359, 0.95337255001068111, 0.94215708573659263, 0.92335066795349119]\n",
      "[0.36066666642824807, 0.36066666642824807, 0.36066666642824807, 0.36066666642824807, 0.36066666642824807, 0.36066666642824807, 0.36066666642824807, 0.49599999984105431, 0.36066666642824807, 0.44799999793370565, 0.48199999531110127, 0.60599999427795415, 0.59799999396006265, 0.59799999396006265, 0.5193333347638448, 0.59866666396458945, 0.58466666539510093, 0.60333333412806189, 0.61533333063125606, 0.61333333253860478]\n"
     ]
    }
   ],
   "source": [
    "# 데이터 훈련하기 --- (※5)\n",
    "hist = model.fit(\n",
    "    X_train, y_train,\n",
    "    batch_size=100,\n",
    "    epochs=20,\n",
    "    validation_split=0.1,\n",
    "    callbacks=[EarlyStopping(monitor='val_loss', patience=2)],\n",
    "    verbose=1)\n",
    "\n",
    "print(hist.history['loss'])\n",
    "print(hist.history['acc'])\n",
    "print(hist.history['val_loss'])\n",
    "print(hist.history['val_acc'])\n"
   ]
  },
  {
   "cell_type": "markdown",
   "metadata": {},
   "source": [
    "- train_loss(노란색) : 훈련 손실값이며 x축은 에포크 수, 좌측 y축은 손실값을 나타냅니다.\n",
    "- val_loss(빨간색) : 검증 손실값이며 x축은 에포크 수, 좌측 y축은 손실값을 나타냅니다.\n",
    "- train_acc(파란색) : 훈련 정확도이며 x축은 에포크 수, 우측 y축은 정확도를 나타냅니다.\n",
    "- val_acc(녹색) : 검증 정확도이며 x축은 에포크 수, 우측 y축은 정확도를 나타냅니다."
   ]
  },
  {
   "cell_type": "code",
   "execution_count": 40,
   "metadata": {},
   "outputs": [
    {
     "data": {
      "image/png": "[encoded data removed]",
      "text/plain": [
       "<matplotlib.figure.Figure at 0xc9996ef160>"
      ]
     },
     "metadata": {},
     "output_type": "display_data"
    }
   ],
   "source": [
    "%matplotlib inline\n",
    "import matplotlib.pyplot as plt\n",
    "\n",
    "fig, loss_ax = plt.subplots()\n",
    "\n",
    "acc_ax = loss_ax.twinx()\n",
    "\n",
    "loss_ax.plot(hist.history['loss'], 'y', label='train loss')\n",
    "loss_ax.plot(hist.history['val_loss'], 'r', label='val loss')\n",
    "\n",
    "acc_ax.plot(hist.history['acc'], 'b', label='train acc')\n",
    "acc_ax.plot(hist.history['val_acc'], 'g', label='val acc')\n",
    "\n",
    "loss_ax.set_xlabel('epoch')\n",
    "loss_ax.set_ylabel('loss')\n",
    "acc_ax.set_ylabel('accuray')\n",
    "\n",
    "loss_ax.legend(loc='upper left')\n",
    "acc_ax.legend(loc='lower left')\n",
    "\n",
    "plt.show()"
   ]
  },
  {
   "cell_type": "markdown",
   "metadata": {},
   "source": [
    "준비된 시험셋으로 학습한 모델을 평가합니다.\n",
    "케라스에서는 evaluate() 함수를 사용합니다."
   ]
  },
  {
   "cell_type": "code",
   "execution_count": 21,
   "metadata": {},
   "outputs": [
    {
     "name": "stdout",
     "output_type": "stream",
     "text": [
      "4999/4999 [==============================] - 1s 269us/step\n",
      "loss= 0.995192753432\n",
      "accuracy= 0.415683136645\n"
     ]
    }
   ],
   "source": [
    "# 테스트 데이터로 평가하기 --- (※6)\n",
    "score = model.evaluate(X_test, y_test)\n",
    "print('loss=', score[0])\n",
    "print('accuracy=', score[1])"
   ]
  },
  {
   "cell_type": "markdown",
   "metadata": {},
   "source": [
    "#### TensorFlow로 비만도 판정해보기"
   ]
  },
  {
   "cell_type": "code",
   "execution_count": 22,
   "metadata": {},
   "outputs": [],
   "source": [
    "import pandas as pd\n",
    "import numpy as np\n",
    "import tensorflow as tf"
   ]
  },
  {
   "cell_type": "code",
   "execution_count": 23,
   "metadata": {},
   "outputs": [],
   "source": [
    "# 키, 몸무게, 레이블이 적힌 CSV 파일 읽어 들이기 --- (※1)\n",
    "csv = pd.read_csv(\"./ch5/bmi.csv\")"
   ]
  },
  {
   "cell_type": "code",
   "execution_count": 24,
   "metadata": {},
   "outputs": [
    {
     "name": "stdout",
     "output_type": "stream",
     "text": [
      "(20000, 3)\n"
     ]
    },
    {
     "data": {
      "text/html": [
       "<div>\n",
       "<style>\n",
       "    .dataframe thead tr:only-child th {\n",
       "        text-align: right;\n",
       "    }\n",
       "\n",
       "    .dataframe thead th {\n",
       "        text-align: left;\n",
       "    }\n",
       "\n",
       "    .dataframe tbody tr th {\n",
       "        vertical-align: top;\n",
       "    }\n",
       "</style>\n",
       "<table border=\"1\" class=\"dataframe\">\n",
       "  <thead>\n",
       "    <tr style=\"text-align: right;\">\n",
       "      <th></th>\n",
       "      <th>height</th>\n",
       "      <th>weight</th>\n",
       "      <th>label</th>\n",
       "    </tr>\n",
       "  </thead>\n",
       "  <tbody>\n",
       "    <tr>\n",
       "      <th>0</th>\n",
       "      <td>142</td>\n",
       "      <td>62</td>\n",
       "      <td>fat</td>\n",
       "    </tr>\n",
       "    <tr>\n",
       "      <th>1</th>\n",
       "      <td>142</td>\n",
       "      <td>73</td>\n",
       "      <td>fat</td>\n",
       "    </tr>\n",
       "    <tr>\n",
       "      <th>2</th>\n",
       "      <td>177</td>\n",
       "      <td>61</td>\n",
       "      <td>normal</td>\n",
       "    </tr>\n",
       "    <tr>\n",
       "      <th>3</th>\n",
       "      <td>187</td>\n",
       "      <td>48</td>\n",
       "      <td>thin</td>\n",
       "    </tr>\n",
       "    <tr>\n",
       "      <th>4</th>\n",
       "      <td>153</td>\n",
       "      <td>60</td>\n",
       "      <td>fat</td>\n",
       "    </tr>\n",
       "  </tbody>\n",
       "</table>\n",
       "</div>"
      ],
      "text/plain": [
       "   height  weight   label\n",
       "0     142      62     fat\n",
       "1     142      73     fat\n",
       "2     177      61  normal\n",
       "3     187      48    thin\n",
       "4     153      60     fat"
      ]
     },
     "execution_count": 24,
     "metadata": {},
     "output_type": "execute_result"
    }
   ],
   "source": [
    "print(csv.shape)\n",
    "csv.head(5)"
   ]
  },
  {
   "cell_type": "code",
   "execution_count": 25,
   "metadata": {},
   "outputs": [
    {
     "data": {
      "text/html": [
       "<div>\n",
       "<style>\n",
       "    .dataframe thead tr:only-child th {\n",
       "        text-align: right;\n",
       "    }\n",
       "\n",
       "    .dataframe thead th {\n",
       "        text-align: left;\n",
       "    }\n",
       "\n",
       "    .dataframe tbody tr th {\n",
       "        vertical-align: top;\n",
       "    }\n",
       "</style>\n",
       "<table border=\"1\" class=\"dataframe\">\n",
       "  <thead>\n",
       "    <tr style=\"text-align: right;\">\n",
       "      <th></th>\n",
       "      <th>height</th>\n",
       "      <th>weight</th>\n",
       "      <th>label</th>\n",
       "    </tr>\n",
       "  </thead>\n",
       "  <tbody>\n",
       "    <tr>\n",
       "      <th>0</th>\n",
       "      <td>0.710</td>\n",
       "      <td>0.62</td>\n",
       "      <td>fat</td>\n",
       "    </tr>\n",
       "    <tr>\n",
       "      <th>1</th>\n",
       "      <td>0.710</td>\n",
       "      <td>0.73</td>\n",
       "      <td>fat</td>\n",
       "    </tr>\n",
       "    <tr>\n",
       "      <th>2</th>\n",
       "      <td>0.885</td>\n",
       "      <td>0.61</td>\n",
       "      <td>normal</td>\n",
       "    </tr>\n",
       "    <tr>\n",
       "      <th>3</th>\n",
       "      <td>0.935</td>\n",
       "      <td>0.48</td>\n",
       "      <td>thin</td>\n",
       "    </tr>\n",
       "    <tr>\n",
       "      <th>4</th>\n",
       "      <td>0.765</td>\n",
       "      <td>0.60</td>\n",
       "      <td>fat</td>\n",
       "    </tr>\n",
       "  </tbody>\n",
       "</table>\n",
       "</div>"
      ],
      "text/plain": [
       "   height  weight   label\n",
       "0   0.710    0.62     fat\n",
       "1   0.710    0.73     fat\n",
       "2   0.885    0.61  normal\n",
       "3   0.935    0.48    thin\n",
       "4   0.765    0.60     fat"
      ]
     },
     "execution_count": 25,
     "metadata": {},
     "output_type": "execute_result"
    }
   ],
   "source": [
    "# 데이터 정규화 --- (※2)\n",
    "csv[\"height\"] = csv[\"height\"] / 200\n",
    "csv[\"weight\"] = csv[\"weight\"] / 100\n",
    "\n",
    "csv.head(5)"
   ]
  },
  {
   "cell_type": "code",
   "execution_count": 26,
   "metadata": {},
   "outputs": [],
   "source": [
    "# 레이블을 배열로 변환하기 --- (※3)\n",
    "# - thin=(1,0,0) / normal=(0,1,0) / fat=(0,0,1)\n",
    "bclass = {\"thin\": [1,0,0], \"normal\": [0,1,0], \"fat\": [0,0,1]}\n",
    "csv[\"label_pat\"] = csv[\"label\"].apply(lambda x : np.array(bclass[x]))"
   ]
  },
  {
   "cell_type": "code",
   "execution_count": 27,
   "metadata": {},
   "outputs": [],
   "source": [
    "# 테스트를 위한 데이터 분류 --- (※4)\n",
    "test_csv = csv[15000:20000]\n",
    "test_pat = test_csv[[\"weight\",\"height\"]]\n",
    "test_ans = list(test_csv[\"label_pat\"])"
   ]
  },
  {
   "cell_type": "code",
   "execution_count": 28,
   "metadata": {},
   "outputs": [],
   "source": [
    "# 데이터 플로우 그래프 구출하기 --- (※5)\n",
    "# 플레이스홀더 선언하기\n",
    "x  = tf.placeholder(tf.float32, [None, 2]) # 키와 몸무게 데이터 넣기\n",
    "y_ = tf.placeholder(tf.float32, [None, 3]) # 정답 레이블 넣기"
   ]
  },
  {
   "cell_type": "code",
   "execution_count": null,
   "metadata": {},
   "outputs": [],
   "source": [
    "[x1, x2]  * [1, 2, 3\n",
    "             3, 4, 5]    + b1, b2, b3  =   y1 , y2, y3\n",
    "            "
   ]
  },
  {
   "cell_type": "code",
   "execution_count": 29,
   "metadata": {},
   "outputs": [],
   "source": [
    "# 변수 선언하기 --- (※6)\n",
    "W = tf.Variable(tf.zeros([2, 3])); # 가중치\n",
    "b = tf.Variable(tf.zeros([3])); # 바이어스"
   ]
  },
  {
   "cell_type": "code",
   "execution_count": 30,
   "metadata": {},
   "outputs": [],
   "source": [
    "# 소프트맥스 회귀 정의하기 --- (※7)\n",
    "y = tf.nn.softmax(tf.matmul(x, W) + b)\n",
    "# Softmax(소프트맥스)는 입력받은 값을 출력으로 \n",
    "# 0~1사이의 값으로 모두 정규화하며 출력 값들의 총합은 \n",
    "# 항상 1이 되는 특성을 가진 함수"
   ]
  },
  {
   "cell_type": "code",
   "execution_count": 31,
   "metadata": {},
   "outputs": [
    {
     "data": {
      "text/html": [
       "<img src=\"https://mblogthumb-phinf.pstatic.net/MjAxNzA2MDVfNDMg/MDAxNDk2NTkwNTY2Njcx.-soSHRQ2urRoHGkkQk-OmHJ1HJIvpS3YuO1SXeecBAQg.LVPXD-PxQ5o8mK9uPMkqvp18vwjyKUypfRfYlqTv_B8g.JPEG.wideeyed/softmax_f.jpg?type=w2\"/>"
      ],
      "text/plain": [
       "<IPython.core.display.Image object>"
      ]
     },
     "execution_count": 31,
     "metadata": {},
     "output_type": "execute_result"
    }
   ],
   "source": [
    "from IPython.display import Image\n",
    "from IPython.core.display import HTML \n",
    "Image(url= \"https://mblogthumb-phinf.pstatic.net/MjAxNzA2MDVfNDMg/MDAxNDk2NTkwNTY2Njcx.-soSHRQ2urRoHGkkQk-OmHJ1HJIvpS3YuO1SXeecBAQg.LVPXD-PxQ5o8mK9uPMkqvp18vwjyKUypfRfYlqTv_B8g.JPEG.wideeyed/softmax_f.jpg?type=w2\")"
   ]
  },
  {
   "cell_type": "markdown",
   "metadata": {},
   "source": [
    " - 입력값의 대소 순서가 출력값의 대소 순서와 같다는 것을 알 수 있다.\n",
    " - 결국 가장 큰 값은 이미 소프트맥스 이전에 가장 큰 값이였다. \n",
    " - 따라서 추론(운영)단계에서 연산속도를 빠르기하기 위해 생략하기도 한다."
   ]
  },
  {
   "cell_type": "code",
   "execution_count": 32,
   "metadata": {},
   "outputs": [],
   "source": [
    "# 모델 훈련하기 --- (※8)\n",
    "cross_entropy = -tf.reduce_sum(y_ * tf.log(y))\n",
    "optimizer = tf.train.GradientDescentOptimizer(0.01)\n",
    "train = optimizer.minimize(cross_entropy)"
   ]
  },
  {
   "cell_type": "code",
   "execution_count": 33,
   "metadata": {},
   "outputs": [],
   "source": [
    "# 정답률 구하기\n",
    "predict = tf.equal(tf.argmax(y, 1), tf.argmax(y_,1))\n",
    "accuracy = tf.reduce_mean(tf.cast(predict, tf.float32))"
   ]
  },
  {
   "cell_type": "code",
   "execution_count": 34,
   "metadata": {},
   "outputs": [],
   "source": [
    "# 세션 시작하기\n",
    "sess = tf.Session()\n",
    "sess.run(tf.global_variables_initializer()) # 변수 초기화하기"
   ]
  },
  {
   "cell_type": "code",
   "execution_count": 35,
   "metadata": {},
   "outputs": [
    {
     "data": {
      "text/plain": [
       "['AggregationMethod',\n",
       " 'Assert',\n",
       " 'AttrValue',\n",
       " 'COMPILER_VERSION',\n",
       " 'ConditionalAccumulator',\n",
       " 'ConditionalAccumulatorBase',\n",
       " 'ConfigProto',\n",
       " 'DType',\n",
       " 'DeviceSpec',\n",
       " 'Dimension',\n",
       " 'Event',\n",
       " 'FIFOQueue',\n",
       " 'FixedLenFeature',\n",
       " 'FixedLenSequenceFeature',\n",
       " 'FixedLengthRecordReader',\n",
       " 'GIT_VERSION',\n",
       " 'GPUOptions',\n",
       " 'GRAPH_DEF_VERSION',\n",
       " 'GRAPH_DEF_VERSION_MIN_CONSUMER',\n",
       " 'GRAPH_DEF_VERSION_MIN_PRODUCER',\n",
       " 'Graph',\n",
       " 'GraphDef',\n",
       " 'GraphKeys',\n",
       " 'GraphOptions',\n",
       " 'HistogramProto',\n",
       " 'IdentityReader',\n",
       " 'IndexedSlices',\n",
       " 'InteractiveSession',\n",
       " 'LogMessage',\n",
       " 'NameAttrList',\n",
       " 'NoGradient',\n",
       " 'NodeDef',\n",
       " 'NotDifferentiable',\n",
       " 'OpError',\n",
       " 'Operation',\n",
       " 'OptimizerOptions',\n",
       " 'PaddingFIFOQueue',\n",
       " 'Print',\n",
       " 'PriorityQueue',\n",
       " 'QUANTIZED_DTYPES',\n",
       " 'QueueBase',\n",
       " 'RandomShuffleQueue',\n",
       " 'ReaderBase',\n",
       " 'RegisterGradient',\n",
       " 'RunMetadata',\n",
       " 'RunOptions',\n",
       " 'Session',\n",
       " 'SessionLog',\n",
       " 'SparseConditionalAccumulator',\n",
       " 'SparseFeature',\n",
       " 'SparseTensor',\n",
       " 'SparseTensorValue',\n",
       " 'Summary',\n",
       " 'TFRecordReader',\n",
       " 'Tensor',\n",
       " 'TensorArray',\n",
       " 'TensorInfo',\n",
       " 'TensorShape',\n",
       " 'TextLineReader',\n",
       " 'VERSION',\n",
       " 'VarLenFeature',\n",
       " 'Variable',\n",
       " 'VariableScope',\n",
       " 'WholeFileReader',\n",
       " '_LazyContribLoader',\n",
       " '__builtins__',\n",
       " '__cached__',\n",
       " '__compiler_version__',\n",
       " '__doc__',\n",
       " '__file__',\n",
       " '__git_version__',\n",
       " '__loader__',\n",
       " '__name__',\n",
       " '__package__',\n",
       " '__path__',\n",
       " '__spec__',\n",
       " '__version__',\n",
       " 'abs',\n",
       " 'accumulate_n',\n",
       " 'acos',\n",
       " 'add',\n",
       " 'add_check_numerics_ops',\n",
       " 'add_n',\n",
       " 'add_to_collection',\n",
       " 'all_variables',\n",
       " 'app',\n",
       " 'arg_max',\n",
       " 'arg_min',\n",
       " 'argmax',\n",
       " 'argmin',\n",
       " 'as_dtype',\n",
       " 'as_string',\n",
       " 'asin',\n",
       " 'assert_equal',\n",
       " 'assert_greater',\n",
       " 'assert_greater_equal',\n",
       " 'assert_integer',\n",
       " 'assert_less',\n",
       " 'assert_less_equal',\n",
       " 'assert_negative',\n",
       " 'assert_non_negative',\n",
       " 'assert_non_positive',\n",
       " 'assert_none_equal',\n",
       " 'assert_positive',\n",
       " 'assert_proper_iterable',\n",
       " 'assert_rank',\n",
       " 'assert_rank_at_least',\n",
       " 'assert_type',\n",
       " 'assert_variables_initialized',\n",
       " 'assign',\n",
       " 'assign_add',\n",
       " 'assign_sub',\n",
       " 'atan',\n",
       " 'batch_to_space',\n",
       " 'batch_to_space_nd',\n",
       " 'betainc',\n",
       " 'bfloat16',\n",
       " 'bincount',\n",
       " 'bitcast',\n",
       " 'bool',\n",
       " 'boolean_mask',\n",
       " 'broadcast_dynamic_shape',\n",
       " 'broadcast_static_shape',\n",
       " 'case',\n",
       " 'cast',\n",
       " 'ceil',\n",
       " 'check_numerics',\n",
       " 'cholesky',\n",
       " 'cholesky_solve',\n",
       " 'clip_by_average_norm',\n",
       " 'clip_by_global_norm',\n",
       " 'clip_by_norm',\n",
       " 'clip_by_value',\n",
       " 'compat',\n",
       " 'complex',\n",
       " 'complex128',\n",
       " 'complex64',\n",
       " 'concat',\n",
       " 'cond',\n",
       " 'confusion_matrix',\n",
       " 'conj',\n",
       " 'constant',\n",
       " 'constant_initializer',\n",
       " 'container',\n",
       " 'contrib',\n",
       " 'control_dependencies',\n",
       " 'convert_to_tensor',\n",
       " 'convert_to_tensor_or_indexed_slices',\n",
       " 'convert_to_tensor_or_sparse_tensor',\n",
       " 'cos',\n",
       " 'count_nonzero',\n",
       " 'count_up_to',\n",
       " 'create_partitioned_variables',\n",
       " 'cross',\n",
       " 'cumprod',\n",
       " 'cumsum',\n",
       " 'decode_base64',\n",
       " 'decode_csv',\n",
       " 'decode_json_example',\n",
       " 'decode_raw',\n",
       " 'delete_session_tensor',\n",
       " 'depth_to_space',\n",
       " 'dequantize',\n",
       " 'deserialize_many_sparse',\n",
       " 'device',\n",
       " 'diag',\n",
       " 'diag_part',\n",
       " 'digamma',\n",
       " 'div',\n",
       " 'divide',\n",
       " 'double',\n",
       " 'dynamic_partition',\n",
       " 'dynamic_stitch',\n",
       " 'edit_distance',\n",
       " 'einsum',\n",
       " 'encode_base64',\n",
       " 'equal',\n",
       " 'erf',\n",
       " 'erfc',\n",
       " 'errors',\n",
       " 'estimator',\n",
       " 'exp',\n",
       " 'expand_dims',\n",
       " 'expm1',\n",
       " 'extract_image_patches',\n",
       " 'eye',\n",
       " 'fake_quant_with_min_max_args',\n",
       " 'fake_quant_with_min_max_args_gradient',\n",
       " 'fake_quant_with_min_max_vars',\n",
       " 'fake_quant_with_min_max_vars_gradient',\n",
       " 'fake_quant_with_min_max_vars_per_channel',\n",
       " 'fake_quant_with_min_max_vars_per_channel_gradient',\n",
       " 'fft',\n",
       " 'fft2d',\n",
       " 'fft3d',\n",
       " 'fill',\n",
       " 'fixed_size_partitioner',\n",
       " 'flags',\n",
       " 'float16',\n",
       " 'float32',\n",
       " 'float64',\n",
       " 'floor',\n",
       " 'floor_div',\n",
       " 'floordiv',\n",
       " 'floormod',\n",
       " 'foldl',\n",
       " 'foldr',\n",
       " 'gather',\n",
       " 'gather_nd',\n",
       " 'get_collection',\n",
       " 'get_collection_ref',\n",
       " 'get_default_graph',\n",
       " 'get_default_session',\n",
       " 'get_local_variable',\n",
       " 'get_seed',\n",
       " 'get_session_handle',\n",
       " 'get_session_tensor',\n",
       " 'get_variable',\n",
       " 'get_variable_scope',\n",
       " 'gfile',\n",
       " 'global_norm',\n",
       " 'global_variables',\n",
       " 'global_variables_initializer',\n",
       " 'gradients',\n",
       " 'graph_util',\n",
       " 'greater',\n",
       " 'greater_equal',\n",
       " 'group',\n",
       " 'half',\n",
       " 'hessians',\n",
       " 'histogram_fixed_width',\n",
       " 'identity',\n",
       " 'ifft',\n",
       " 'ifft2d',\n",
       " 'ifft3d',\n",
       " 'igamma',\n",
       " 'igammac',\n",
       " 'imag',\n",
       " 'image',\n",
       " 'import_graph_def',\n",
       " 'initialize_all_tables',\n",
       " 'initialize_all_variables',\n",
       " 'initialize_local_variables',\n",
       " 'initialize_variables',\n",
       " 'int16',\n",
       " 'int32',\n",
       " 'int64',\n",
       " 'int8',\n",
       " 'invert_permutation',\n",
       " 'is_finite',\n",
       " 'is_inf',\n",
       " 'is_nan',\n",
       " 'is_non_decreasing',\n",
       " 'is_numeric_tensor',\n",
       " 'is_strictly_increasing',\n",
       " 'is_variable_initialized',\n",
       " 'layers',\n",
       " 'lbeta',\n",
       " 'less',\n",
       " 'less_equal',\n",
       " 'lgamma',\n",
       " 'lin_space',\n",
       " 'linspace',\n",
       " 'load_file_system_library',\n",
       " 'load_op_library',\n",
       " 'local_variables',\n",
       " 'local_variables_initializer',\n",
       " 'log',\n",
       " 'log1p',\n",
       " 'logging',\n",
       " 'logical_and',\n",
       " 'logical_not',\n",
       " 'logical_or',\n",
       " 'logical_xor',\n",
       " 'losses',\n",
       " 'make_template',\n",
       " 'map_fn',\n",
       " 'matching_files',\n",
       " 'matmul',\n",
       " 'matrix_band_part',\n",
       " 'matrix_determinant',\n",
       " 'matrix_diag',\n",
       " 'matrix_diag_part',\n",
       " 'matrix_inverse',\n",
       " 'matrix_set_diag',\n",
       " 'matrix_solve',\n",
       " 'matrix_solve_ls',\n",
       " 'matrix_transpose',\n",
       " 'matrix_triangular_solve',\n",
       " 'maximum',\n",
       " 'meshgrid',\n",
       " 'metrics',\n",
       " 'min_max_variable_partitioner',\n",
       " 'minimum',\n",
       " 'mod',\n",
       " 'model_variables',\n",
       " 'moving_average_variables',\n",
       " 'multinomial',\n",
       " 'multiply',\n",
       " 'name_scope',\n",
       " 'negative',\n",
       " 'newaxis',\n",
       " 'nn',\n",
       " 'no_op',\n",
       " 'no_regularizer',\n",
       " 'norm',\n",
       " 'not_equal',\n",
       " 'one_hot',\n",
       " 'ones',\n",
       " 'ones_initializer',\n",
       " 'ones_like',\n",
       " 'op_scope',\n",
       " 'orthogonal_initializer',\n",
       " 'pad',\n",
       " 'parallel_stack',\n",
       " 'parse_example',\n",
       " 'parse_single_example',\n",
       " 'parse_single_sequence_example',\n",
       " 'parse_tensor',\n",
       " 'placeholder',\n",
       " 'placeholder_with_default',\n",
       " 'polygamma',\n",
       " 'pow',\n",
       " 'py_func',\n",
       " 'python_io',\n",
       " 'pywrap_tensorflow',\n",
       " 'qint16',\n",
       " 'qint32',\n",
       " 'qint8',\n",
       " 'qr',\n",
       " 'quantize_v2',\n",
       " 'quantized_concat',\n",
       " 'quint16',\n",
       " 'quint8',\n",
       " 'random_crop',\n",
       " 'random_gamma',\n",
       " 'random_normal',\n",
       " 'random_normal_initializer',\n",
       " 'random_poisson',\n",
       " 'random_shuffle',\n",
       " 'random_uniform',\n",
       " 'random_uniform_initializer',\n",
       " 'range',\n",
       " 'rank',\n",
       " 'read_file',\n",
       " 'real',\n",
       " 'realdiv',\n",
       " 'reciprocal',\n",
       " 'reduce_all',\n",
       " 'reduce_any',\n",
       " 'reduce_join',\n",
       " 'reduce_logsumexp',\n",
       " 'reduce_max',\n",
       " 'reduce_mean',\n",
       " 'reduce_min',\n",
       " 'reduce_prod',\n",
       " 'reduce_sum',\n",
       " 'register_tensor_conversion_function',\n",
       " 'report_uninitialized_variables',\n",
       " 'required_space_to_batch_paddings',\n",
       " 'reset_default_graph',\n",
       " 'reshape',\n",
       " 'resource',\n",
       " 'resource_loader',\n",
       " 'reverse',\n",
       " 'reverse_sequence',\n",
       " 'reverse_v2',\n",
       " 'rint',\n",
       " 'round',\n",
       " 'rsqrt',\n",
       " 'saturate_cast',\n",
       " 'saved_model',\n",
       " 'scalar_mul',\n",
       " 'scan',\n",
       " 'scatter_add',\n",
       " 'scatter_div',\n",
       " 'scatter_mul',\n",
       " 'scatter_nd',\n",
       " 'scatter_nd_add',\n",
       " 'scatter_nd_sub',\n",
       " 'scatter_nd_update',\n",
       " 'scatter_sub',\n",
       " 'scatter_update',\n",
       " 'sdca',\n",
       " 'segment_max',\n",
       " 'segment_mean',\n",
       " 'segment_min',\n",
       " 'segment_prod',\n",
       " 'segment_sum',\n",
       " 'self_adjoint_eig',\n",
       " 'self_adjoint_eigvals',\n",
       " 'sequence_mask',\n",
       " 'serialize_many_sparse',\n",
       " 'serialize_sparse',\n",
       " 'set_random_seed',\n",
       " 'setdiff1d',\n",
       " 'sets',\n",
       " 'shape',\n",
       " 'shape_n',\n",
       " 'sigmoid',\n",
       " 'sign',\n",
       " 'sin',\n",
       " 'size',\n",
       " 'slice',\n",
       " 'space_to_batch',\n",
       " 'space_to_batch_nd',\n",
       " 'space_to_depth',\n",
       " 'sparse_add',\n",
       " 'sparse_concat',\n",
       " 'sparse_fill_empty_rows',\n",
       " 'sparse_mask',\n",
       " 'sparse_matmul',\n",
       " 'sparse_maximum',\n",
       " 'sparse_merge',\n",
       " 'sparse_minimum',\n",
       " 'sparse_placeholder',\n",
       " 'sparse_reduce_sum',\n",
       " 'sparse_reduce_sum_sparse',\n",
       " 'sparse_reorder',\n",
       " 'sparse_reset_shape',\n",
       " 'sparse_reshape',\n",
       " 'sparse_retain',\n",
       " 'sparse_segment_mean',\n",
       " 'sparse_segment_sqrt_n',\n",
       " 'sparse_segment_sum',\n",
       " 'sparse_softmax',\n",
       " 'sparse_split',\n",
       " 'sparse_tensor_dense_matmul',\n",
       " 'sparse_tensor_to_dense',\n",
       " 'sparse_to_dense',\n",
       " 'sparse_to_indicator',\n",
       " 'sparse_transpose',\n",
       " 'spectral',\n",
       " 'split',\n",
       " 'sqrt',\n",
       " 'square',\n",
       " 'squared_difference',\n",
       " 'squeeze',\n",
       " 'stack',\n",
       " 'stop_gradient',\n",
       " 'strided_slice',\n",
       " 'string',\n",
       " 'string_join',\n",
       " 'string_split',\n",
       " 'string_to_hash_bucket',\n",
       " 'string_to_hash_bucket_fast',\n",
       " 'string_to_hash_bucket_strong',\n",
       " 'string_to_number',\n",
       " 'substr',\n",
       " 'subtract',\n",
       " 'summary',\n",
       " 'svd',\n",
       " 'sysconfig',\n",
       " 'tables_initializer',\n",
       " 'tan',\n",
       " 'tanh',\n",
       " 'tensordot',\n",
       " 'test',\n",
       " 'tile',\n",
       " 'to_bfloat16',\n",
       " 'to_double',\n",
       " 'to_float',\n",
       " 'to_int32',\n",
       " 'to_int64',\n",
       " 'trace',\n",
       " 'train',\n",
       " 'trainable_variables',\n",
       " 'transpose',\n",
       " 'truediv',\n",
       " 'truncated_normal',\n",
       " 'truncated_normal_initializer',\n",
       " 'truncatediv',\n",
       " 'truncatemod',\n",
       " 'tuple',\n",
       " 'uint16',\n",
       " 'uint8',\n",
       " 'uniform_unit_scaling_initializer',\n",
       " 'unique',\n",
       " 'unique_with_counts',\n",
       " 'unsorted_segment_max',\n",
       " 'unsorted_segment_sum',\n",
       " 'unstack',\n",
       " 'user_ops',\n",
       " 'variable_axis_size_partitioner',\n",
       " 'variable_op_scope',\n",
       " 'variable_scope',\n",
       " 'variables_initializer',\n",
       " 'verify_tensor_all_finite',\n",
       " 'where',\n",
       " 'while_loop',\n",
       " 'write_file',\n",
       " 'zeros',\n",
       " 'zeros_initializer',\n",
       " 'zeros_like',\n",
       " 'zeta']"
      ]
     },
     "execution_count": 35,
     "metadata": {},
     "output_type": "execute_result"
    }
   ],
   "source": [
    "dir(tf)"
   ]
  },
  {
   "cell_type": "code",
   "execution_count": 36,
   "metadata": {},
   "outputs": [
    {
     "name": "stdout",
     "output_type": "stream",
     "text": [
      "step= 0 cre= 108.663 acc= 0.3242\n",
      "step= 500 cre= 57.5887 acc= 0.8904\n",
      "step= 1000 cre= 45.0209 acc= 0.898\n",
      "step= 1500 cre= 41.6543 acc= 0.9566\n",
      "step= 2000 cre= 34.664 acc= 0.943\n",
      "step= 2500 cre= 34.287 acc= 0.9674\n",
      "step= 3000 cre= 26.8808 acc= 0.9726\n"
     ]
    }
   ],
   "source": [
    "# 학습시키기\n",
    "for step in range(3500):\n",
    "    i = (step * 100) % 14000\n",
    "    rows = csv[1 + i : 1 + i + 100]\n",
    "    x_pat = rows[[\"weight\",\"height\"]]\n",
    "    y_ans = list(rows[\"label_pat\"])\n",
    "    fd = {x: x_pat, y_: y_ans}\n",
    "    sess.run(train, feed_dict=fd)\n",
    "    if step % 500 == 0:\n",
    "        cre = sess.run(cross_entropy, feed_dict=fd)\n",
    "        acc = sess.run(accuracy, feed_dict={x: test_pat, y_: test_ans})\n",
    "        print(\"step=\", step, \"cre=\", cre, \"acc=\", acc)"
   ]
  },
  {
   "cell_type": "code",
   "execution_count": null,
   "metadata": {},
   "outputs": [],
   "source": [
    "# 최종적인 정답률 구하기\n",
    "acc = sess.run(accuracy, feed_dict={x: test_pat, y_: test_ans})\n",
    "print(\"정답률 =\", acc)"
   ]
  },
  {
   "cell_type": "markdown",
   "metadata": {},
   "source": []
  },
  {
   "cell_type": "code",
   "execution_count": null,
   "metadata": {},
   "outputs": [],
   "source": []
  },
  {
   "cell_type": "code",
   "execution_count": null,
   "metadata": {},
   "outputs": [],
   "source": []
  },
  {
   "cell_type": "code",
   "execution_count": null,
   "metadata": {},
   "outputs": [],
   "source": []
  },
  {
   "cell_type": "code",
   "execution_count": null,
   "metadata": {},
   "outputs": [],
   "source": []
  },
  {
   "cell_type": "code",
   "execution_count": null,
   "metadata": {},
   "outputs": [],
   "source": []
  },
  {
   "cell_type": "code",
   "execution_count": null,
   "metadata": {},
   "outputs": [],
   "source": []
  },
  {
   "cell_type": "code",
   "execution_count": null,
   "metadata": {},
   "outputs": [],
   "source": []
  },
  {
   "cell_type": "code",
   "execution_count": null,
   "metadata": {},
   "outputs": [],
   "source": []
  },
  {
   "cell_type": "code",
   "execution_count": null,
   "metadata": {},
   "outputs": [],
   "source": []
  },
  {
   "cell_type": "code",
   "execution_count": null,
   "metadata": {},
   "outputs": [],
   "source": []
  },
  {
   "cell_type": "code",
   "execution_count": null,
   "metadata": {},
   "outputs": [],
   "source": []
  },
  {
   "cell_type": "code",
   "execution_count": null,
   "metadata": {},
   "outputs": [],
   "source": []
  },
  {
   "cell_type": "code",
   "execution_count": null,
   "metadata": {},
   "outputs": [],
   "source": []
  }
 ],
 "metadata": {
  "kernelspec": {
   "display_name": "Python 3",
   "language": "python",
   "name": "python3"
  },
  "language_info": {
   "codemirror_mode": {
    "name": "ipython",
    "version": 3
   },
   "file_extension": ".py",
   "mimetype": "text/x-python",
   "name": "python",
   "nbconvert_exporter": "python",
   "pygments_lexer": "ipython3",
   "version": "3.6.4"
  }
 },
 "nbformat": 4,
 "nbformat_minor": 2
}
