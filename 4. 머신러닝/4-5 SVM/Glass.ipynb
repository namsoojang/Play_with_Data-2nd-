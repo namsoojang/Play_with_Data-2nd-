{
 "cells": [
  {
   "cell_type": "code",
   "execution_count": 56,
   "metadata": {},
   "outputs": [],
   "source": [
    "# https://www.kaggle.com/uciml/glass/data\n",
    "# https://www.kaggle.com/drwhohu/predict-glass-types-using-svm\n",
    "import pandas as pd\n",
    "from sklearn.cross_validation import train_test_split"
   ]
  },
  {
   "cell_type": "code",
   "execution_count": 57,
   "metadata": {},
   "outputs": [],
   "source": [
    "data = pd.read_csv('./glass.csv')"
   ]
  },
  {
   "cell_type": "code",
   "execution_count": null,
   "metadata": {},
   "outputs": [],
   "source": []
  },
  {
   "cell_type": "code",
   "execution_count": 58,
   "metadata": {},
   "outputs": [],
   "source": [
    "label = data['Type']"
   ]
  },
  {
   "cell_type": "code",
   "execution_count": 59,
   "metadata": {},
   "outputs": [],
   "source": [
    "# loc 원하는대로 배열을 자를 수 있음 행, 열 (처음부터 끝 행렬까지, RI열부터 Fe열까지)\n",
    "x_data = data.loc[:, 'RI': 'Fe']"
   ]
  },
  {
   "cell_type": "code",
   "execution_count": 60,
   "metadata": {},
   "outputs": [],
   "source": [
    "train_data, test_data, train_label, test_label = train_test_split(x_data, label)"
   ]
  },
  {
   "cell_type": "code",
   "execution_count": 61,
   "metadata": {},
   "outputs": [
    {
     "data": {
      "text/html": [
       "<div>\n",
       "<style scoped>\n",
       "    .dataframe tbody tr th:only-of-type {\n",
       "        vertical-align: middle;\n",
       "    }\n",
       "\n",
       "    .dataframe tbody tr th {\n",
       "        vertical-align: top;\n",
       "    }\n",
       "\n",
       "    .dataframe thead th {\n",
       "        text-align: right;\n",
       "    }\n",
       "</style>\n",
       "<table border=\"1\" class=\"dataframe\">\n",
       "  <thead>\n",
       "    <tr style=\"text-align: right;\">\n",
       "      <th></th>\n",
       "      <th>RI</th>\n",
       "      <th>Na</th>\n",
       "      <th>Mg</th>\n",
       "      <th>Al</th>\n",
       "      <th>Si</th>\n",
       "      <th>K</th>\n",
       "      <th>Ca</th>\n",
       "      <th>Ba</th>\n",
       "      <th>Fe</th>\n",
       "    </tr>\n",
       "  </thead>\n",
       "  <tbody>\n",
       "    <tr>\n",
       "      <th>count</th>\n",
       "      <td>160.000000</td>\n",
       "      <td>160.000000</td>\n",
       "      <td>160.000000</td>\n",
       "      <td>160.000000</td>\n",
       "      <td>160.000000</td>\n",
       "      <td>160.000000</td>\n",
       "      <td>160.000000</td>\n",
       "      <td>160.000000</td>\n",
       "      <td>160.000000</td>\n",
       "    </tr>\n",
       "    <tr>\n",
       "      <th>mean</th>\n",
       "      <td>1.518392</td>\n",
       "      <td>13.383062</td>\n",
       "      <td>2.784375</td>\n",
       "      <td>1.440312</td>\n",
       "      <td>72.647563</td>\n",
       "      <td>0.499188</td>\n",
       "      <td>8.899125</td>\n",
       "      <td>0.166250</td>\n",
       "      <td>0.052625</td>\n",
       "    </tr>\n",
       "    <tr>\n",
       "      <th>std</th>\n",
       "      <td>0.002802</td>\n",
       "      <td>0.772915</td>\n",
       "      <td>1.383536</td>\n",
       "      <td>0.460953</td>\n",
       "      <td>0.695667</td>\n",
       "      <td>0.571357</td>\n",
       "      <td>1.329721</td>\n",
       "      <td>0.462821</td>\n",
       "      <td>0.093711</td>\n",
       "    </tr>\n",
       "    <tr>\n",
       "      <th>min</th>\n",
       "      <td>1.511310</td>\n",
       "      <td>11.020000</td>\n",
       "      <td>0.000000</td>\n",
       "      <td>0.290000</td>\n",
       "      <td>70.160000</td>\n",
       "      <td>0.000000</td>\n",
       "      <td>5.430000</td>\n",
       "      <td>0.000000</td>\n",
       "      <td>0.000000</td>\n",
       "    </tr>\n",
       "    <tr>\n",
       "      <th>25%</th>\n",
       "      <td>1.516610</td>\n",
       "      <td>12.877500</td>\n",
       "      <td>2.405000</td>\n",
       "      <td>1.205000</td>\n",
       "      <td>72.327500</td>\n",
       "      <td>0.147500</td>\n",
       "      <td>8.237500</td>\n",
       "      <td>0.000000</td>\n",
       "      <td>0.000000</td>\n",
       "    </tr>\n",
       "    <tr>\n",
       "      <th>50%</th>\n",
       "      <td>1.517685</td>\n",
       "      <td>13.250000</td>\n",
       "      <td>3.495000</td>\n",
       "      <td>1.360000</td>\n",
       "      <td>72.790000</td>\n",
       "      <td>0.560000</td>\n",
       "      <td>8.585000</td>\n",
       "      <td>0.000000</td>\n",
       "      <td>0.000000</td>\n",
       "    </tr>\n",
       "    <tr>\n",
       "      <th>75%</th>\n",
       "      <td>1.519280</td>\n",
       "      <td>13.792500</td>\n",
       "      <td>3.612500</td>\n",
       "      <td>1.622500</td>\n",
       "      <td>73.072500</td>\n",
       "      <td>0.610000</td>\n",
       "      <td>9.140000</td>\n",
       "      <td>0.000000</td>\n",
       "      <td>0.090000</td>\n",
       "    </tr>\n",
       "    <tr>\n",
       "      <th>max</th>\n",
       "      <td>1.533930</td>\n",
       "      <td>15.790000</td>\n",
       "      <td>4.490000</td>\n",
       "      <td>3.020000</td>\n",
       "      <td>75.180000</td>\n",
       "      <td>6.210000</td>\n",
       "      <td>16.190000</td>\n",
       "      <td>2.880000</td>\n",
       "      <td>0.510000</td>\n",
       "    </tr>\n",
       "  </tbody>\n",
       "</table>\n",
       "</div>"
      ],
      "text/plain": [
       "               RI          Na          Mg          Al          Si           K  \\\n",
       "count  160.000000  160.000000  160.000000  160.000000  160.000000  160.000000   \n",
       "mean     1.518392   13.383062    2.784375    1.440312   72.647563    0.499188   \n",
       "std      0.002802    0.772915    1.383536    0.460953    0.695667    0.571357   \n",
       "min      1.511310   11.020000    0.000000    0.290000   70.160000    0.000000   \n",
       "25%      1.516610   12.877500    2.405000    1.205000   72.327500    0.147500   \n",
       "50%      1.517685   13.250000    3.495000    1.360000   72.790000    0.560000   \n",
       "75%      1.519280   13.792500    3.612500    1.622500   73.072500    0.610000   \n",
       "max      1.533930   15.790000    4.490000    3.020000   75.180000    6.210000   \n",
       "\n",
       "               Ca          Ba          Fe  \n",
       "count  160.000000  160.000000  160.000000  \n",
       "mean     8.899125    0.166250    0.052625  \n",
       "std      1.329721    0.462821    0.093711  \n",
       "min      5.430000    0.000000    0.000000  \n",
       "25%      8.237500    0.000000    0.000000  \n",
       "50%      8.585000    0.000000    0.000000  \n",
       "75%      9.140000    0.000000    0.090000  \n",
       "max     16.190000    2.880000    0.510000  "
      ]
     },
     "execution_count": 61,
     "metadata": {},
     "output_type": "execute_result"
    }
   ],
   "source": [
    "train_data.describe()"
   ]
  },
  {
   "cell_type": "code",
   "execution_count": 62,
   "metadata": {},
   "outputs": [
    {
     "data": {
      "text/plain": [
       "LinearSVC(C=1.0, class_weight=None, dual=True, fit_intercept=True,\n",
       "     intercept_scaling=1, loss='squared_hinge', max_iter=1000,\n",
       "     multi_class='ovr', penalty='l2', random_state=None, tol=0.0001,\n",
       "     verbose=0)"
      ]
     },
     "execution_count": 62,
     "metadata": {},
     "output_type": "execute_result"
    }
   ],
   "source": [
    "from sklearn import svm, metrics\n",
    "clf = svm.SVC()\n",
    "clf.fit(train_data, train_label)\n",
    "\n",
    "lclf = svm.LinearSVC()\n",
    "lclf.fit(train_data, train_label)"
   ]
  },
  {
   "cell_type": "code",
   "execution_count": 63,
   "metadata": {},
   "outputs": [],
   "source": [
    "predict = clf.predict(test_data)\n",
    "lpredict = lclf.predict(test_data)"
   ]
  },
  {
   "cell_type": "code",
   "execution_count": 64,
   "metadata": {},
   "outputs": [
    {
     "name": "stderr",
     "output_type": "stream",
     "text": [
      "c:\\users\\leedo\\desktop\\deeplearning\\venv\\lib\\site-packages\\sklearn\\metrics\\classification.py:1135: UndefinedMetricWarning: Precision and F-score are ill-defined and being set to 0.0 in labels with no predicted samples.\n",
      "  'precision', 'predicted', average, warn_for)\n"
     ]
    }
   ],
   "source": [
    "ac_score = metrics.accuracy_score(test_label, predict)\n",
    "cl_report = metrics.classification_report(test_label, predict)"
   ]
  },
  {
   "cell_type": "code",
   "execution_count": 65,
   "metadata": {},
   "outputs": [
    {
     "data": {
      "text/plain": [
       "0.59259259259259256"
      ]
     },
     "execution_count": 65,
     "metadata": {},
     "output_type": "execute_result"
    }
   ],
   "source": [
    "ac_score"
   ]
  },
  {
   "cell_type": "code",
   "execution_count": 66,
   "metadata": {},
   "outputs": [
    {
     "name": "stdout",
     "output_type": "stream",
     "text": [
      "             precision    recall  f1-score   support\n",
      "\n",
      "          1       0.67      0.71      0.69        17\n",
      "          2       0.50      0.67      0.57        18\n",
      "          3       0.00      0.00      0.00         4\n",
      "          5       0.60      0.75      0.67         4\n",
      "          6       0.00      0.00      0.00         5\n",
      "          7       0.71      0.83      0.77         6\n",
      "\n",
      "avg / total       0.50      0.59      0.54        54\n",
      "\n"
     ]
    }
   ],
   "source": [
    "print(cl_report)"
   ]
  },
  {
   "cell_type": "code",
   "execution_count": 67,
   "metadata": {},
   "outputs": [
    {
     "name": "stdout",
     "output_type": "stream",
     "text": [
      "0.203703703704\n"
     ]
    }
   ],
   "source": [
    "linear_ac_score = metrics.accuracy_score(test_label, lpredict)\n",
    "print(linear_ac_score)"
   ]
  },
  {
   "cell_type": "code",
   "execution_count": null,
   "metadata": {},
   "outputs": [],
   "source": []
  },
  {
   "cell_type": "code",
   "execution_count": null,
   "metadata": {},
   "outputs": [],
   "source": []
  }
 ],
 "metadata": {
  "kernelspec": {
   "display_name": "Python 3",
   "language": "python",
   "name": "python3"
  },
  "language_info": {
   "codemirror_mode": {
    "name": "ipython",
    "version": 3
   },
   "file_extension": ".py",
   "mimetype": "text/x-python",
   "name": "python",
   "nbconvert_exporter": "python",
   "pygments_lexer": "ipython3",
   "version": "3.6.2"
  }
 },
 "nbformat": 4,
 "nbformat_minor": 2
}
