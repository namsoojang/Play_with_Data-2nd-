{
 "cells": [
  {
   "cell_type": "code",
   "execution_count": 1,
   "metadata": {},
   "outputs": [],
   "source": [
    "# SVM에 대한 간단한 이해\n",
    "# https://youtu.be/Y6RRHw9uN9o\n",
    "\n",
    "import random"
   ]
  },
  {
   "cell_type": "code",
   "execution_count": 2,
   "metadata": {},
   "outputs": [],
   "source": [
    "# BMI 계산\n",
    "def calc_bmi(h, w):\n",
    "    bmi = w / (h / 100) ** 2\n",
    "    if bmi < 18.5:\n",
    "        return 'thin'\n",
    "    \n",
    "    if bmi < 25:\n",
    "        return 'normal'\n",
    "    \n",
    "    return 'fat'"
   ]
  },
  {
   "cell_type": "code",
   "execution_count": 3,
   "metadata": {},
   "outputs": [
    {
     "data": {
      "text/plain": [
       "21"
      ]
     },
     "execution_count": 3,
     "metadata": {},
     "output_type": "execute_result"
    }
   ],
   "source": [
    "# 출력파일 준비\n",
    "fp = open('./bmi.csv', 'w')\n",
    "fp.write('height,weight,label\\r\\n')"
   ]
  },
  {
   "cell_type": "code",
   "execution_count": 4,
   "metadata": {},
   "outputs": [
    {
     "name": "stdout",
     "output_type": "stream",
     "text": [
      "ok  {'thin': 6399, 'normal': 5996, 'fat': 7605}\n"
     ]
    }
   ],
   "source": [
    "# 무작위로 데이터 생성\n",
    "cnt = {\n",
    "    'thin': 0,\n",
    "    'normal': 0,\n",
    "    'fat': 0\n",
    "}\n",
    "\n",
    "for i in range(20000):\n",
    "    # 120 ~ 200 사이의 랜덤 값\n",
    "    h = random.randint(120, 200)\n",
    "    # 35 ~ 80 사이의 랜덤 값\n",
    "    w = random.randint(35, 80)\n",
    "    \n",
    "    label = calc_bmi(h, w)\n",
    "    cnt[label] += 1\n",
    "    fp.write('{},{},{}\\r\\n'.format(h, w, label))\n",
    "fp.close()\n",
    "print('ok ', cnt)"
   ]
  },
  {
   "cell_type": "code",
   "execution_count": null,
   "metadata": {},
   "outputs": [],
   "source": []
  }
 ],
 "metadata": {
  "kernelspec": {
   "display_name": "Python 3",
   "language": "python",
   "name": "python3"
  },
  "language_info": {
   "codemirror_mode": {
    "name": "ipython",
    "version": 3
   },
   "file_extension": ".py",
   "mimetype": "text/x-python",
   "name": "python",
   "nbconvert_exporter": "python",
   "pygments_lexer": "ipython3",
   "version": "3.6.2"
  }
 },
 "nbformat": 4,
 "nbformat_minor": 2
}
