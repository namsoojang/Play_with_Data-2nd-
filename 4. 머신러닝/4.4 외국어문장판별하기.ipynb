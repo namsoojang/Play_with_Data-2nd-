{
 "cells": [
  {
   "cell_type": "markdown",
   "metadata": {},
   "source": [
    "# 4.4 외국어 문장 판별하기 (1월 24일 발표)\n",
    "\n",
    "[예제 소스코드](http://wikibook.co.kr/python-machine-learning/)"
   ]
  },
  {
   "cell_type": "markdown",
   "metadata": {},
   "source": [
    "## 시작하기 전에\n",
    "### 주요 용어\n",
    "\n",
    "* 벡터: 공간에서 크기와 방향을 가진 것\n",
    "* 특징량: 어떤 요소가 모여 있는 것\n",
    "* 특징추출: 데이터가 어떤 특징을 갖고 있는지 찾아서 벡터로 만드는 것\n",
    "* 학습기계 = 분류/식별기(classifier) = 학습기(learner): 학습을 기반으로 분류하는 시스템\n",
    "* 회귀분석: Y가 연속값일 때 Y=f(x) 같은 모델로 나타내는 것\n",
    "* 선형회귀=단순회귀: Y=aX + b (1차함수)\n",
    "\n",
    "머신러닝 종류\n",
    "* 교사학습(supervised learning): 데이터와 함께 답을 입력 -> **기계의 도움으로 답을 예측한다.**\n",
    "* 비교사학습(unsupervised learning): 데이터만 입력 -> **기계의 도움으로 규칙을 찾는다.**\n",
    "* 강화학습(reinforcement learning): 교사학습과 비교사학습 중간 형태\n",
    "\n",
    "### 프로그램 설치\n",
    "\n",
    "```\n",
    "pip install scikit-learn scipy matplotlib scikit-image pandas\n",
    "```\n",
    "\n",
    "### 연산 학습 과정\n",
    "\n",
    "* 학습 데이터/테스트 테이터 분류\n",
    "* **fit()** 메소드: 데이터 학습 (학습 데이터 배열-문제/조건, 레이블 배열-답)\n",
    "* **predict()** 메소드: 예측 (데이터 배열 매개변수)\n",
    "* 정답률 측정"
   ]
  },
  {
   "cell_type": "markdown",
   "metadata": {},
   "source": [
    "## 외국어 판정\n",
    "* 목표: 알파벳을 사용하는 다양한 자연어(영어, 프랑스어, 인도네시아어, 타갈로그어)가 어느 나라 말인지 판별\n",
    "\n",
    "## 판정 방법\n",
    "전제/사실: 언어가 다르면 알파벳의 출현 빈도가 다르다.\n",
    "\n",
    "전략수립\n",
    "\n",
    "* 알파벳 a부터 z까지 출현 빈도를 언어별로 측정(샘플 데이터 수집)\n",
    "* 주어진 예문의 알파벳 출현 빈도를 측정하여 비교/판정\n",
    "\n",
    "## 샘플 데이터 수집\n",
    "\n",
    "* 언어: 영어, 프랑스어, 인도네시아어, 타갈로그어\n",
    "* 학습 데이터: 20개\n",
    "* 테스트 데이터: 8개"
   ]
  },
  {
   "cell_type": "markdown",
   "metadata": {},
   "source": [
    "## 언어 판별 프로그램\n",
    "\n",
    "### 언어 판별 프로그램\n",
    "\n",
    "* 소스: [lang-train.ipynb](lang-train.ipynb)\n",
    "\n",
    "주요 핵심사항\n",
    "\n",
    "* `check_freq()` 함수는 언어에 따른 알파벳 문자별 빈도수 리스트를 튜플 형태로 반환\n",
    "* 출현 횟수를 출현 빈도로 정규화(normalization) - lambda 함수와 map() - [강좌 참고](https://wikidocs.net/64)"
   ]
  },
  {
   "cell_type": "code",
   "execution_count": 1,
   "metadata": {},
   "outputs": [
    {
     "data": {
      "text/plain": [
       "[0, 1, 4, 9, 16]"
      ]
     },
     "execution_count": 1,
     "metadata": {},
     "output_type": "execute_result"
    }
   ],
   "source": [
    "list(map(lambda x: x ** 2, range(5)))"
   ]
  },
  {
   "cell_type": "code",
   "execution_count": 6,
   "metadata": {},
   "outputs": [
    {
     "name": "stdout",
     "output_type": "stream",
     "text": [
      "[0, 0, 0, 0, 0, 0, 0, 0, 0, 0, 0, 0, 0, 0, 0, 0, 0, 0, 0, 0, 0, 0, 0, 0, 0, 0]\n"
     ]
    }
   ],
   "source": [
    "cnt = [0 for n in range(0, 26)] # 알파벳 26자를 인덱싱해서 0으로 초기화\n",
    "print(cnt)"
   ]
  },
  {
   "cell_type": "code",
   "execution_count": 5,
   "metadata": {
    "collapsed": true
   },
   "outputs": [],
   "source": [
    "# list(map(lambda n: n / total, cnt))"
   ]
  },
  {
   "cell_type": "markdown",
   "metadata": {},
   "source": [
    "`map()` 함수는 함수와 리스트를 인자로 받아 리스트로부터 원소를 하나씩 꺼내서 함수를 적용시킨 다음, 그 결과를 새로운 리스트에 저장한다.\n",
    "* data 타입 = [[알파벳별빈도], [알파벳별빈도], ...]\n",
    "* label 타입 = ['tl', 'en', ...]"
   ]
  },
  {
   "cell_type": "markdown",
   "metadata": {},
   "source": [
    "### fit() 메소드의 제약사항\n",
    "주어진 요소(factor)를 2차원 리스트이다.\n",
    "* 예상하지 못한 요소가 실제로 결과를 결정하는 핵심적 요소일 수 있다.\n",
    "* 고정된 n개의 요소로 데이터를 수집하지 못하면 학습하지 못한다.\n",
    "* 요소와 레이블 사이의 인과관계를 *전제*해야 한다. - 사주팔자 인과관계가 있을까? 결과(인생)를 측정할 수 있을까?\n",
    "* 샘플 데이터(원인)의 왜곡 가능성\n"
   ]
  },
  {
   "cell_type": "markdown",
   "metadata": {},
   "source": [
    "### 분포 히스토그램 프로그램\n",
    "* 소스 [lang-plot.ipynb](lang-plot.ipynb)\n",
    "\n",
    "주요 라이브러리\n",
    "* NumPy: 수치 계산\n",
    "* mataplotlib: 그래프 시각화\n",
    "* pandas: 데이터 분석\n",
    "\n",
    "주요 핵심사항\n",
    "* 빈도 데이터 `freq.json` 로드\n",
    "* `freq.json` 파일에는 학습 데이터별로 나뉘어 있으므로 언어별 알파벳 빈도 집계(합산)\n",
    "* 그래프를 그리기 위해 pandas의 DataFrame 인스턴스에 딕셔너리 데이터를 넣는다. `index`는 `fit()`의 레이블 같은 역할\n",
    "* 막대 그래프(kind=bar) = 분포도 확인\n",
    "* 꺾은선 그래프(kind=line) = 추이 변화 확인"
   ]
  },
  {
   "cell_type": "markdown",
   "metadata": {},
   "source": [
    "## 웹 인터페이스 추가하기\n",
    "### 학습한 매개 변수 저장 프로그램\n",
    "* 소스: [lang-train-save.ipynb](lang-train-save.ipynb)\n",
    "\n",
    "주요 핵심사항\n",
    "* 빈도 데이터 `freq.json` 로드\n",
    "* 데이터 학습 결과 `lang/freq.pkl` 파일로 저장"
   ]
  },
  {
   "cell_type": "markdown",
   "metadata": {},
   "source": [
    "### 언어 판별 웹 애플리케이션\n",
    "* 소스: [lang-webapp.py](cgi-bin/lang-webapp.py)\n",
    "* 소스2(글자가 깨질경우) : [lang-webapp_encoding](./cgi-bin/lang-webapp_encoding.ipynb)\n",
    "\n",
    "주요 핵심사항\n",
    "* Jupyter로 실행할 수 없음 (인터프리터 `__file__` 상수 미지원)\n",
    "* ```python -m http.server --cgi 8080``` 명령어로 실행\n",
    "* [브라우저 확인](http://localhost:8080/cgi-bin/lang-webapp.py)"
   ]
  },
  {
   "cell_type": "markdown",
   "metadata": {},
   "source": [
    "# 4.5 서포트 벡터 머신 (SVM)\n",
    "## SVM이란\n",
    "SVM = Support Vector Machine\n",
    "\n",
    "선을 구성하는 매개변수를 조정해서 요소들을 구분하는 선을 찾고 이를 기반으로 패턴 인식\n",
    "\n",
    "- 구분선을 확실히 정할 수 있으면 이후에 새로운 패턴이 나타났을 때에도 쉽게 분류할 수 있다.\n",
    "- 마진 최대화 방침\n",
    "- 일반화 능력"
   ]
  }
 ],
 "metadata": {
  "kernelspec": {
   "display_name": "Python 3",
   "language": "python",
   "name": "python3"
  },
  "language_info": {
   "codemirror_mode": {
    "name": "ipython",
    "version": 3
   },
   "file_extension": ".py",
   "mimetype": "text/x-python",
   "name": "python",
   "nbconvert_exporter": "python",
   "pygments_lexer": "ipython3",
   "version": "3.6.2"
  }
 },
 "nbformat": 4,
 "nbformat_minor": 2
}
