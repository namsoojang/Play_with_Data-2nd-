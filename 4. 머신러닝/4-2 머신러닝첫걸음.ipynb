{
 "cells": [
  {
   "cell_type": "markdown",
   "metadata": {},
   "source": [
    "# 4-2 머신러닝 첫걸음"
   ]
  },
  {
   "cell_type": "markdown",
   "metadata": {},
   "source": [
    "## XOR(1)"
   ]
  },
  {
   "cell_type": "code",
   "execution_count": null,
   "metadata": {},
   "outputs": [],
   "source": [
    "from sklearn import svm\n",
    "# XOR의 계산 결과 데이터 --- (※1)\n",
    "xor_data = [\n",
    "    #P, Q, result\n",
    "    [0, 0, 0],\n",
    "    [0, 1, 1],\n",
    "    [1, 0, 1],\n",
    "    [1, 1, 0]\n",
    "]\n",
    "\"\"\"\n",
    "※1\n",
    "XOR이라는 연산에 대한 기초 정보를 입력한 것입니다.\n",
    "마치 \"토끼는 다른 동물에 비해 귀가 길다.\" 같은 기본적으로 사실이라고 가정하는 정보를 입력하는 것 같습니다.\n",
    "xor_data 를 '[]'를 사용해 리스트형 자료로 입력했습니다. 그냥 기초적인 예시를 그냥 숫자로 나열해 넣어둔 것 입니다.\n",
    "\n",
    "\n",
    "\"\"\""
   ]
  },
  {
   "cell_type": "code",
   "execution_count": null,
   "metadata": {},
   "outputs": [],
   "source": [
    "# 학습을 위해 데이터와 레이블 분리하기 --- (※2)\n",
    "data = []\n",
    "label = []\n",
    "for row in xor_data:\n",
    "    p = row[0]\n",
    "    q = row[1]\n",
    "    r = row[2]\n",
    "    data.append([p, q])\n",
    "    label.append(r)\n",
    "    \n",
    "\"\"\"\n",
    "※2\n",
    "컴퓨터가 이해할 수 있는 형태로 데이터를 바꾸는 단계입니다.\n",
    "예를들어 xor_data 의 네번째 줄에 있는 [1, 1, 0] 중에 첫번째 1은 0번째 순서이고, 이것을 p row 라고 부르기로 했습니다.\n",
    "그래서 p = row[0] 입니다.\n",
    "나머지 q와 r도 같은 방식으로 각각 변수를 선언합니다.\n",
    "\n",
    "append 함수는 변수명 뒤에 '.'을 붙여서 리스트 맨 마지막에 뭔가를 추가하는 것입니다.\n",
    "----------------------------------------------------------\n",
    "(질문)\n",
    "그런데 data.append([p,q]) 는 어떤 의미인지 잘 모르겠습니다.\n",
    "위에 data = [] 라고 리스트를 비워놨으니 \n",
    "data.append([p,q])라고 하면 data = [p,q] 가 되는건가요?\n",
    "그렇다면 왜 바로 data = [p,q]라고 하지 않는건가요?\n",
    "\n",
    "\n",
    "(질문)\n",
    "왜 row 다음에 ()가 아니라 []를 쓴건가요? 위에 자료가 리스트라서 그런가요?\n",
    "아니면 그냥 row 뒤에는 원래 []를 쓰는건가요?\n",
    "\n",
    "\"\"\"\n",
    "    "
   ]
  },
  {
   "cell_type": "code",
   "execution_count": null,
   "metadata": {},
   "outputs": [],
   "source": [
    "print(data)\n",
    "print(label)"
   ]
  },
  {
   "cell_type": "code",
   "execution_count": null,
   "metadata": {},
   "outputs": [],
   "source": [
    "    \n",
    "# 데이터 학습시키기 --- (※3)\n",
    "clf = svm.SVC()\n",
    "clf.fit(data, label)\n",
    "\n",
    "\"\"\"\n",
    "svm = support vector machine 서포트 백터 머신\n",
    "기계 학습의 분야 중 하나로 패턴 인식, 자료 분석을 위한 지도 학습모델 from 위키백과\n",
    "\n",
    "(질문)\n",
    "SVC는 뭔지 잘 모르겠습니다.\n",
    "\n",
    "fit()  < fit 다음에 학습했던 데이터를 넣습니다.\n",
    "fit()에는 데이터, 답의 순서대로 넣습니다. 현재 예제에서는 data가 데이터, label이 답입니다.\n",
    "이미 데이터를 변수 data, lable로 선언해두어서 그냥 숫자가 아닌 data, label를 썼습니다.\n",
    "변수 선언을 안해놨으면 그냥 숫자를 써도 됩니다.\n",
    "\n",
    "\"\"\""
   ]
  },
  {
   "cell_type": "code",
   "execution_count": null,
   "metadata": {},
   "outputs": [],
   "source": [
    "# 데이터 예측하기 --- (※4)\n",
    "pre = clf.predict(data)\n",
    "print(\" 예측결과:\", pre)"
   ]
  },
  {
   "cell_type": "code",
   "execution_count": null,
   "metadata": {},
   "outputs": [],
   "source": [
    "# 결과 확인하기 --- (※5)\n",
    "ok = 0; total = 0\n",
    "for idx, answer in enumerate(label):\n",
    "    p = pre[idx]\n",
    "    if p == answer: ok += 1\n",
    "    total += 1\n",
    "print(\"정답률:\", ok, \"/\", total, \"=\", ok/total)"
   ]
  },
  {
   "cell_type": "markdown",
   "metadata": {},
   "source": []
  },
  {
   "cell_type": "markdown",
   "metadata": {},
   "source": [
    "## XOR(2)"
   ]
  },
  {
   "cell_type": "code",
   "execution_count": null,
   "metadata": {
    "collapsed": true
   },
   "outputs": [],
   "source": [
    "\"\"\"\n",
    "동영상 강의에서는 정답률을 쉽게 구할 수 있는 기능 'metrics'에 대해서\n",
    "책에 없는 예제를 보여줬습니다. 아래 내용입니다.\n",
    "책에 있는 내용보다 이게 좀 더 알기 쉬운 것 같습니다...\n",
    "\n",
    "\"\"\"\n",
    "\n",
    "from sklearn import svm, metrics\n",
    "\n",
    "datas = [[0, 0], [1, 0], [0, 1], [1, 1]]\n",
    "labels = [0, 1, 1, 0]\n",
    "examples = [[0, 0], [1, 0]]\n",
    "examples_label = [0, 1]"
   ]
  },
  {
   "cell_type": "code",
   "execution_count": null,
   "metadata": {},
   "outputs": [],
   "source": [
    "#아래 내용만 외워두면 된다고 합니다.\n",
    "\n",
    "clf = svm.SVC() #이거랑\n",
    "clf.fit(datas, labels) #이거랑\n",
    "results = clf.predict(examples) #이거\n",
    "print(results)"
   ]
  },
  {
   "cell_type": "code",
   "execution_count": null,
   "metadata": {
    "collapsed": true
   },
   "outputs": [],
   "source": []
  },
  {
   "cell_type": "code",
   "execution_count": null,
   "metadata": {},
   "outputs": [],
   "source": [
    "score = metrics.accuracy_score(examples_label, results) #그리고 이거요\n",
    "print(\"정답률:\", score)\n",
    "\n",
    "\"\"\"\n",
    "metrics.accuracy_score는 맞는 정답과 예상하는 정답을 넣고 그 두개가 얼마나 일치하는지를 보는 함수같습니다! (맞나요..?)\n",
    "\n",
    "\"\"\""
   ]
  },
  {
   "cell_type": "markdown",
   "metadata": {},
   "source": [
    "## 붓꽃 분류(1)"
   ]
  },
  {
   "cell_type": "code",
   "execution_count": null,
   "metadata": {
    "collapsed": true
   },
   "outputs": [],
   "source": [
    "\"\"\"\n",
    "붓꽃 데이터 구하기.\n",
    "책에 있는 예제를 쓰려고 하니 좀 어려워서 저자가 동영상 강의에서 보여준 예시를 준비했습니다.\n",
    "\"\"\"\n",
    "\n",
    "import pandas\n",
    "\n",
    "from sklearn import svm, metrics\n",
    "\n",
    "csv = pandas.read_csv(\"iris.csv\") #pandas를 이용해 csv를 읽어옵니다. 읽어오는 파일 이름은 iris.csv"
   ]
  },
  {
   "cell_type": "code",
   "execution_count": null,
   "metadata": {},
   "outputs": [],
   "source": [
    "csv.head()"
   ]
  },
  {
   "cell_type": "code",
   "execution_count": null,
   "metadata": {
    "collapsed": true
   },
   "outputs": [],
   "source": [
    "data = csv[[\"SepalLength\",\"SepalWidth\",\"PetalLength\",\"PetalWidth\"]] #iris.csv 파일 안에 붓꽃에 대한 데이터 4개가 있습니다.\n",
    "label = csv[\"Name\"] #실제로 측정한 꽃받침, 꽃잎의 길이/폭에 따라 나눠놓은 품종명입니다. 하지만 예제 파일에서는 꽃의 이름대신 넘버링으로 처리했습니다."
   ]
  },
  {
   "cell_type": "code",
   "execution_count": null,
   "metadata": {},
   "outputs": [],
   "source": [
    "print(data.shape)\n",
    "data.head()"
   ]
  },
  {
   "cell_type": "code",
   "execution_count": null,
   "metadata": {},
   "outputs": [],
   "source": [
    "label.head()"
   ]
  },
  {
   "cell_type": "code",
   "execution_count": null,
   "metadata": {},
   "outputs": [],
   "source": [
    "clf = svm.SVC()\n",
    "clf.fit(data, label)\n",
    "results = clf.predict([\n",
    "    [5.1, 3.0, 1.3, 0.2] \n",
    "])\n",
    "print(results)"
   ]
  },
  {
   "cell_type": "markdown",
   "metadata": {},
   "source": [
    "## 붓꽃 분류(2)"
   ]
  },
  {
   "cell_type": "code",
   "execution_count": null,
   "metadata": {},
   "outputs": [],
   "source": [
    "\"\"\"\n",
    "붓꽃 데이터 구하기 2 : 훈련 전용 데이터와 테스트 전용 데이터로 분할하는 메서드\n",
    " - 내가 가진 데이터를 학습용/테스트용 데이터로 나누어, 학습용 데이터로 학습을 하고, 테스트용 데이터로 학습한 내용이 맞는지를 검증하는 방법\n",
    "\"\"\"\n",
    "\n",
    "import pandas\n",
    "\n",
    "from sklearn import svm, metrics\n",
    "from sklearn.model_selection import train_test_split #학습용/테스트용 데이터를 나누는 메서드를 임포트합니다.\n",
    "\n",
    "csv = pandas.read_csv(\"iris.csv\")\n",
    "data = csv[[\"SepalLength\",\"SepalWidth\",\"PetalLength\",\"PetalWidth\"]]\n",
    "label = csv[\"Name\"]\n",
    "train_data, test_data, train_label, test_label = train_test_split(data, label)\n",
    "\n",
    "# train_data, test_data, train_label, test_label = \\\n",
    "#           train_test_split(data, label)\n",
    "\"\"\"이 윗부분이 학습용/테스트용 데이터를 만드는 부분인 것 같은데 이해가 잘 안되네요.=\\이라는게 어떤 의미인지 구글링해서 잘 못찾았습니다.\"\"\"\n",
    "\n",
    "\n",
    "clf = svm.SVC()\n",
    "clf.fit(train_data, train_label) #여기에서 학습용 데이터로 학습을 시킵니다.\n",
    "results = clf.predict(test_data) #여기에서 테스트용 데이터로 테스트 결과를 results로 도출합니다.\n",
    "\n",
    "score = metrics.accuracy_score(results, test_label)\n",
    "#여기에서 테스트용으로 분류해놓은 (사실은 실제 붓꽃 종류를 정확하게 나눠놓은) 답과 실제 답이 얼마나 맞는지를 정답률로 확인합니다.\n",
    "\n",
    "print(\"정답률:\", score)"
   ]
  },
  {
   "cell_type": "code",
   "execution_count": 9,
   "metadata": {},
   "outputs": [
    {
     "name": "stdout",
     "output_type": "stream",
     "text": [
      "0.19.1\n"
     ]
    }
   ],
   "source": [
    "import sklearn \n",
    "print(sklearn.__version__)"
   ]
  },
  {
   "cell_type": "code",
   "execution_count": null,
   "metadata": {},
   "outputs": [],
   "source": []
  },
  {
   "cell_type": "code",
   "execution_count": null,
   "metadata": {},
   "outputs": [],
   "source": []
  }
 ],
 "metadata": {
  "kernelspec": {
   "display_name": "Python 3",
   "language": "python",
   "name": "python3"
  },
  "language_info": {
   "codemirror_mode": {
    "name": "ipython",
    "version": 3
   },
   "file_extension": ".py",
   "mimetype": "text/x-python",
   "name": "python",
   "nbconvert_exporter": "python",
   "pygments_lexer": "ipython3",
   "version": "3.6.3"
  }
 },
 "nbformat": 4,
 "nbformat_minor": 2
}
