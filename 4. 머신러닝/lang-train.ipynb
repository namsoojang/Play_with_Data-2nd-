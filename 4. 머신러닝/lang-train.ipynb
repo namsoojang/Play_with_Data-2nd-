{
 "cells": [
  {
   "cell_type": "code",
   "execution_count": 1,
   "metadata": {},
   "outputs": [
    {
     "name": "stdout",
     "output_type": "stream",
     "text": [
      "정답률 = 0.875\n",
      "리포트 =\n",
      "             precision    recall  f1-score   support\n",
      "\n",
      "         en       0.67      1.00      0.80         2\n",
      "         fr       1.00      1.00      1.00         2\n",
      "         id       1.00      0.50      0.67         2\n",
      "         tl       1.00      1.00      1.00         2\n",
      "\n",
      "avg / total       0.92      0.88      0.87         8\n",
      "\n"
     ]
    }
   ],
   "source": [
    "from sklearn import svm, metrics\n",
    "import glob, os.path, re, json\n",
    "\n",
    "\n",
    "# 텍스트를 읽어 들이고 출현 빈도 조사하기\n",
    "def check_freq(fname):\n",
    "    name = os.path.basename(fname)\n",
    "    lang = re.match(r'^[a-z]{2,}', name).group()\n",
    "    with open(fname, \"r\", encoding=\"utf-8\") as f:\n",
    "        text = f.read()\n",
    "    \n",
    "    # 모두 소문자를 기준으로 빈도수 계산\n",
    "    text = text.lower()\n",
    "\n",
    "    # 알파벳 26자를 인덱싱해서 cnt 변수 0으로 초기화\n",
    "    cnt = [0 for n in range(0, 26)]\n",
    "    \n",
    "    # 시작값 a의 아스키코드(97)와 끝값 z의 아스키코드 (122) 구하기\n",
    "    code_a = ord(\"a\")\n",
    "    code_z = ord(\"z\")\n",
    "    \n",
    "    # 알파벳 출현 횟수 구하기\n",
    "    # 텍스트에서 문자 단위로 읽어 아스키값 범위 안에 있을 때 해당 인덱스의 카운터 증가\n",
    "    for ch in text:\n",
    "        n = ord(ch)\n",
    "        if code_a <= n <= code_z: # a~z 사이에 있을 때\n",
    "            cnt[n - code_a] += 1\n",
    "            \n",
    "    # 정규화를 위해 전체 빈도수 합산\n",
    "    total = sum(cnt)\n",
    "    \n",
    "    # 정규화(normalization)하기 - 특징량의 빈도수가 다르므로 1을 기준으로 구하기 위함\n",
    "    freq = list(map(lambda n: n / total, cnt))\n",
    "    \n",
    "    return (freq, lang)\n",
    "    \n",
    "# 각 파일 처리하기\n",
    "def load_files(path):\n",
    "    freqs = []\n",
    "    labels = []\n",
    "    file_list = glob.glob(path)\n",
    "    \n",
    "    for fname in file_list:\n",
    "        r = check_freq(fname)\n",
    "        \n",
    "        # freq_tuple.txt 파일에서 r 변수 내용 확인\n",
    "        \n",
    "        freqs.append(r[0])\n",
    "        labels.append(r[1])\n",
    "        \n",
    "    return {\"freqs\":freqs, \"labels\":labels}\n",
    "\n",
    "# 학습용 데이터\n",
    "data = load_files(\"./lang/train/*.txt\")\n",
    "\n",
    "# 문제 테스트 데이터\n",
    "test = load_files(\"./lang/test/*.txt\")\n",
    "\n",
    "# 이후를 대비해서 JSON으로 결과 저장하기\n",
    "with open(\"./lang/freq.json\", \"w\", encoding=\"utf-8\") as fp:\n",
    "    json.dump([data, test], fp)\n",
    "\n",
    "# 학습하기 --- (※4)\n",
    "clf = svm.SVC()\n",
    "clf.fit(data[\"freqs\"], data[\"labels\"])\n",
    "\n",
    "# 예측하기 --- (※5)\n",
    "predict = clf.predict(test[\"freqs\"])\n",
    "\n",
    "# 결과 테스트하기 --- (※6)\n",
    "ac_score = metrics.accuracy_score(test[\"labels\"], predict)\n",
    "cl_report = metrics.classification_report(test[\"labels\"], predict)\n",
    "\n",
    "print(\"정답률 =\", ac_score)\n",
    "print(\"리포트 =\")\n",
    "print(cl_report)"
   ]
  },
  {
   "cell_type": "code",
   "execution_count": null,
   "metadata": {
    "collapsed": true
   },
   "outputs": [],
   "source": []
  }
 ],
 "metadata": {
  "kernelspec": {
   "display_name": "Python 3",
   "language": "python",
   "name": "python3"
  },
  "language_info": {
   "codemirror_mode": {
    "name": "ipython",
    "version": 3
   },
   "file_extension": ".py",
   "mimetype": "text/x-python",
   "name": "python",
   "nbconvert_exporter": "python",
   "pygments_lexer": "ipython3",
   "version": "3.6.3"
  }
 },
 "nbformat": 4,
 "nbformat_minor": 2
}
